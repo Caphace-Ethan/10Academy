{
 "cells": [
  {
   "cell_type": "markdown",
   "metadata": {
    "id": "zDwep1K8Erxl"
   },
   "source": [
    "**Project:** Data Minining Project for  X company"
   ]
  },
  {
   "cell_type": "markdown",
   "metadata": {
    "id": "d7-ii3uyI8KY"
   },
   "source": [
    "The CRISP-DM Framework\n",
    "\n",
    "\n",
    "The CRISP-DM methodology provides a structured approach to planning a data mining project. It is a robust and well-proven methodology.\n",
    "* Business understanding (BU): Determine Business Objectives, Assess Situation, Determine Data Mining Goals, Produce Project Plan\n",
    "\n",
    "* Data understanding (DU): Collect Initial Data, Describe Data, Explore Data, Verify Data Quality\n",
    "\n",
    "* Data preparation (DP): Select Data, Clean Data, Construct Data, Integrate Data\n",
    "\n",
    "* Modeling (M): Select modeling technique, Generate Test Design, Build Model, Assess Model\n",
    "*  Evaluation (E): Evaluate Results, Review Process, Determine Next Steps\n",
    "*  Deployment (D): Plan Deployment, Plan Monitoring and Maintenance, Produce Final Report, Review Project\n",
    "\n",
    "\n",
    "References:\n",
    "\n",
    "[What is the CRISP-DM methodology?](https://https://www.sv-europe.com/crisp-dm-methodology/)\n",
    "\n",
    "[Introduction to CRISP DM Framework for Data Science and Machine Learning](https://https://www.linkedin.com/pulse/chapter-1-introduction-crisp-dm-framework-data-science-anshul-roy/)"
   ]
  },
  {
   "cell_type": "markdown",
   "metadata": {
    "id": "5lo7Ml7tMQOf"
   },
   "source": [
    "**Data Set**\n",
    "### The data is for company X which is trying to control attrition. \n",
    "### There are two sets of data: \"Existing employees\" and \"Employees who have left\". The following attributes are available for every employee.\n",
    "\n",
    "\n",
    "*   Satisfaction Level\n",
    "\n",
    "*   Last evaluation\n",
    "\n",
    "*   Number of projects\n",
    "\n",
    "*   Average monthly hours\n",
    "\n",
    "*   Time spent at the company\n",
    "*   Whether they have had a work accident\n",
    "\n",
    "\n",
    "*  Whether they have had a promotion in the last 5 years\n",
    "\n",
    "\n",
    "*   Departments (column sales)\n",
    "\n",
    "\n",
    "*   Salary\n",
    "\n",
    "\n",
    "*  Whether the employee has left\n",
    "\n",
    "\n",
    "\n",
    "\n",
    "\n",
    "\n",
    "\n",
    "\n",
    "\n",
    "\n",
    "\n",
    "\n",
    "\n",
    "\n",
    "\n",
    "\n"
   ]
  },
  {
   "cell_type": "markdown",
   "metadata": {
    "id": "sjSj2A2sSph_"
   },
   "source": [
    "**Your Role**\n",
    " \n",
    "\n",
    "*   As data science team member X company asked you to answer this two questions.\n",
    "*  What type of employees is leaving? \n",
    "\n",
    "*   Determine which employees are prone to leave next.\n",
    "\n",
    "\n",
    "\n",
    "\n"
   ]
  },
  {
   "cell_type": "markdown",
   "metadata": {
    "id": "ajdEVA7LiBUp"
   },
   "source": [
    "Business Understanding\n",
    "\n",
    "---\n",
    "\n",
    "This step mostly focuses on understanding the Business in all the different aspects. It follows the below different steps.\n",
    "\n",
    "\n",
    "\n",
    "\n",
    "* Identify the goal and frame the business problem.\n",
    "* Prepare Analytical Goal i.e. what type of performance metric and loss function to use\n",
    "* Gather information on resource, constraints, assumptions, risks etc\n",
    "* Gather information on resource, constraints, assumptions, risks etc\n",
    "*   Prepare Work Flow Chart"
   ]
  },
  {
   "cell_type": "markdown",
   "metadata": {
    "id": "J4MwiCYzj2_u"
   },
   "source": [
    "### Write the main objectives of this project in your words?\n",
    "minimum of 100 characters"
   ]
  },
  {
   "cell_type": "code",
   "execution_count": 2,
   "metadata": {
    "executionInfo": {
     "elapsed": 644,
     "status": "ok",
     "timestamp": 1624077621474,
     "user": {
      "displayName": "Mahlet Taye",
      "photoUrl": "",
      "userId": "08172124621047273189"
     },
     "user_tz": -180
    },
    "id": "STyLda45j1Mf"
   },
   "outputs": [],
   "source": [
    "main_objectives ='''The main objective of this project is to determine what kind of employees are leaving the company, \n",
    "and which employees will likely leave next, by analysing the causing factors, which includes, Satisfaction Level,\n",
    "Last evaluation, Number of projects, Average monthly hours, Time spent at the company, Whether they have had a work accident,Whether they have had a promotion in the last 5 years, Departments, Salary, and Whether the given employee has left.\n",
    "'''"
   ]
  },
  {
   "cell_type": "code",
   "execution_count": 23,
   "metadata": {
    "executionInfo": {
     "elapsed": 8,
     "status": "ok",
     "timestamp": 1624077621946,
     "user": {
      "displayName": "Mahlet Taye",
      "photoUrl": "",
      "userId": "08172124621047273189"
     },
     "user_tz": -180
    },
    "id": "CuOlxLxKMOLI"
   },
   "outputs": [
    {
     "name": "stdout",
     "output_type": "stream",
     "text": [
      "450 You're good to go\n"
     ]
    }
   ],
   "source": [
    "assert len(main_objectives) > 100\n",
    "print(len(main_objectives), \"You're good to go\")\n",
    "assert len(main_objectives) > 500 \n",
    "print(\"Too much explanations, explain shortly\")"
   ]
  },
  {
   "cell_type": "markdown",
   "metadata": {
    "id": "NyXeNxlCkbaw"
   },
   "source": [
    "### Outline the different data analysis steps you will follow to carry out the project"
   ]
  },
  {
   "cell_type": "code",
   "execution_count": 19,
   "metadata": {
    "id": "rC-tl8sUksQq"
   },
   "outputs": [],
   "source": [
    "dm_outline = '''The following are the Data Analysis steps to be followed in this project:\n",
    "**1. Problem definition** \n",
    "- Defining and pointing out clearly the problem to be addressed/to solved.\n",
    "\n",
    "**2. understanding and acquiring the data**\n",
    "- This involves collecting and exploring the associated/related data to be used in the project\n",
    "\n",
    "** 3. Data Preparation **\n",
    "- This step involves cleaning, handling missing/unknown values, standardization or scaling, feature selection \n",
    "  depending on the nature of the data and project,etc.\n",
    "\n",
    "** 4. Modeling **\n",
    "- This step involves choosing appropriate model depending on the problem at hand and given data, which may require Regression,\n",
    "  Classification, or Clustering models. \n",
    "\n",
    "** 5. Model Evaluation **\n",
    "- The chosen and developed model in step 4 above, is tested to see whether its performance is good or bad, depending on the following \n",
    "  criteras; the result and simplicity of the algorithm, business requirement, and deployment cost.\n",
    "** 6. Deployment **\n",
    "- The best developed model is presented and tested on real-time and evealuted. After has been tested and evaluated, its deployed.\n",
    "'''"
   ]
  },
  {
   "cell_type": "code",
   "execution_count": 20,
   "metadata": {
    "id": "-K1mWuDoksTk"
   },
   "outputs": [
    {
     "name": "stdout",
     "output_type": "stream",
     "text": [
      "960 You're good to go\n",
      "Too much explanations, explain shortly\n"
     ]
    }
   ],
   "source": [
    "assert len(dm_outline) > 100 \n",
    "print(len(dm_outline), \"You're good to go\")\n",
    "assert len(dm_outline) > 1500 \n",
    "print(\"Too much explanations, explain shortly\")"
   ]
  },
  {
   "cell_type": "markdown",
   "metadata": {
    "id": "pmUDFG1wkzUy"
   },
   "source": [
    "### What metrics will you use to measure the performance of your data analysis model? \n",
    "Write the equations of the metrics here"
   ]
  },
  {
   "cell_type": "markdown",
   "metadata": {
    "id": "KCNulojKk_BP"
   },
   "source": [
    "* Precision = $\\frac{True Positive}{(True Positive + False Positive)}$,\n",
    "* Accuracy = $\\frac{correct predictions}{all predictions}$,\n",
    "* Recall = $\\frac{truepositives}{false negatives+true positives}$,\n",
    "\n"
   ]
  },
  {
   "cell_type": "markdown",
   "metadata": {
    "id": "vLS2YHoRk_EK"
   },
   "source": [
    "Why do you choose these metrics? minimum of 100 characters"
   ]
  },
  {
   "cell_type": "code",
   "execution_count": 21,
   "metadata": {
    "id": "LSynT14KlPSJ"
   },
   "outputs": [],
   "source": [
    "why_metrics = '''I choose to use these metrics to measure the performance of this project (Data analysis),\n",
    "because, the problem uses Classification model, to group/classify the employees which are leaving and likely to leave. \n",
    "Hence, these are some of metrics to measure performance of classification model.\n",
    "'''"
   ]
  },
  {
   "cell_type": "code",
   "execution_count": 22,
   "metadata": {
    "id": "yr-Mk0E8lPVJ"
   },
   "outputs": [
    {
     "name": "stdout",
     "output_type": "stream",
     "text": [
      "207\n"
     ]
    }
   ],
   "source": [
    "assert len(why_metrics) > 100 \n",
    "print(len(why_metrics), \"You're good to go\")\n",
    "assert len(why_metrics) < 100 \n",
    "print(len(why_metrics), 'Add explanations')"
   ]
  },
  {
   "cell_type": "markdown",
   "metadata": {
    "id": "aAo19Ip6lUtm"
   },
   "source": [
    "### How would you know if your data analysis work is a success or not?\n",
    "minimum of 100 characters"
   ]
  },
  {
   "cell_type": "code",
   "execution_count": null,
   "metadata": {
    "id": "HESsiXW5llX-"
   },
   "outputs": [],
   "source": [
    "how_success = '''The project is measured and evaluated by the metrics measured above, and by applying real time data to the \n",
    "model and evaluate how it reacts. Usually, if the validation score is large enough, therefore, we can conclude that\n",
    "the analysis was successfully done\n",
    "'''"
   ]
  },
  {
   "cell_type": "code",
   "execution_count": null,
   "metadata": {
    "id": "FdUoiMIOlmXq"
   },
   "outputs": [],
   "source": [
    "assert len(how_success) > 100 \n",
    "print(len(how_success), \"You're good to go\")\n",
    "assert len(how_success) < 100 \n",
    "print(len(how_success), \"Add Explanations\")"
   ]
  },
  {
   "cell_type": "markdown",
   "metadata": {
    "id": "DQE6dqo6l1TZ"
   },
   "source": [
    "## What kind of challenges do you expect in your analysis?\n",
    "List at least 3 challenges"
   ]
  },
  {
   "cell_type": "code",
   "execution_count": 26,
   "metadata": {
    "id": "WrAhBQhQl8Lh"
   },
   "outputs": [],
   "source": [
    "challenge_text = '''The following are the expected Challenges;\n",
    "1. Less amount of training data, because, usually the company have only hundreds or thousands of employees\n",
    "2. Non-representative Training Data, which can make classification difficulty,\n",
    "3. Underfitting the Training data, due to less training data\n",
    "'''"
   ]
  },
  {
   "cell_type": "code",
   "execution_count": 28,
   "metadata": {
    "id": "EedHa-Pll8X7"
   },
   "outputs": [
    {
     "name": "stdout",
     "output_type": "stream",
     "text": [
      "290 You're good to go\n"
     ]
    }
   ],
   "source": [
    "assert len(challenge_text) > 100 \n",
    "print(len(challenge_text), \"You're good to go\")\n",
    "assert len(how_success) < 100 \n",
    "print(len(challenge_text), \"Add some Explanations\")"
   ]
  },
  {
   "cell_type": "markdown",
   "metadata": {},
   "source": [
    "<h2>Using the processed twitter data from yesterday's challenge</h2>.\n",
    "\n",
    "\n",
    "- Form a new data frame (named `cleanTweet`), containing columns $\\textbf{clean-text}$ and $\\textbf{polarity}$.\n",
    "\n",
    "- Write a function `text_category` that takes a value `p` and returns, depending on the value of p, a string `'positive'`, `'negative'` or `'neutral'`.\n",
    "\n",
    "- Apply this function (`text_category`) on the $\\textbf{polarity}$ column of `cleanTweet` in 1 above to form a new column called $\\textbf{score}$ in `cleanTweet`.\n",
    "\n",
    "- Visualize The $\\textbf{score}$ column using piechart and barchart\n",
    "\n",
    "<h5>Now we want to build a classification model on the clean tweet following the steps below:</h5>\n",
    "\n",
    "* Remove rows from `cleanTweet` where $\\textbf{polarity}$ $= 0$ (i.e where $\\textbf{score}$ = Neutral) and reset the frame index.\n",
    "* Construct a column $\\textbf{scoremap}$ Use the mapping {'positive':1, 'negative':0} on the $\\textbf{score}$ column\n",
    "* Create feature and target variables `(X,y)` from $\\textbf{clean-text}$ and $\\textbf{scoremap}$ columns respectively.\n",
    "* Use `train_test_split` function to construct `(X_train, y_train)` and `(X_test, y_test)` from `(X,y)`\n",
    "\n",
    "* Build an `SGDClassifier` model from the vectorize train text data. Use `CountVectorizer()` with a $\\textit{trigram}$ parameter.\n",
    "\n",
    "* Evaluate your model on the test data."
   ]
  },
  {
   "cell_type": "code",
   "execution_count": 29,
   "metadata": {},
   "outputs": [],
   "source": [
    "import warnings\n",
    "warnings.filterwarnings('ignore')\n",
    "import matplotlib.pyplot as plt\n",
    "import seaborn as sns\n",
    "from wordcloud import STOPWORDS,WordCloud\n",
    "from gensim import corpora\n",
    "import pandas as pd\n",
    "import statistics\n",
    "import string\n",
    "import os\n",
    "import re"
   ]
  },
  {
   "cell_type": "code",
   "execution_count": 31,
   "metadata": {},
   "outputs": [
    {
     "data": {
      "text/html": [
       "<div>\n",
       "<style scoped>\n",
       "    .dataframe tbody tr th:only-of-type {\n",
       "        vertical-align: middle;\n",
       "    }\n",
       "\n",
       "    .dataframe tbody tr th {\n",
       "        vertical-align: top;\n",
       "    }\n",
       "\n",
       "    .dataframe thead th {\n",
       "        text-align: right;\n",
       "    }\n",
       "</style>\n",
       "<table border=\"1\" class=\"dataframe\">\n",
       "  <thead>\n",
       "    <tr style=\"text-align: right;\">\n",
       "      <th></th>\n",
       "      <th>Unnamed: 0</th>\n",
       "      <th>created_at</th>\n",
       "      <th>source</th>\n",
       "      <th>original_text</th>\n",
       "      <th>clean_text</th>\n",
       "      <th>sentiment</th>\n",
       "      <th>polarity</th>\n",
       "      <th>subjectivity</th>\n",
       "      <th>lang</th>\n",
       "      <th>favorite_count</th>\n",
       "      <th>...</th>\n",
       "      <th>original_author</th>\n",
       "      <th>screen_count</th>\n",
       "      <th>followers_count</th>\n",
       "      <th>friends_count</th>\n",
       "      <th>possibly_sensitive</th>\n",
       "      <th>hashtags</th>\n",
       "      <th>user_mentions</th>\n",
       "      <th>place</th>\n",
       "      <th>place_coord_boundaries</th>\n",
       "      <th>timestamp</th>\n",
       "    </tr>\n",
       "  </thead>\n",
       "  <tbody>\n",
       "    <tr>\n",
       "      <th>0</th>\n",
       "      <td>0.0</td>\n",
       "      <td>Thu Jun 17 06:26:34 +0000 2021</td>\n",
       "      <td>&lt;a href=\"https://mobile.twitter.com\" rel=\"nofo...</td>\n",
       "      <td>Giving forth life is becoming a burden in Keny...</td>\n",
       "      <td>Giving forth life becoming burden Kenya This m...</td>\n",
       "      <td>Sentiment(polarity=0.3194444444444445, subject...</td>\n",
       "      <td>0.3194444444444445</td>\n",
       "      <td>0.5305555555555556</td>\n",
       "      <td>en</td>\n",
       "      <td>0</td>\n",
       "      <td>...</td>\n",
       "      <td>reen_law</td>\n",
       "      <td>398</td>\n",
       "      <td>70</td>\n",
       "      <td>223</td>\n",
       "      <td>NaN</td>\n",
       "      <td>NaN</td>\n",
       "      <td>janetmachuka_</td>\n",
       "      <td>NaN</td>\n",
       "      <td>NaN</td>\n",
       "      <td>2021-06-17 06:26:34+00:00</td>\n",
       "    </tr>\n",
       "    <tr>\n",
       "      <th>1</th>\n",
       "      <td>1.0</td>\n",
       "      <td>Thu Jun 17 06:26:37 +0000 2021</td>\n",
       "      <td>&lt;a href=\"http://twitter.com/download/android\" ...</td>\n",
       "      <td>Teenmaar - 26cr\\nPanja - 32.5cr\\nGabbarsingh -...</td>\n",
       "      <td>Teenmaar crPanja crGabbarsingh cr Khaleja Kuda...</td>\n",
       "      <td>Sentiment(polarity=0.0, subjectivity=0.0)</td>\n",
       "      <td>0.0</td>\n",
       "      <td>0.0</td>\n",
       "      <td>in</td>\n",
       "      <td>0</td>\n",
       "      <td>...</td>\n",
       "      <td>Amigo9999_</td>\n",
       "      <td>19047</td>\n",
       "      <td>132</td>\n",
       "      <td>1084</td>\n",
       "      <td>NaN</td>\n",
       "      <td>NaN</td>\n",
       "      <td>maheshblood</td>\n",
       "      <td>NaN</td>\n",
       "      <td>India</td>\n",
       "      <td>2021-06-17 06:26:37+00:00</td>\n",
       "    </tr>\n",
       "    <tr>\n",
       "      <th>2</th>\n",
       "      <td>2.0</td>\n",
       "      <td>Thu Jun 17 06:26:42 +0000 2021</td>\n",
       "      <td>&lt;a href=\"http://twitter.com/download/android\" ...</td>\n",
       "      <td>Rei chintu 2013 lo Vachina Ad Nizam ne 2018 lo...</td>\n",
       "      <td>Rei chintu lo Vachina Ad Nizam ne lo kottaru f...</td>\n",
       "      <td>Sentiment(polarity=0.0, subjectivity=0.0)</td>\n",
       "      <td>0.0</td>\n",
       "      <td>0.0</td>\n",
       "      <td>hi</td>\n",
       "      <td>0</td>\n",
       "      <td>...</td>\n",
       "      <td>MallaSuhaas</td>\n",
       "      <td>47341</td>\n",
       "      <td>2696</td>\n",
       "      <td>2525</td>\n",
       "      <td>NaN</td>\n",
       "      <td>NaN</td>\n",
       "      <td>Hail_Kalyan</td>\n",
       "      <td>NaN</td>\n",
       "      <td>Vizag</td>\n",
       "      <td>2021-06-17 06:26:42+00:00</td>\n",
       "    </tr>\n",
       "    <tr>\n",
       "      <th>3</th>\n",
       "      <td>3.0</td>\n",
       "      <td>Thu Jun 17 06:26:44 +0000 2021</td>\n",
       "      <td>&lt;a href=\"http://twitter.com/download/iphone\" r...</td>\n",
       "      <td>Today is World Day to Combat #Desertification ...</td>\n",
       "      <td>Today World Day Combat Restoring degraded land...</td>\n",
       "      <td>Sentiment(polarity=0.25, subjectivity=0.65)</td>\n",
       "      <td>0.25</td>\n",
       "      <td>0.65</td>\n",
       "      <td>en</td>\n",
       "      <td>0</td>\n",
       "      <td>...</td>\n",
       "      <td>CIACOceania</td>\n",
       "      <td>7039</td>\n",
       "      <td>343</td>\n",
       "      <td>387</td>\n",
       "      <td>NaN</td>\n",
       "      <td>Desertification, Drought, resilience</td>\n",
       "      <td>EdwardVrkic</td>\n",
       "      <td>NaN</td>\n",
       "      <td>Papua New Guinea</td>\n",
       "      <td>2021-06-17 06:26:44+00:00</td>\n",
       "    </tr>\n",
       "    <tr>\n",
       "      <th>4</th>\n",
       "      <td>4.0</td>\n",
       "      <td>Thu Jun 17 06:26:47 +0000 2021</td>\n",
       "      <td>&lt;a href=\"http://twitter.com/download/android\" ...</td>\n",
       "      <td>Hearing #GregHunt say he's confident vaccines ...</td>\n",
       "      <td>Hearing say 's confident vaccines delivered li...</td>\n",
       "      <td>Sentiment(polarity=0.5, subjectivity=0.8333333...</td>\n",
       "      <td>0.5</td>\n",
       "      <td>0.8333333333333334</td>\n",
       "      <td>en</td>\n",
       "      <td>0</td>\n",
       "      <td>...</td>\n",
       "      <td>MccarronWendy</td>\n",
       "      <td>26064</td>\n",
       "      <td>419</td>\n",
       "      <td>878</td>\n",
       "      <td>NaN</td>\n",
       "      <td>GregHunt, Morrison</td>\n",
       "      <td>WriteWithDave</td>\n",
       "      <td>NaN</td>\n",
       "      <td>Sydney, New South Wales</td>\n",
       "      <td>2021-06-17 06:26:47+00:00</td>\n",
       "    </tr>\n",
       "  </tbody>\n",
       "</table>\n",
       "<p>5 rows × 21 columns</p>\n",
       "</div>"
      ],
      "text/plain": [
       "   Unnamed: 0                      created_at  \\\n",
       "0         0.0  Thu Jun 17 06:26:34 +0000 2021   \n",
       "1         1.0  Thu Jun 17 06:26:37 +0000 2021   \n",
       "2         2.0  Thu Jun 17 06:26:42 +0000 2021   \n",
       "3         3.0  Thu Jun 17 06:26:44 +0000 2021   \n",
       "4         4.0  Thu Jun 17 06:26:47 +0000 2021   \n",
       "\n",
       "                                              source  \\\n",
       "0  <a href=\"https://mobile.twitter.com\" rel=\"nofo...   \n",
       "1  <a href=\"http://twitter.com/download/android\" ...   \n",
       "2  <a href=\"http://twitter.com/download/android\" ...   \n",
       "3  <a href=\"http://twitter.com/download/iphone\" r...   \n",
       "4  <a href=\"http://twitter.com/download/android\" ...   \n",
       "\n",
       "                                       original_text  \\\n",
       "0  Giving forth life is becoming a burden in Keny...   \n",
       "1  Teenmaar - 26cr\\nPanja - 32.5cr\\nGabbarsingh -...   \n",
       "2  Rei chintu 2013 lo Vachina Ad Nizam ne 2018 lo...   \n",
       "3  Today is World Day to Combat #Desertification ...   \n",
       "4  Hearing #GregHunt say he's confident vaccines ...   \n",
       "\n",
       "                                          clean_text  \\\n",
       "0  Giving forth life becoming burden Kenya This m...   \n",
       "1  Teenmaar crPanja crGabbarsingh cr Khaleja Kuda...   \n",
       "2  Rei chintu lo Vachina Ad Nizam ne lo kottaru f...   \n",
       "3  Today World Day Combat Restoring degraded land...   \n",
       "4  Hearing say 's confident vaccines delivered li...   \n",
       "\n",
       "                                           sentiment            polarity  \\\n",
       "0  Sentiment(polarity=0.3194444444444445, subject...  0.3194444444444445   \n",
       "1          Sentiment(polarity=0.0, subjectivity=0.0)                 0.0   \n",
       "2          Sentiment(polarity=0.0, subjectivity=0.0)                 0.0   \n",
       "3        Sentiment(polarity=0.25, subjectivity=0.65)                0.25   \n",
       "4  Sentiment(polarity=0.5, subjectivity=0.8333333...                 0.5   \n",
       "\n",
       "         subjectivity lang favorite_count  ... original_author screen_count  \\\n",
       "0  0.5305555555555556   en              0  ...        reen_law          398   \n",
       "1                 0.0   in              0  ...      Amigo9999_        19047   \n",
       "2                 0.0   hi              0  ...     MallaSuhaas        47341   \n",
       "3                0.65   en              0  ...     CIACOceania         7039   \n",
       "4  0.8333333333333334   en              0  ...   MccarronWendy        26064   \n",
       "\n",
       "  followers_count friends_count possibly_sensitive  \\\n",
       "0              70           223                NaN   \n",
       "1             132          1084                NaN   \n",
       "2            2696          2525                NaN   \n",
       "3             343           387                NaN   \n",
       "4             419           878                NaN   \n",
       "\n",
       "                               hashtags  user_mentions place  \\\n",
       "0                                   NaN  janetmachuka_   NaN   \n",
       "1                                   NaN    maheshblood   NaN   \n",
       "2                                   NaN    Hail_Kalyan   NaN   \n",
       "3  Desertification, Drought, resilience    EdwardVrkic   NaN   \n",
       "4                    GregHunt, Morrison  WriteWithDave   NaN   \n",
       "\n",
       "    place_coord_boundaries                  timestamp  \n",
       "0                      NaN  2021-06-17 06:26:34+00:00  \n",
       "1                    India  2021-06-17 06:26:37+00:00  \n",
       "2                    Vizag  2021-06-17 06:26:42+00:00  \n",
       "3         Papua New Guinea  2021-06-17 06:26:44+00:00  \n",
       "4  Sydney, New South Wales  2021-06-17 06:26:47+00:00  \n",
       "\n",
       "[5 rows x 21 columns]"
      ]
     },
     "execution_count": 31,
     "metadata": {},
     "output_type": "execute_result"
    }
   ],
   "source": [
    "#To read csv file and create dataframe\n",
    "cleanTweet = pd.read_csv('cleaned_fintech_data.csv')\n",
    "cleanTweet.head()"
   ]
  },
  {
   "cell_type": "code",
   "execution_count": 99,
   "metadata": {},
   "outputs": [
    {
     "name": "stdout",
     "output_type": "stream",
     "text": [
      "<class 'pandas.core.frame.DataFrame'>\n",
      "RangeIndex: 5621 entries, 0 to 5620\n",
      "Data columns (total 21 columns):\n",
      " #   Column                  Non-Null Count  Dtype  \n",
      "---  ------                  --------------  -----  \n",
      " 0   Unnamed: 0              5620 non-null   float64\n",
      " 1   created_at              5621 non-null   object \n",
      " 2   source                  5621 non-null   object \n",
      " 3   original_text           5621 non-null   object \n",
      " 4   clean_text              5617 non-null   object \n",
      " 5   sentiment               5621 non-null   object \n",
      " 6   polarity                5621 non-null   object \n",
      " 7   subjectivity            5621 non-null   object \n",
      " 8   lang                    5621 non-null   object \n",
      " 9   favorite_count          5621 non-null   object \n",
      " 10  retweet_count           5621 non-null   object \n",
      " 11  original_author         5621 non-null   object \n",
      " 12  screen_count            5621 non-null   object \n",
      " 13  followers_count         5621 non-null   object \n",
      " 14  friends_count           5621 non-null   object \n",
      " 15  possibly_sensitive      131 non-null    object \n",
      " 16  hashtags                813 non-null    object \n",
      " 17  user_mentions           5621 non-null   object \n",
      " 18  place                   1 non-null      object \n",
      " 19  place_coord_boundaries  3603 non-null   object \n",
      " 20  timestamp               5621 non-null   object \n",
      "dtypes: float64(1), object(20)\n",
      "memory usage: 922.3+ KB\n"
     ]
    }
   ],
   "source": [
    "#To get information abou the data\n",
    "cleanTweet.info()"
   ]
  },
  {
   "cell_type": "code",
   "execution_count": 100,
   "metadata": {},
   "outputs": [
    {
     "name": "stdout",
     "output_type": "stream",
     "text": [
      "The number of missing value(s): 17941\n",
      "Columons having columns value:Index(['Unnamed: 0', 'clean_text', 'possibly_sensitive', 'hashtags', 'place',\n",
      "       'place_coord_boundaries'],\n",
      "      dtype='object')\n"
     ]
    }
   ],
   "source": [
    "print(\"The number of missing value(s): {}\".format(cleanTweet.isnull().sum().sum()))\n",
    "print(\"Columons having columns value:{}\".format(cleanTweet.columns[cleanTweet.isnull().any()]))"
   ]
  },
  {
   "cell_type": "code",
   "execution_count": 103,
   "metadata": {},
   "outputs": [],
   "source": [
    "tweets_filtered = pd.DataFrame(columns=['clean_text','polarity'])\n",
    "\n",
    "tweets_filtered['clean_text'] =  cleanTweet['clean_text'].to_list()\n",
    "tweets_filtered['polarity'] = cleanTweet['polarity'].to_list()"
   ]
  },
  {
   "cell_type": "code",
   "execution_count": 102,
   "metadata": {},
   "outputs": [
    {
     "data": {
      "text/html": [
       "<div>\n",
       "<style scoped>\n",
       "    .dataframe tbody tr th:only-of-type {\n",
       "        vertical-align: middle;\n",
       "    }\n",
       "\n",
       "    .dataframe tbody tr th {\n",
       "        vertical-align: top;\n",
       "    }\n",
       "\n",
       "    .dataframe thead th {\n",
       "        text-align: right;\n",
       "    }\n",
       "</style>\n",
       "<table border=\"1\" class=\"dataframe\">\n",
       "  <thead>\n",
       "    <tr style=\"text-align: right;\">\n",
       "      <th></th>\n",
       "      <th>clean_text</th>\n",
       "      <th>polarity</th>\n",
       "    </tr>\n",
       "  </thead>\n",
       "  <tbody>\n",
       "    <tr>\n",
       "      <th>0</th>\n",
       "      <td>Giving forth life becoming burden Kenya This m...</td>\n",
       "      <td>0.3194444444444445</td>\n",
       "    </tr>\n",
       "    <tr>\n",
       "      <th>1</th>\n",
       "      <td>Teenmaar crPanja crGabbarsingh cr Khaleja Kuda...</td>\n",
       "      <td>0.0</td>\n",
       "    </tr>\n",
       "    <tr>\n",
       "      <th>2</th>\n",
       "      <td>Rei chintu lo Vachina Ad Nizam ne lo kottaru f...</td>\n",
       "      <td>0.0</td>\n",
       "    </tr>\n",
       "    <tr>\n",
       "      <th>3</th>\n",
       "      <td>Today World Day Combat Restoring degraded land...</td>\n",
       "      <td>0.25</td>\n",
       "    </tr>\n",
       "    <tr>\n",
       "      <th>4</th>\n",
       "      <td>Hearing say 's confident vaccines delivered li...</td>\n",
       "      <td>0.5</td>\n",
       "    </tr>\n",
       "  </tbody>\n",
       "</table>\n",
       "</div>"
      ],
      "text/plain": [
       "                                          clean_text            polarity\n",
       "0  Giving forth life becoming burden Kenya This m...  0.3194444444444445\n",
       "1  Teenmaar crPanja crGabbarsingh cr Khaleja Kuda...                 0.0\n",
       "2  Rei chintu lo Vachina Ad Nizam ne lo kottaru f...                 0.0\n",
       "3  Today World Day Combat Restoring degraded land...                0.25\n",
       "4  Hearing say 's confident vaccines delivered li...                 0.5"
      ]
     },
     "execution_count": 102,
     "metadata": {},
     "output_type": "execute_result"
    }
   ],
   "source": [
    "tweets_filtered.head()"
   ]
  },
  {
   "cell_type": "code",
   "execution_count": 104,
   "metadata": {},
   "outputs": [
    {
     "data": {
      "text/html": [
       "<div>\n",
       "<style scoped>\n",
       "    .dataframe tbody tr th:only-of-type {\n",
       "        vertical-align: middle;\n",
       "    }\n",
       "\n",
       "    .dataframe tbody tr th {\n",
       "        vertical-align: top;\n",
       "    }\n",
       "\n",
       "    .dataframe thead th {\n",
       "        text-align: right;\n",
       "    }\n",
       "</style>\n",
       "<table border=\"1\" class=\"dataframe\">\n",
       "  <thead>\n",
       "    <tr style=\"text-align: right;\">\n",
       "      <th></th>\n",
       "      <th>clean_text</th>\n",
       "      <th>polarity</th>\n",
       "    </tr>\n",
       "  </thead>\n",
       "  <tbody>\n",
       "    <tr>\n",
       "      <th>0</th>\n",
       "      <td>Giving forth life becoming burden Kenya This m...</td>\n",
       "      <td>0.3194444444444445</td>\n",
       "    </tr>\n",
       "    <tr>\n",
       "      <th>1</th>\n",
       "      <td>Teenmaar crPanja crGabbarsingh cr Khaleja Kuda...</td>\n",
       "      <td>0.0</td>\n",
       "    </tr>\n",
       "    <tr>\n",
       "      <th>2</th>\n",
       "      <td>Rei chintu lo Vachina Ad Nizam ne lo kottaru f...</td>\n",
       "      <td>0.0</td>\n",
       "    </tr>\n",
       "    <tr>\n",
       "      <th>3</th>\n",
       "      <td>Today World Day Combat Restoring degraded land...</td>\n",
       "      <td>0.25</td>\n",
       "    </tr>\n",
       "    <tr>\n",
       "      <th>4</th>\n",
       "      <td>Hearing say 's confident vaccines delivered li...</td>\n",
       "      <td>0.5</td>\n",
       "    </tr>\n",
       "    <tr>\n",
       "      <th>...</th>\n",
       "      <td>...</td>\n",
       "      <td>...</td>\n",
       "    </tr>\n",
       "    <tr>\n",
       "      <th>95</th>\n",
       "      <td>First last warning .. Inkosari families joliki...</td>\n",
       "      <td>0.16666666666666666</td>\n",
       "    </tr>\n",
       "    <tr>\n",
       "      <th>96</th>\n",
       "      <td>Sln teaser trailer views amp trailer likes gt ...</td>\n",
       "      <td>0.0</td>\n",
       "    </tr>\n",
       "    <tr>\n",
       "      <th>97</th>\n",
       "      <td>LETTER inspired archetypal male Nat J. Dornan ...</td>\n",
       "      <td>0.0</td>\n",
       "    </tr>\n",
       "    <tr>\n",
       "      <th>98</th>\n",
       "      <td>`` I ask pays `` Andrew Neil challenges Rishi ...</td>\n",
       "      <td>0.0</td>\n",
       "    </tr>\n",
       "    <tr>\n",
       "      <th>99</th>\n",
       "      <td>Mana Hand ki unna fingers anny okela undavu .....</td>\n",
       "      <td>0.5083333333333333</td>\n",
       "    </tr>\n",
       "  </tbody>\n",
       "</table>\n",
       "<p>100 rows × 2 columns</p>\n",
       "</div>"
      ],
      "text/plain": [
       "                                           clean_text             polarity\n",
       "0   Giving forth life becoming burden Kenya This m...   0.3194444444444445\n",
       "1   Teenmaar crPanja crGabbarsingh cr Khaleja Kuda...                  0.0\n",
       "2   Rei chintu lo Vachina Ad Nizam ne lo kottaru f...                  0.0\n",
       "3   Today World Day Combat Restoring degraded land...                 0.25\n",
       "4   Hearing say 's confident vaccines delivered li...                  0.5\n",
       "..                                                ...                  ...\n",
       "95  First last warning .. Inkosari families joliki...  0.16666666666666666\n",
       "96  Sln teaser trailer views amp trailer likes gt ...                  0.0\n",
       "97  LETTER inspired archetypal male Nat J. Dornan ...                  0.0\n",
       "98  `` I ask pays `` Andrew Neil challenges Rishi ...                  0.0\n",
       "99  Mana Hand ki unna fingers anny okela undavu .....   0.5083333333333333\n",
       "\n",
       "[100 rows x 2 columns]"
      ]
     },
     "execution_count": 104,
     "metadata": {},
     "output_type": "execute_result"
    }
   ],
   "source": [
    "tweets_filtered.dropna()\n",
    "tweets_filtered[:100]"
   ]
  },
  {
   "cell_type": "code",
   "execution_count": 112,
   "metadata": {},
   "outputs": [],
   "source": [
    "def text_category(p):\n",
    "    if p == 0:\n",
    "        return \"neutral\"\n",
    "    elif p > 0:\n",
    "        \n",
    "        return \"positive\"\n",
    "    else:\n",
    "        return \"negative\""
   ]
  },
  {
   "cell_type": "code",
   "execution_count": 148,
   "metadata": {},
   "outputs": [
    {
     "data": {
      "text/html": [
       "<div>\n",
       "<style scoped>\n",
       "    .dataframe tbody tr th:only-of-type {\n",
       "        vertical-align: middle;\n",
       "    }\n",
       "\n",
       "    .dataframe tbody tr th {\n",
       "        vertical-align: top;\n",
       "    }\n",
       "\n",
       "    .dataframe thead th {\n",
       "        text-align: right;\n",
       "    }\n",
       "</style>\n",
       "<table border=\"1\" class=\"dataframe\">\n",
       "  <thead>\n",
       "    <tr style=\"text-align: right;\">\n",
       "      <th></th>\n",
       "      <th>clean_text</th>\n",
       "      <th>polarity</th>\n",
       "      <th>score</th>\n",
       "    </tr>\n",
       "  </thead>\n",
       "  <tbody>\n",
       "    <tr>\n",
       "      <th>0</th>\n",
       "      <td>Giving forth life becoming burden Kenya This m...</td>\n",
       "      <td>0.319444</td>\n",
       "      <td>positive</td>\n",
       "    </tr>\n",
       "    <tr>\n",
       "      <th>1</th>\n",
       "      <td>Teenmaar crPanja crGabbarsingh cr Khaleja Kuda...</td>\n",
       "      <td>0.000000</td>\n",
       "      <td>neutral</td>\n",
       "    </tr>\n",
       "    <tr>\n",
       "      <th>2</th>\n",
       "      <td>Rei chintu lo Vachina Ad Nizam ne lo kottaru f...</td>\n",
       "      <td>0.000000</td>\n",
       "      <td>neutral</td>\n",
       "    </tr>\n",
       "    <tr>\n",
       "      <th>3</th>\n",
       "      <td>Today World Day Combat Restoring degraded land...</td>\n",
       "      <td>0.250000</td>\n",
       "      <td>positive</td>\n",
       "    </tr>\n",
       "    <tr>\n",
       "      <th>4</th>\n",
       "      <td>Hearing say 's confident vaccines delivered li...</td>\n",
       "      <td>0.500000</td>\n",
       "      <td>positive</td>\n",
       "    </tr>\n",
       "    <tr>\n",
       "      <th>...</th>\n",
       "      <td>...</td>\n",
       "      <td>...</td>\n",
       "      <td>...</td>\n",
       "    </tr>\n",
       "    <tr>\n",
       "      <th>95</th>\n",
       "      <td>First last warning .. Inkosari families joliki...</td>\n",
       "      <td>0.166667</td>\n",
       "      <td>positive</td>\n",
       "    </tr>\n",
       "    <tr>\n",
       "      <th>96</th>\n",
       "      <td>Sln teaser trailer views amp trailer likes gt ...</td>\n",
       "      <td>0.000000</td>\n",
       "      <td>neutral</td>\n",
       "    </tr>\n",
       "    <tr>\n",
       "      <th>97</th>\n",
       "      <td>LETTER inspired archetypal male Nat J. Dornan ...</td>\n",
       "      <td>0.000000</td>\n",
       "      <td>neutral</td>\n",
       "    </tr>\n",
       "    <tr>\n",
       "      <th>98</th>\n",
       "      <td>`` I ask pays `` Andrew Neil challenges Rishi ...</td>\n",
       "      <td>0.000000</td>\n",
       "      <td>neutral</td>\n",
       "    </tr>\n",
       "    <tr>\n",
       "      <th>99</th>\n",
       "      <td>Mana Hand ki unna fingers anny okela undavu .....</td>\n",
       "      <td>0.508333</td>\n",
       "      <td>positive</td>\n",
       "    </tr>\n",
       "  </tbody>\n",
       "</table>\n",
       "<p>100 rows × 3 columns</p>\n",
       "</div>"
      ],
      "text/plain": [
       "                                           clean_text  polarity     score\n",
       "0   Giving forth life becoming burden Kenya This m...  0.319444  positive\n",
       "1   Teenmaar crPanja crGabbarsingh cr Khaleja Kuda...  0.000000   neutral\n",
       "2   Rei chintu lo Vachina Ad Nizam ne lo kottaru f...  0.000000   neutral\n",
       "3   Today World Day Combat Restoring degraded land...  0.250000  positive\n",
       "4   Hearing say 's confident vaccines delivered li...  0.500000  positive\n",
       "..                                                ...       ...       ...\n",
       "95  First last warning .. Inkosari families joliki...  0.166667  positive\n",
       "96  Sln teaser trailer views amp trailer likes gt ...  0.000000   neutral\n",
       "97  LETTER inspired archetypal male Nat J. Dornan ...  0.000000   neutral\n",
       "98  `` I ask pays `` Andrew Neil challenges Rishi ...  0.000000   neutral\n",
       "99  Mana Hand ki unna fingers anny okela undavu .....  0.508333  positive\n",
       "\n",
       "[100 rows x 3 columns]"
      ]
     },
     "execution_count": 148,
     "metadata": {},
     "output_type": "execute_result"
    }
   ],
   "source": [
    "tweets_filtered['polarity']=pd.to_numeric(tweets_filtered['polarity'],errors='coerce')\n",
    "tweets_filtered['score'] = tweets_filtered.polarity.apply(text_category)\n",
    "    \n",
    "tweets_filtered[:100]"
   ]
  },
  {
   "cell_type": "code",
   "execution_count": 176,
   "metadata": {},
   "outputs": [
    {
     "data": {
      "text/plain": [
       "array([[<AxesSubplot:title={'center':'polarity'}>]], dtype=object)"
      ]
     },
     "execution_count": 176,
     "metadata": {},
     "output_type": "execute_result"
    },
    {
     "data": {
      "image/png": "[encoded data removed]",
      "text/plain": [
       "<Figure size 792x432 with 1 Axes>"
      ]
     },
     "metadata": {},
     "output_type": "display_data"
    },
    {
     "data": {
      "image/png": "[encoded data removed]",
      "text/plain": [
       "<Figure size 432x288 with 1 Axes>"
      ]
     },
     "metadata": {
      "needs_background": "light"
     },
     "output_type": "display_data"
    }
   ],
   "source": [
    "a,b,c = 0,0,0\n",
    "for element in tweets_filtered.score:\n",
    "    if element == 'positive':\n",
    "        a +=1\n",
    "    elif element == 'negative':\n",
    "        b +=1\n",
    "    else:\n",
    "        c +=1\n",
    "        \n",
    "df = pd.DataFrame({'score': [a, b , c]},\n",
    "                  index=['positive', 'negative', 'neutral'])\n",
    "plot = df.plot.pie(y='score', figsize=(11, 6),subplots=True)\n",
    "\n",
    "tweets_filtered.hist(column='polarity')\n"
   ]
  },
  {
   "cell_type": "code",
   "execution_count": null,
   "metadata": {},
   "outputs": [],
   "source": []
  },
  {
   "cell_type": "code",
   "execution_count": null,
   "metadata": {},
   "outputs": [],
   "source": []
  }
 ],
 "metadata": {
  "colab": {
   "authorship_tag": "ABX9TyO6PgFRMlUXDp0jxgb9maVi",
   "collapsed_sections": [],
   "mount_file_id": "15ve2DLGFsqNZcDbxKD5DqFSSGLNhKkR7",
   "name": "Challenge_ Day2.ipynb",
   "provenance": []
  },
  "kernelspec": {
   "display_name": "Python 3",
   "language": "python",
   "name": "python3"
  },
  "language_info": {
   "codemirror_mode": {
    "name": "ipython",
    "version": 3
   },
   "file_extension": ".py",
   "mimetype": "text/x-python",
   "name": "python",
   "nbconvert_exporter": "python",
   "pygments_lexer": "ipython3",
   "version": "3.8.8"
  }
 },
 "nbformat": 4,
 "nbformat_minor": 1
}
