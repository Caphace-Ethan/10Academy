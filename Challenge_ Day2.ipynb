{
 "cells": [
  {
   "cell_type": "markdown",
   "metadata": {
    "id": "zDwep1K8Erxl"
   },
   "source": [
    "**Project:** Data Minining Project for  X company"
   ]
  },
  {
   "cell_type": "markdown",
   "metadata": {
    "id": "d7-ii3uyI8KY"
   },
   "source": [
    "The CRISP-DM Framework\n",
    "\n",
    "\n",
    "The CRISP-DM methodology provides a structured approach to planning a data mining project. It is a robust and well-proven methodology.\n",
    "* Business understanding (BU): Determine Business Objectives, Assess Situation, Determine Data Mining Goals, Produce Project Plan\n",
    "\n",
    "* Data understanding (DU): Collect Initial Data, Describe Data, Explore Data, Verify Data Quality\n",
    "\n",
    "* Data preparation (DP): Select Data, Clean Data, Construct Data, Integrate Data\n",
    "\n",
    "* Modeling (M): Select modeling technique, Generate Test Design, Build Model, Assess Model\n",
    "*  Evaluation (E): Evaluate Results, Review Process, Determine Next Steps\n",
    "*  Deployment (D): Plan Deployment, Plan Monitoring and Maintenance, Produce Final Report, Review Project\n",
    "\n",
    "\n",
    "References:\n",
    "\n",
    "[What is the CRISP-DM methodology?](https://https://www.sv-europe.com/crisp-dm-methodology/)\n",
    "\n",
    "[Introduction to CRISP DM Framework for Data Science and Machine Learning](https://https://www.linkedin.com/pulse/chapter-1-introduction-crisp-dm-framework-data-science-anshul-roy/)"
   ]
  },
  {
   "cell_type": "markdown",
   "metadata": {
    "id": "5lo7Ml7tMQOf"
   },
   "source": [
    "**Data Set**\n",
    "### The data is for company X which is trying to control attrition. \n",
    "### There are two sets of data: \"Existing employees\" and \"Employees who have left\". The following attributes are available for every employee.\n",
    "\n",
    "\n",
    "*   Satisfaction Level\n",
    "\n",
    "*   Last evaluation\n",
    "\n",
    "*   Number of projects\n",
    "\n",
    "*   Average monthly hours\n",
    "\n",
    "*   Time spent at the company\n",
    "*   Whether they have had a work accident\n",
    "\n",
    "\n",
    "*  Whether they have had a promotion in the last 5 years\n",
    "\n",
    "\n",
    "*   Departments (column sales)\n",
    "\n",
    "\n",
    "*   Salary\n",
    "\n",
    "\n",
    "*  Whether the employee has left\n",
    "\n",
    "\n",
    "\n",
    "\n",
    "\n",
    "\n",
    "\n",
    "\n",
    "\n",
    "\n",
    "\n",
    "\n",
    "\n",
    "\n",
    "\n",
    "\n"
   ]
  },
  {
   "cell_type": "markdown",
   "metadata": {
    "id": "sjSj2A2sSph_"
   },
   "source": [
    "**Your Role**\n",
    " \n",
    "\n",
    "*   As data science team member X company asked you to answer this two questions.\n",
    "*  What type of employees is leaving? \n",
    "\n",
    "*   Determine which employees are prone to leave next.\n",
    "\n",
    "\n",
    "\n",
    "\n"
   ]
  },
  {
   "cell_type": "markdown",
   "metadata": {
    "id": "ajdEVA7LiBUp"
   },
   "source": [
    "Business Understanding\n",
    "\n",
    "---\n",
    "\n",
    "This step mostly focuses on understanding the Business in all the different aspects. It follows the below different steps.\n",
    "\n",
    "\n",
    "\n",
    "\n",
    "* Identify the goal and frame the business problem.\n",
    "* Prepare Analytical Goal i.e. what type of performance metric and loss function to use\n",
    "* Gather information on resource, constraints, assumptions, risks etc\n",
    "* Gather information on resource, constraints, assumptions, risks etc\n",
    "*   Prepare Work Flow Chart"
   ]
  },
  {
   "cell_type": "markdown",
   "metadata": {
    "id": "J4MwiCYzj2_u"
   },
   "source": [
    "### Write the main objectives of this project in your words?\n",
    "minimum of 100 characters"
   ]
  },
  {
   "cell_type": "code",
   "execution_count": 1,
   "metadata": {
    "executionInfo": {
     "elapsed": 644,
     "status": "ok",
     "timestamp": 1624077621474,
     "user": {
      "displayName": "Mahlet Taye",
      "photoUrl": "",
      "userId": "08172124621047273189"
     },
     "user_tz": -180
    },
    "id": "STyLda45j1Mf"
   },
   "outputs": [],
   "source": [
    "main_objectives ='''The main objective of this project is to determine what kind of employees are leaving the company, \n",
    "and which employees will likely leave next, by analysing the causing factors, which includes, Satisfaction Level,\n",
    "Last evaluation, Number of projects, Average monthly hours, Time spent at the company, Whether they have had a work accident,Whether they have had a promotion in the last 5 years, Departments, Salary, and Whether the given employee has left.\n",
    "'''"
   ]
  },
  {
   "cell_type": "code",
   "execution_count": 3,
   "metadata": {
    "executionInfo": {
     "elapsed": 8,
     "status": "ok",
     "timestamp": 1624077621946,
     "user": {
      "displayName": "Mahlet Taye",
      "photoUrl": "",
      "userId": "08172124621047273189"
     },
     "user_tz": -180
    },
    "id": "CuOlxLxKMOLI"
   },
   "outputs": [
    {
     "name": "stdout",
     "output_type": "stream",
     "text": [
      "456 You're good to go\n",
      "Too much explanations, explain shortly\n"
     ]
    }
   ],
   "source": [
    "assert len(main_objectives) > 100\n",
    "print(len(main_objectives), \"You're good to go\")\n",
    "# assert len(main_objectives) > 500 \n",
    "print(\"Too much explanations, explain shortly\")"
   ]
  },
  {
   "cell_type": "markdown",
   "metadata": {
    "id": "NyXeNxlCkbaw"
   },
   "source": [
    "### Outline the different data analysis steps you will follow to carry out the project"
   ]
  },
  {
   "cell_type": "code",
   "execution_count": 5,
   "metadata": {
    "id": "rC-tl8sUksQq"
   },
   "outputs": [],
   "source": [
    "dm_outline = '''The following are the Data Analysis steps to be followed in this project:\n",
    "**1. Problem definition** \n",
    "- Defining and pointing out clearly the problem to be addressed/to solved.\n",
    "\n",
    "**2. understanding and acquiring the data**\n",
    "- This involves collecting and exploring the associated/related data to be used in the project\n",
    "\n",
    "** 3. Data Preparation **\n",
    "- This step involves cleaning, handling missing/unknown values, standardization or scaling, feature selection \n",
    "  depending on the nature of the data and project,etc.\n",
    "\n",
    "** 4. Modeling **\n",
    "- This step involves choosing appropriate model depending on the problem at hand and given data, which may require Regression,\n",
    "  Classification, or Clustering models. \n",
    "\n",
    "** 5. Model Evaluation **\n",
    "- The chosen and developed model in step 4 above, is tested to see whether its performance is good or bad, depending on the following \n",
    "  criteras; the result and simplicity of the algorithm, business requirement, and deployment cost.\n",
    "** 6. Deployment **\n",
    "- The best developed model is presented and tested on real-time and evealuted. After has been tested and evaluated, its deployed.\n",
    "'''"
   ]
  },
  {
   "cell_type": "code",
   "execution_count": 7,
   "metadata": {
    "id": "-K1mWuDoksTk"
   },
   "outputs": [
    {
     "name": "stdout",
     "output_type": "stream",
     "text": [
      "1107 You're good to go\n",
      "Too much explanations, explain shortly\n"
     ]
    }
   ],
   "source": [
    "assert len(dm_outline) > 100 \n",
    "print(len(dm_outline), \"You're good to go\")\n",
    "# assert len(dm_outline) > 1500 \n",
    "print(\"Too much explanations, explain shortly\")"
   ]
  },
  {
   "cell_type": "markdown",
   "metadata": {
    "id": "pmUDFG1wkzUy"
   },
   "source": [
    "### What metrics will you use to measure the performance of your data analysis model? \n",
    "Write the equations of the metrics here"
   ]
  },
  {
   "cell_type": "markdown",
   "metadata": {
    "id": "KCNulojKk_BP"
   },
   "source": [
    "* Precision = $\\frac{True Positive}{(True Positive + False Positive)}$,\n",
    "* Accuracy = $\\frac{correct predictions}{all predictions}$,\n",
    "* Recall = $\\frac{truepositives}{false negatives+true positives}$,\n",
    "\n"
   ]
  },
  {
   "cell_type": "markdown",
   "metadata": {
    "id": "vLS2YHoRk_EK"
   },
   "source": [
    "Why do you choose these metrics? minimum of 100 characters"
   ]
  },
  {
   "cell_type": "code",
   "execution_count": 8,
   "metadata": {
    "id": "LSynT14KlPSJ"
   },
   "outputs": [],
   "source": [
    "why_metrics = '''I choose to use these metrics to measure the performance of this project (Data analysis),\n",
    "because, the problem uses Classification model, to group/classify the employees which are leaving and likely to leave. \n",
    "Hence, these are some of metrics to measure performance of classification model.\n",
    "'''"
   ]
  },
  {
   "cell_type": "code",
   "execution_count": 9,
   "metadata": {
    "id": "yr-Mk0E8lPVJ"
   },
   "outputs": [
    {
     "name": "stdout",
     "output_type": "stream",
     "text": [
      "291 You're good to go\n",
      "291 Add explanations\n"
     ]
    }
   ],
   "source": [
    "assert len(why_metrics) > 100 \n",
    "print(len(why_metrics), \"You're good to go\")\n",
    "# assert len(why_metrics) < 100 \n",
    "print(len(why_metrics), 'Add explanations')"
   ]
  },
  {
   "cell_type": "markdown",
   "metadata": {
    "id": "aAo19Ip6lUtm"
   },
   "source": [
    "### How would you know if your data analysis work is a success or not?\n",
    "minimum of 100 characters"
   ]
  },
  {
   "cell_type": "code",
   "execution_count": null,
   "metadata": {
    "id": "HESsiXW5llX-"
   },
   "outputs": [],
   "source": [
    "how_success = '''The project is measured and evaluated by the metrics measured above, and by applying real time data to the \n",
    "model and evaluate how it reacts. Usually, if the validation score is large enough, therefore, we can conclude that\n",
    "the analysis was successfully done\n",
    "'''"
   ]
  },
  {
   "cell_type": "code",
   "execution_count": null,
   "metadata": {
    "id": "FdUoiMIOlmXq"
   },
   "outputs": [],
   "source": [
    "assert len(how_success) > 100 \n",
    "print(len(how_success), \"You're good to go\")\n",
    "assert len(how_success) < 100 \n",
    "print(len(how_success), \"Add Explanations\")"
   ]
  },
  {
   "cell_type": "markdown",
   "metadata": {
    "id": "DQE6dqo6l1TZ"
   },
   "source": [
    "## What kind of challenges do you expect in your analysis?\n",
    "List at least 3 challenges"
   ]
  },
  {
   "cell_type": "code",
   "execution_count": 26,
   "metadata": {
    "id": "WrAhBQhQl8Lh"
   },
   "outputs": [],
   "source": [
    "challenge_text = '''The following are the expected Challenges;\n",
    "1. Less amount of training data, because, usually the company have only hundreds or thousands of employees\n",
    "2. Non-representative Training Data, which can make classification difficulty,\n",
    "3. Underfitting the Training data, due to less training data\n",
    "'''"
   ]
  },
  {
   "cell_type": "code",
   "execution_count": 28,
   "metadata": {
    "id": "EedHa-Pll8X7"
   },
   "outputs": [
    {
     "name": "stdout",
     "output_type": "stream",
     "text": [
      "290 You're good to go\n"
     ]
    }
   ],
   "source": [
    "assert len(challenge_text) > 100 \n",
    "print(len(challenge_text), \"You're good to go\")\n",
    "assert len(how_success) < 100 \n",
    "print(len(challenge_text), \"Add some Explanations\")"
   ]
  },
  {
   "cell_type": "markdown",
   "metadata": {},
   "source": [
    "<h2>Using the processed twitter data from yesterday's challenge</h2>.\n",
    "\n",
    "\n",
    "- Form a new data frame (named `cleanTweet`), containing columns $\\textbf{clean-text}$ and $\\textbf{polarity}$.\n",
    "\n",
    "- Write a function `text_category` that takes a value `p` and returns, depending on the value of p, a string `'positive'`, `'negative'` or `'neutral'`.\n",
    "\n",
    "- Apply this function (`text_category`) on the $\\textbf{polarity}$ column of `cleanTweet` in 1 above to form a new column called $\\textbf{score}$ in `cleanTweet`.\n",
    "\n",
    "- Visualize The $\\textbf{score}$ column using piechart and barchart\n",
    "\n",
    "<h5>Now we want to build a classification model on the clean tweet following the steps below:</h5>\n",
    "\n",
    "* Remove rows from `cleanTweet` where $\\textbf{polarity}$ $= 0$ (i.e where $\\textbf{score}$ = Neutral) and reset the frame index.\n",
    "* Construct a column $\\textbf{scoremap}$ Use the mapping {'positive':1, 'negative':0} on the $\\textbf{score}$ column\n",
    "* Create feature and target variables `(X,y)` from $\\textbf{clean-text}$ and $\\textbf{scoremap}$ columns respectively.\n",
    "* Use `train_test_split` function to construct `(X_train, y_train)` and `(X_test, y_test)` from `(X,y)`\n",
    "\n",
    "* Build an `SGDClassifier` model from the vectorize train text data. Use `CountVectorizer()` with a $\\textit{trigram}$ parameter.\n",
    "\n",
    "* Evaluate your model on the test data."
   ]
  },
  {
   "cell_type": "code",
<<<<<<< HEAD
   "execution_count": 11,
=======
   "execution_count": 2,
>>>>>>> fd9580949c389c8047d5e84cadbb0368fc128eb4
   "metadata": {},
   "outputs": [],
   "source": [
    "import warnings\n",
    "warnings.filterwarnings('ignore')\n",
    "import matplotlib.pyplot as plt\n",
    "import pandas as pd"
   ]
  },
  {
   "cell_type": "code",
<<<<<<< HEAD
   "execution_count": 12,
=======
   "execution_count": 3,
>>>>>>> fd9580949c389c8047d5e84cadbb0368fc128eb4
   "metadata": {},
   "outputs": [
    {
     "data": {
      "text/html": [
       "<div>\n",
       "<style scoped>\n",
       "    .dataframe tbody tr th:only-of-type {\n",
       "        vertical-align: middle;\n",
       "    }\n",
       "\n",
       "    .dataframe tbody tr th {\n",
       "        vertical-align: top;\n",
       "    }\n",
       "\n",
       "    .dataframe thead th {\n",
       "        text-align: right;\n",
       "    }\n",
       "</style>\n",
       "<table border=\"1\" class=\"dataframe\">\n",
       "  <thead>\n",
       "    <tr style=\"text-align: right;\">\n",
       "      <th></th>\n",
       "      <th>created_at</th>\n",
       "      <th>source</th>\n",
       "      <th>original_text</th>\n",
       "      <th>clean_text</th>\n",
       "      <th>lang</th>\n",
       "      <th>sentiment</th>\n",
       "      <th>favorite_count</th>\n",
       "      <th>retweet_count</th>\n",
       "      <th>polarity</th>\n",
       "      <th>subjectivity</th>\n",
       "      <th>...</th>\n",
       "      <th>followers_count</th>\n",
       "      <th>friends_count</th>\n",
       "      <th>possibly_sensitive</th>\n",
       "      <th>hashtags</th>\n",
       "      <th>user_mentions</th>\n",
       "      <th>place</th>\n",
       "      <th>Unnamed: 17</th>\n",
       "      <th>Unnamed: 18</th>\n",
       "      <th>Unnamed: 19</th>\n",
       "      <th>Unnamed: 20</th>\n",
       "    </tr>\n",
       "  </thead>\n",
       "  <tbody>\n",
       "    <tr>\n",
       "      <th>0</th>\n",
       "      <td>Fri Jun 18 17:55:49 +0000 2021</td>\n",
       "      <td>&lt;a href=\"http://twitter.com/download/iphone\" r...</td>\n",
       "      <td>🚨Africa is \"in the midst of a full-blown third...</td>\n",
       "      <td>🚨Africa is \"in the midst of a full-blown third...</td>\n",
       "      <td>en</td>\n",
       "      <td>Sentiment(polarity=0.16666666666666666, subjec...</td>\n",
       "      <td>548</td>\n",
       "      <td>612</td>\n",
       "      <td>0.166666666666667</td>\n",
       "      <td>0.188888888888889</td>\n",
       "      <td>...</td>\n",
       "      <td>551</td>\n",
       "      <td>351</td>\n",
       "      <td>False</td>\n",
       "      <td>[]</td>\n",
       "      <td>{'screen_name': 'WHOAFRO', 'name': 'WHO Africa...</td>\n",
       "      <td>Mass</td>\n",
       "      <td>NaN</td>\n",
       "      <td>NaN</td>\n",
       "      <td>NaN</td>\n",
       "      <td>NaN</td>\n",
       "    </tr>\n",
       "    <tr>\n",
       "      <th>1</th>\n",
       "      <td>Fri Jun 18 17:55:59 +0000 2021</td>\n",
       "      <td>&lt;a href=\"https://mobile.twitter.com\" rel=\"nofo...</td>\n",
       "      <td>Dr Moeti is head of WHO in Africa, and one of ...</td>\n",
       "      <td>Dr Moeti is head of WHO in Africa, and one of ...</td>\n",
       "      <td>en</td>\n",
       "      <td>Sentiment(polarity=0.13333333333333333, subjec...</td>\n",
       "      <td>195</td>\n",
       "      <td>92</td>\n",
       "      <td>0.133333333333333</td>\n",
       "      <td>0.455555555555556</td>\n",
       "      <td>...</td>\n",
       "      <td>66</td>\n",
       "      <td>92</td>\n",
       "      <td>False</td>\n",
       "      <td>[]</td>\n",
       "      <td>NaN</td>\n",
       "      <td>Edinburgh, Scotland</td>\n",
       "      <td>NaN</td>\n",
       "      <td>NaN</td>\n",
       "      <td>NaN</td>\n",
       "      <td>NaN</td>\n",
       "    </tr>\n",
       "    <tr>\n",
       "      <th>2</th>\n",
       "      <td>Fri Jun 18 17:56:07 +0000 2021</td>\n",
       "      <td>&lt;a href=\"http://twitter.com/download/iphone\" r...</td>\n",
       "      <td>Thank you @research2note for creating this ama...</td>\n",
       "      <td>Thank you @research2note for creating this ama...</td>\n",
       "      <td>en</td>\n",
       "      <td>Sentiment(polarity=0.3166666666666667, subject...</td>\n",
       "      <td>2</td>\n",
       "      <td>1</td>\n",
       "      <td>0.316666666666667</td>\n",
       "      <td>0.483333333333333</td>\n",
       "      <td>...</td>\n",
       "      <td>1195</td>\n",
       "      <td>1176</td>\n",
       "      <td>False</td>\n",
       "      <td>['#red4research']</td>\n",
       "      <td>{'screen_name': 'Research2note', 'name': 'Rese...</td>\n",
       "      <td>NaN</td>\n",
       "      <td>NaN</td>\n",
       "      <td>NaN</td>\n",
       "      <td>NaN</td>\n",
       "      <td>NaN</td>\n",
       "    </tr>\n",
       "    <tr>\n",
       "      <th>3</th>\n",
       "      <td>Fri Jun 18 17:56:10 +0000 2021</td>\n",
       "      <td>&lt;a href=\"https://mobile.twitter.com\" rel=\"nofo...</td>\n",
       "      <td>Former Pfizer VP and Virologist, Dr. Michael Y...</td>\n",
       "      <td>Former Pfizer VP and Virologist, Dr. Michael Y...</td>\n",
       "      <td>en</td>\n",
       "      <td>Sentiment(polarity=0.08611111111111111, subjec...</td>\n",
       "      <td>1580</td>\n",
       "      <td>899</td>\n",
       "      <td>0.086111111111111</td>\n",
       "      <td>0.197222222222222</td>\n",
       "      <td>...</td>\n",
       "      <td>2666</td>\n",
       "      <td>2704</td>\n",
       "      <td>False</td>\n",
       "      <td>['#Covid19']</td>\n",
       "      <td>NaN</td>\n",
       "      <td>NaN</td>\n",
       "      <td>NaN</td>\n",
       "      <td>NaN</td>\n",
       "      <td>NaN</td>\n",
       "      <td>NaN</td>\n",
       "    </tr>\n",
       "    <tr>\n",
       "      <th>4</th>\n",
       "      <td>Fri Jun 18 17:56:20 +0000 2021</td>\n",
       "      <td>&lt;a href=\"http://twitter.com/download/android\" ...</td>\n",
       "      <td>I think it’s important that we don’t sell COVA...</td>\n",
       "      <td>I think it’s important that we don’t sell COVA...</td>\n",
       "      <td>en</td>\n",
       "      <td>Sentiment(polarity=0.27999999999999997, subjec...</td>\n",
       "      <td>72</td>\n",
       "      <td>20</td>\n",
       "      <td>0.28</td>\n",
       "      <td>0.62</td>\n",
       "      <td>...</td>\n",
       "      <td>28250</td>\n",
       "      <td>30819</td>\n",
       "      <td>False</td>\n",
       "      <td>[]</td>\n",
       "      <td>{'screen_name': 'TexasChildrens', 'name': \"Tex...</td>\n",
       "      <td>United Kingdom</td>\n",
       "      <td>NaN</td>\n",
       "      <td>NaN</td>\n",
       "      <td>NaN</td>\n",
       "      <td>NaN</td>\n",
       "    </tr>\n",
       "  </tbody>\n",
       "</table>\n",
       "<p>5 rows × 21 columns</p>\n",
       "</div>"
      ],
      "text/plain": [
       "                       created_at  \\\n",
       "0  Fri Jun 18 17:55:49 +0000 2021   \n",
       "1  Fri Jun 18 17:55:59 +0000 2021   \n",
       "2  Fri Jun 18 17:56:07 +0000 2021   \n",
       "3  Fri Jun 18 17:56:10 +0000 2021   \n",
       "4  Fri Jun 18 17:56:20 +0000 2021   \n",
       "\n",
       "                                              source  \\\n",
       "0  <a href=\"http://twitter.com/download/iphone\" r...   \n",
       "1  <a href=\"https://mobile.twitter.com\" rel=\"nofo...   \n",
       "2  <a href=\"http://twitter.com/download/iphone\" r...   \n",
       "3  <a href=\"https://mobile.twitter.com\" rel=\"nofo...   \n",
       "4  <a href=\"http://twitter.com/download/android\" ...   \n",
       "\n",
       "                                       original_text  \\\n",
       "0  🚨Africa is \"in the midst of a full-blown third...   \n",
       "1  Dr Moeti is head of WHO in Africa, and one of ...   \n",
       "2  Thank you @research2note for creating this ama...   \n",
       "3  Former Pfizer VP and Virologist, Dr. Michael Y...   \n",
       "4  I think it’s important that we don’t sell COVA...   \n",
       "\n",
       "                                          clean_text lang  \\\n",
       "0  🚨Africa is \"in the midst of a full-blown third...   en   \n",
       "1  Dr Moeti is head of WHO in Africa, and one of ...   en   \n",
       "2  Thank you @research2note for creating this ama...   en   \n",
       "3  Former Pfizer VP and Virologist, Dr. Michael Y...   en   \n",
       "4  I think it’s important that we don’t sell COVA...   en   \n",
       "\n",
       "                                           sentiment favorite_count  \\\n",
       "0  Sentiment(polarity=0.16666666666666666, subjec...            548   \n",
       "1  Sentiment(polarity=0.13333333333333333, subjec...            195   \n",
       "2  Sentiment(polarity=0.3166666666666667, subject...              2   \n",
       "3  Sentiment(polarity=0.08611111111111111, subjec...           1580   \n",
       "4  Sentiment(polarity=0.27999999999999997, subjec...             72   \n",
       "\n",
       "  retweet_count           polarity       subjectivity  ... followers_count  \\\n",
       "0           612  0.166666666666667  0.188888888888889  ...             551   \n",
       "1            92  0.133333333333333  0.455555555555556  ...              66   \n",
       "2             1  0.316666666666667  0.483333333333333  ...            1195   \n",
       "3           899  0.086111111111111  0.197222222222222  ...            2666   \n",
       "4            20               0.28               0.62  ...           28250   \n",
       "\n",
       "  friends_count possibly_sensitive           hashtags  \\\n",
       "0           351              False                 []   \n",
       "1            92              False                 []   \n",
       "2          1176              False  ['#red4research']   \n",
       "3          2704              False       ['#Covid19']   \n",
       "4         30819              False                 []   \n",
       "\n",
       "                                       user_mentions                place  \\\n",
       "0  {'screen_name': 'WHOAFRO', 'name': 'WHO Africa...                 Mass   \n",
       "1                                                NaN  Edinburgh, Scotland   \n",
       "2  {'screen_name': 'Research2note', 'name': 'Rese...                  NaN   \n",
       "3                                                NaN                  NaN   \n",
       "4  {'screen_name': 'TexasChildrens', 'name': \"Tex...       United Kingdom   \n",
       "\n",
       "  Unnamed: 17 Unnamed: 18 Unnamed: 19  Unnamed: 20  \n",
       "0         NaN         NaN         NaN          NaN  \n",
       "1         NaN         NaN         NaN          NaN  \n",
       "2         NaN         NaN         NaN          NaN  \n",
       "3         NaN         NaN         NaN          NaN  \n",
       "4         NaN         NaN         NaN          NaN  \n",
       "\n",
       "[5 rows x 21 columns]"
      ]
     },
<<<<<<< HEAD
     "execution_count": 12,
=======
     "execution_count": 3,
>>>>>>> fd9580949c389c8047d5e84cadbb0368fc128eb4
     "metadata": {},
     "output_type": "execute_result"
    }
   ],
   "source": [
    "#To read csv file and create dataframe\n",
    "cleanTweet = pd.read_csv('cleaned_fintech_data.csv')\n",
    "cleanTweet.head()"
   ]
  },
  {
   "cell_type": "code",
<<<<<<< HEAD
   "execution_count": 13,
=======
   "execution_count": 4,
>>>>>>> fd9580949c389c8047d5e84cadbb0368fc128eb4
   "metadata": {},
   "outputs": [
    {
     "name": "stdout",
     "output_type": "stream",
     "text": [
      "<class 'pandas.core.frame.DataFrame'>\n",
      "RangeIndex: 5365 entries, 0 to 5364\n",
      "Data columns (total 21 columns):\n",
      " #   Column              Non-Null Count  Dtype  \n",
      "---  ------              --------------  -----  \n",
      " 0   created_at          5365 non-null   object \n",
      " 1   source              5365 non-null   object \n",
      " 2   original_text       5365 non-null   object \n",
      " 3   clean_text          5365 non-null   object \n",
      " 4   lang                5365 non-null   object \n",
      " 5   sentiment           5365 non-null   object \n",
      " 6   favorite_count      5365 non-null   object \n",
      " 7   retweet_count       5365 non-null   object \n",
      " 8   polarity            5365 non-null   object \n",
      " 9   subjectivity        5365 non-null   object \n",
      " 10  original_author     5365 non-null   object \n",
      " 11  followers_count     5365 non-null   object \n",
      " 12  friends_count       5365 non-null   object \n",
      " 13  possibly_sensitive  3658 non-null   object \n",
      " 14  hashtags            5338 non-null   object \n",
      " 15  user_mentions       1424 non-null   object \n",
      " 16  place               3343 non-null   object \n",
      " 17  Unnamed: 17         57 non-null     object \n",
      " 18  Unnamed: 18         30 non-null     object \n",
      " 19  Unnamed: 19         0 non-null      float64\n",
      " 20  Unnamed: 20         10 non-null     object \n",
      "dtypes: float64(1), object(20)\n",
      "memory usage: 880.3+ KB\n"
     ]
    }
   ],
   "source": [
    "#To get information abou the data\n",
    "cleanTweet.info()"
   ]
  },
  {
   "cell_type": "code",
<<<<<<< HEAD
   "execution_count": 14,
=======
   "execution_count": 5,
>>>>>>> fd9580949c389c8047d5e84cadbb0368fc128eb4
   "metadata": {},
   "outputs": [
    {
     "name": "stdout",
     "output_type": "stream",
     "text": [
      "The number of missing value(s): 29060\n",
      "Columons having columns value:Index(['possibly_sensitive', 'hashtags', 'user_mentions', 'place',\n",
      "       'Unnamed: 17', 'Unnamed: 18', 'Unnamed: 19', 'Unnamed: 20'],\n",
      "      dtype='object')\n"
     ]
    }
   ],
   "source": [
    "print(\"The number of missing value(s): {}\".format(cleanTweet.isnull().sum().sum()))\n",
    "print(\"Columons having columns value:{}\".format(cleanTweet.columns[cleanTweet.isnull().any()]))"
   ]
  },
  {
   "cell_type": "code",
<<<<<<< HEAD
   "execution_count": 15,
=======
   "execution_count": 25,
>>>>>>> fd9580949c389c8047d5e84cadbb0368fc128eb4
   "metadata": {},
   "outputs": [],
   "source": [
    "tweets_filtered = pd.DataFrame(columns=['clean_text','polarity'])\n",
    "\n",
    "tweets_filtered['clean_text'] =  cleanTweet['clean_text'].to_list()\n",
    "tweets_filtered['polarity'] = cleanTweet['polarity'].to_list()"
   ]
  },
  {
   "cell_type": "code",
<<<<<<< HEAD
   "execution_count": 16,
=======
   "execution_count": 26,
>>>>>>> fd9580949c389c8047d5e84cadbb0368fc128eb4
   "metadata": {},
   "outputs": [
    {
     "data": {
      "text/html": [
       "<div>\n",
       "<style scoped>\n",
       "    .dataframe tbody tr th:only-of-type {\n",
       "        vertical-align: middle;\n",
       "    }\n",
       "\n",
       "    .dataframe tbody tr th {\n",
       "        vertical-align: top;\n",
       "    }\n",
       "\n",
       "    .dataframe thead th {\n",
       "        text-align: right;\n",
       "    }\n",
       "</style>\n",
       "<table border=\"1\" class=\"dataframe\">\n",
       "  <thead>\n",
       "    <tr style=\"text-align: right;\">\n",
       "      <th></th>\n",
       "      <th>clean_text</th>\n",
       "      <th>polarity</th>\n",
       "    </tr>\n",
       "  </thead>\n",
       "  <tbody>\n",
       "    <tr>\n",
       "      <th>0</th>\n",
       "      <td>🚨Africa is \"in the midst of a full-blown third...</td>\n",
       "      <td>0.166666666666667</td>\n",
       "    </tr>\n",
       "    <tr>\n",
       "      <th>1</th>\n",
       "      <td>Dr Moeti is head of WHO in Africa, and one of ...</td>\n",
       "      <td>0.133333333333333</td>\n",
       "    </tr>\n",
       "    <tr>\n",
       "      <th>2</th>\n",
       "      <td>Thank you @research2note for creating this ama...</td>\n",
       "      <td>0.316666666666667</td>\n",
       "    </tr>\n",
       "    <tr>\n",
       "      <th>3</th>\n",
       "      <td>Former Pfizer VP and Virologist, Dr. Michael Y...</td>\n",
       "      <td>0.086111111111111</td>\n",
       "    </tr>\n",
       "    <tr>\n",
       "      <th>4</th>\n",
       "      <td>I think it’s important that we don’t sell COVA...</td>\n",
       "      <td>0.28</td>\n",
       "    </tr>\n",
       "  </tbody>\n",
       "</table>\n",
       "</div>"
      ],
      "text/plain": [
       "                                          clean_text           polarity\n",
       "0  🚨Africa is \"in the midst of a full-blown third...  0.166666666666667\n",
       "1  Dr Moeti is head of WHO in Africa, and one of ...  0.133333333333333\n",
       "2  Thank you @research2note for creating this ama...  0.316666666666667\n",
       "3  Former Pfizer VP and Virologist, Dr. Michael Y...  0.086111111111111\n",
       "4  I think it’s important that we don’t sell COVA...               0.28"
      ]
     },
<<<<<<< HEAD
     "execution_count": 16,
=======
     "execution_count": 26,
>>>>>>> fd9580949c389c8047d5e84cadbb0368fc128eb4
     "metadata": {},
     "output_type": "execute_result"
    }
   ],
   "source": [
    "tweets_filtered.head()"
   ]
  },
  {
   "cell_type": "code",
<<<<<<< HEAD
   "execution_count": 17,
=======
   "execution_count": 27,
>>>>>>> fd9580949c389c8047d5e84cadbb0368fc128eb4
   "metadata": {},
   "outputs": [
    {
     "data": {
      "text/html": [
       "<div>\n",
       "<style scoped>\n",
       "    .dataframe tbody tr th:only-of-type {\n",
       "        vertical-align: middle;\n",
       "    }\n",
       "\n",
       "    .dataframe tbody tr th {\n",
       "        vertical-align: top;\n",
       "    }\n",
       "\n",
       "    .dataframe thead th {\n",
       "        text-align: right;\n",
       "    }\n",
       "</style>\n",
       "<table border=\"1\" class=\"dataframe\">\n",
       "  <thead>\n",
       "    <tr style=\"text-align: right;\">\n",
       "      <th></th>\n",
       "      <th>clean_text</th>\n",
       "      <th>polarity</th>\n",
       "    </tr>\n",
       "  </thead>\n",
       "  <tbody>\n",
       "    <tr>\n",
       "      <th>0</th>\n",
       "      <td>🚨Africa is \"in the midst of a full-blown third...</td>\n",
       "      <td>0.166666666666667</td>\n",
       "    </tr>\n",
       "    <tr>\n",
       "      <th>1</th>\n",
       "      <td>Dr Moeti is head of WHO in Africa, and one of ...</td>\n",
       "      <td>0.133333333333333</td>\n",
       "    </tr>\n",
       "    <tr>\n",
       "      <th>2</th>\n",
       "      <td>Thank you @research2note for creating this ama...</td>\n",
       "      <td>0.316666666666667</td>\n",
       "    </tr>\n",
       "    <tr>\n",
       "      <th>3</th>\n",
       "      <td>Former Pfizer VP and Virologist, Dr. Michael Y...</td>\n",
       "      <td>0.086111111111111</td>\n",
       "    </tr>\n",
       "    <tr>\n",
       "      <th>4</th>\n",
       "      <td>I think it’s important that we don’t sell COVA...</td>\n",
       "      <td>0.28</td>\n",
       "    </tr>\n",
       "    <tr>\n",
       "      <th>...</th>\n",
       "      <td>...</td>\n",
       "      <td>...</td>\n",
       "    </tr>\n",
       "    <tr>\n",
       "      <th>95</th>\n",
       "      <td>Covid19 vaccines reach the remotest places of ...</td>\n",
       "      <td>-0.05</td>\n",
       "    </tr>\n",
       "    <tr>\n",
       "      <th>96</th>\n",
       "      <td>#Healthcare systems nationwide are taking acti...</td>\n",
       "      <td>0.186111111111111</td>\n",
       "    </tr>\n",
       "    <tr>\n",
       "      <th>97</th>\n",
       "      <td>Please do your research first if you read or s...</td>\n",
       "      <td>0.316666666666667</td>\n",
       "    </tr>\n",
       "    <tr>\n",
       "      <th>98</th>\n",
       "      <td>Excited to be racing at @roadamerica this week...</td>\n",
       "      <td>0.375</td>\n",
       "    </tr>\n",
       "    <tr>\n",
       "      <th>99</th>\n",
       "      <td>\"In Africa, #COVID19 cases have increased by 5...</td>\n",
       "      <td>-0.145238095238095</td>\n",
       "    </tr>\n",
       "  </tbody>\n",
       "</table>\n",
       "<p>100 rows × 2 columns</p>\n",
       "</div>"
      ],
      "text/plain": [
       "                                           clean_text            polarity\n",
       "0   🚨Africa is \"in the midst of a full-blown third...   0.166666666666667\n",
       "1   Dr Moeti is head of WHO in Africa, and one of ...   0.133333333333333\n",
       "2   Thank you @research2note for creating this ama...   0.316666666666667\n",
       "3   Former Pfizer VP and Virologist, Dr. Michael Y...   0.086111111111111\n",
       "4   I think it’s important that we don’t sell COVA...                0.28\n",
       "..                                                ...                 ...\n",
       "95  Covid19 vaccines reach the remotest places of ...               -0.05\n",
       "96  #Healthcare systems nationwide are taking acti...   0.186111111111111\n",
       "97  Please do your research first if you read or s...   0.316666666666667\n",
       "98  Excited to be racing at @roadamerica this week...               0.375\n",
       "99  \"In Africa, #COVID19 cases have increased by 5...  -0.145238095238095\n",
       "\n",
       "[100 rows x 2 columns]"
      ]
     },
<<<<<<< HEAD
     "execution_count": 17,
=======
     "execution_count": 27,
>>>>>>> fd9580949c389c8047d5e84cadbb0368fc128eb4
     "metadata": {},
     "output_type": "execute_result"
    }
   ],
   "source": [
    "tweets_filtered.dropna()\n",
    "tweets_filtered[:100]"
   ]
  },
  {
   "cell_type": "code",
<<<<<<< HEAD
   "execution_count": 18,
=======
   "execution_count": 28,
>>>>>>> fd9580949c389c8047d5e84cadbb0368fc128eb4
   "metadata": {},
   "outputs": [],
   "source": [
    "def text_category(p):\n",
    "    if p == 0:\n",
    "        return \"neutral\"\n",
    "    elif p > 0:\n",
    "        \n",
    "        return \"positive\"\n",
    "    else:\n",
    "        return \"negative\""
   ]
  },
  {
   "cell_type": "code",
<<<<<<< HEAD
   "execution_count": 23,
=======
   "execution_count": 29,
>>>>>>> fd9580949c389c8047d5e84cadbb0368fc128eb4
   "metadata": {},
   "outputs": [
    {
     "data": {
      "text/html": [
       "<div>\n",
       "<style scoped>\n",
       "    .dataframe tbody tr th:only-of-type {\n",
       "        vertical-align: middle;\n",
       "    }\n",
       "\n",
       "    .dataframe tbody tr th {\n",
       "        vertical-align: top;\n",
       "    }\n",
       "\n",
       "    .dataframe thead th {\n",
       "        text-align: right;\n",
       "    }\n",
       "</style>\n",
       "<table border=\"1\" class=\"dataframe\">\n",
       "  <thead>\n",
       "    <tr style=\"text-align: right;\">\n",
       "      <th></th>\n",
       "      <th>clean_text</th>\n",
       "      <th>polarity</th>\n",
       "      <th>score</th>\n",
       "    </tr>\n",
       "  </thead>\n",
       "  <tbody>\n",
       "    <tr>\n",
<<<<<<< HEAD
       "      <th>150</th>\n",
       "      <td>#COVID19 may be new, but the COVID-19 vaccines...</td>\n",
       "      <td>3.472727e-01</td>\n",
       "      <td>positive</td>\n",
       "    </tr>\n",
       "    <tr>\n",
       "      <th>151</th>\n",
       "      <td>Pin Code:[411043] \\nBharati Hospital Dhank PMC...</td>\n",
       "      <td>-7.500000e-01</td>\n",
       "      <td>negative</td>\n",
=======
       "      <th>0</th>\n",
       "      <td>Giving forth life becoming burden Kenya This m...</td>\n",
       "      <td>0.319444</td>\n",
       "      <td>positive</td>\n",
       "    </tr>\n",
       "    <tr>\n",
       "      <th>1</th>\n",
       "      <td>Teenmaar crPanja crGabbarsingh cr Khaleja Kuda...</td>\n",
       "      <td>0.000000</td>\n",
       "      <td>neutral</td>\n",
       "    </tr>\n",
       "    <tr>\n",
       "      <th>2</th>\n",
       "      <td>Rei chintu lo Vachina Ad Nizam ne lo kottaru f...</td>\n",
       "      <td>0.000000</td>\n",
       "      <td>neutral</td>\n",
>>>>>>> fd9580949c389c8047d5e84cadbb0368fc128eb4
       "    </tr>\n",
       "    <tr>\n",
       "      <th>152</th>\n",
       "      <td>Pin Code:[411030] \\nPoona Hospital PMC P\\nVacc...</td>\n",
       "      <td>-7.500000e-01</td>\n",
       "      <td>negative</td>\n",
       "    </tr>\n",
       "    <tr>\n",
<<<<<<< HEAD
       "      <th>153</th>\n",
       "      <td>Pin Code:[411027] \\nDistrict Hospital Aundh\\nV...</td>\n",
       "      <td>-7.500000e-01</td>\n",
       "      <td>negative</td>\n",
=======
       "      <th>4</th>\n",
       "      <td>Hearing say 's confident vaccines delivered li...</td>\n",
       "      <td>0.500000</td>\n",
       "      <td>positive</td>\n",
>>>>>>> fd9580949c389c8047d5e84cadbb0368fc128eb4
       "    </tr>\n",
       "    <tr>\n",
       "      <th>154</th>\n",
       "      <td>Pin Code:[411038] \\nBSM-Deenanath Hosp Pvt PMC...</td>\n",
       "      <td>-7.500000e-01</td>\n",
       "      <td>negative</td>\n",
       "    </tr>\n",
       "    <tr>\n",
<<<<<<< HEAD
       "      <th>155</th>\n",
       "      <td>Pin Code:[411004] \\nBMCC-DEENANATH HOSPITAL PV...</td>\n",
       "      <td>-7.500000e-01</td>\n",
       "      <td>negative</td>\n",
       "    </tr>\n",
       "    <tr>\n",
       "      <th>156</th>\n",
       "      <td>@IsraelMFA Israel is a brutal nazi-like entity...</td>\n",
       "      <td>-4.375000e-01</td>\n",
       "      <td>negative</td>\n",
       "    </tr>\n",
       "    <tr>\n",
       "      <th>157</th>\n",
       "      <td>Yet another amazingly qualified and courageous...</td>\n",
       "      <td>3.700743e-17</td>\n",
       "      <td>positive</td>\n",
       "    </tr>\n",
       "    <tr>\n",
       "      <th>158</th>\n",
       "      <td>I’m pleased to welcome the #WeCanDoThis bus to...</td>\n",
       "      <td>5.083333e-01</td>\n",
       "      <td>positive</td>\n",
       "    </tr>\n",
       "    <tr>\n",
       "      <th>159</th>\n",
       "      <td>The return to business after 15 months of publ...</td>\n",
       "      <td>3.787879e-03</td>\n",
=======
       "      <th>95</th>\n",
       "      <td>First last warning .. Inkosari families joliki...</td>\n",
       "      <td>0.166667</td>\n",
       "      <td>positive</td>\n",
       "    </tr>\n",
       "    <tr>\n",
       "      <th>96</th>\n",
       "      <td>Sln teaser trailer views amp trailer likes gt ...</td>\n",
       "      <td>0.000000</td>\n",
       "      <td>neutral</td>\n",
       "    </tr>\n",
       "    <tr>\n",
       "      <th>97</th>\n",
       "      <td>LETTER inspired archetypal male Nat J. Dornan ...</td>\n",
       "      <td>0.000000</td>\n",
       "      <td>neutral</td>\n",
       "    </tr>\n",
       "    <tr>\n",
       "      <th>98</th>\n",
       "      <td>`` I ask pays `` Andrew Neil challenges Rishi ...</td>\n",
       "      <td>0.000000</td>\n",
       "      <td>neutral</td>\n",
       "    </tr>\n",
       "    <tr>\n",
       "      <th>99</th>\n",
       "      <td>Mana Hand ki unna fingers anny okela undavu .....</td>\n",
       "      <td>0.508333</td>\n",
>>>>>>> fd9580949c389c8047d5e84cadbb0368fc128eb4
       "      <td>positive</td>\n",
       "    </tr>\n",
       "  </tbody>\n",
       "</table>\n",
       "</div>"
      ],
      "text/plain": [
<<<<<<< HEAD
       "                                            clean_text      polarity     score\n",
       "150  #COVID19 may be new, but the COVID-19 vaccines...  3.472727e-01  positive\n",
       "151  Pin Code:[411043] \\nBharati Hospital Dhank PMC... -7.500000e-01  negative\n",
       "152  Pin Code:[411030] \\nPoona Hospital PMC P\\nVacc... -7.500000e-01  negative\n",
       "153  Pin Code:[411027] \\nDistrict Hospital Aundh\\nV... -7.500000e-01  negative\n",
       "154  Pin Code:[411038] \\nBSM-Deenanath Hosp Pvt PMC... -7.500000e-01  negative\n",
       "155  Pin Code:[411004] \\nBMCC-DEENANATH HOSPITAL PV... -7.500000e-01  negative\n",
       "156  @IsraelMFA Israel is a brutal nazi-like entity... -4.375000e-01  negative\n",
       "157  Yet another amazingly qualified and courageous...  3.700743e-17  positive\n",
       "158  I’m pleased to welcome the #WeCanDoThis bus to...  5.083333e-01  positive\n",
       "159  The return to business after 15 months of publ...  3.787879e-03  positive"
      ]
     },
     "execution_count": 23,
=======
       "                                           clean_text  polarity     score\n",
       "0   Giving forth life becoming burden Kenya This m...  0.319444  positive\n",
       "1   Teenmaar crPanja crGabbarsingh cr Khaleja Kuda...  0.000000   neutral\n",
       "2   Rei chintu lo Vachina Ad Nizam ne lo kottaru f...  0.000000   neutral\n",
       "3   Today World Day Combat Restoring degraded land...  0.250000  positive\n",
       "4   Hearing say 's confident vaccines delivered li...  0.500000  positive\n",
       "..                                                ...       ...       ...\n",
       "95  First last warning .. Inkosari families joliki...  0.166667  positive\n",
       "96  Sln teaser trailer views amp trailer likes gt ...  0.000000   neutral\n",
       "97  LETTER inspired archetypal male Nat J. Dornan ...  0.000000   neutral\n",
       "98  `` I ask pays `` Andrew Neil challenges Rishi ...  0.000000   neutral\n",
       "99  Mana Hand ki unna fingers anny okela undavu .....  0.508333  positive\n",
       "\n",
       "[100 rows x 3 columns]"
      ]
     },
     "execution_count": 29,
>>>>>>> fd9580949c389c8047d5e84cadbb0368fc128eb4
     "metadata": {},
     "output_type": "execute_result"
    }
   ],
   "source": [
    "tweets_filtered['polarity']=pd.to_numeric(tweets_filtered['polarity'],errors='coerce')\n",
    "tweets_filtered['score'] = tweets_filtered.polarity.apply(text_category)\n",
    "    \n",
    "tweets_filtered[150:160]"
   ]
  },
  {
   "cell_type": "code",
<<<<<<< HEAD
   "execution_count": 36,
=======
   "execution_count": 35,
>>>>>>> fd9580949c389c8047d5e84cadbb0368fc128eb4
   "metadata": {},
   "outputs": [
    {
     "data": {
<<<<<<< HEAD
      "text/plain": [
       "<AxesSubplot:title={'center':'Polarity Plot against Polarity_type'}, xlabel='polarity', ylabel='Number of tweets'>"
      ]
     },
     "execution_count": 36,
     "metadata": {},
     "output_type": "execute_result"
    },
    {
     "data": {
      "image/png": "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\n",
=======
      "image/png": "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\n",
>>>>>>> fd9580949c389c8047d5e84cadbb0368fc128eb4
      "text/plain": [
       "<Figure size 792x432 with 1 Axes>"
      ]
     },
     "metadata": {},
     "output_type": "display_data"
    },
    {
     "data": {
<<<<<<< HEAD
      "image/png": "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\n",
=======
      "image/png": "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\n",
>>>>>>> fd9580949c389c8047d5e84cadbb0368fc128eb4
      "text/plain": [
       "<Figure size 720x288 with 1 Axes>"
      ]
     },
     "metadata": {
      "needs_background": "light"
     },
     "output_type": "display_data"
    }
   ],
   "source": [
    "a,b,c = 0,0,0\n",
    "for element in tweets_filtered.score:\n",
    "    if element == 'positive':\n",
    "        a +=1\n",
    "    elif element == 'negative':\n",
    "        b +=1\n",
    "    else:\n",
    "        c +=1\n",
    "        \n",
    "df = pd.DataFrame({'score': [a, b , c]},\n",
    "                  index=['positive', 'negative', 'neutral'])\n",
    "plot = df.plot.pie(y='score', figsize=(11, 6),subplots=True)\n",
    "\n",
    "# tweets_filtered.hist(column='polarity')\n",
<<<<<<< HEAD
    "\n",
    "#ploting Hist - Tweets by Polarity \n",
    "tweets = pd.DataFrame(columns=['text','polarity'])\n",
    "\n",
    "tweets['text'] =  tweets_filtered['score'].to_list()\n",
    "tweets['polarity'] = tweets_filtered['polarity'].to_list()\n",
    "\n",
    "tweets_by_polarity = tweets['text'].value_counts()\n",
    "\n",
    "fig, ax = plt.subplots()\n",
    "ax.tick_params(axis='x', labelsize=10)\n",
    "ax.tick_params(axis='y', labelsize=10)\n",
    "ax.set_xlabel('polarity', fontsize=10)\n",
    "ax.set_ylabel('Number of tweets' , fontsize=10)\n",
    "ax.set_title('Polarity Plot against Polarity_type', fontsize=10)\n",
    "tweets_by_polarity.plot(ax=ax, kind='bar', color='orange')"
=======
    "#Bar chart\n",
    "colors = ['darkblue', 'green','orange']\n",
    "\n",
    "plt.figure(figsize=(10,4))\n",
    "tweets_filtered['score'].value_counts().plot(kind='bar', rot = 50, color= colors)\n",
    "plt.title('Polarity scores')\n",
    "plt.xlabel('scores')\n",
    "plt.ylabel('count');"
>>>>>>> fd9580949c389c8047d5e84cadbb0368fc128eb4
   ]
  },
  {
   "cell_type": "code",
<<<<<<< HEAD
   "execution_count": 37,
=======
   "execution_count": 14,
>>>>>>> fd9580949c389c8047d5e84cadbb0368fc128eb4
   "metadata": {},
   "outputs": [
    {
     "data": {
      "text/html": [
       "<div>\n",
       "<style scoped>\n",
       "    .dataframe tbody tr th:only-of-type {\n",
       "        vertical-align: middle;\n",
       "    }\n",
       "\n",
       "    .dataframe tbody tr th {\n",
       "        vertical-align: top;\n",
       "    }\n",
       "\n",
       "    .dataframe thead th {\n",
       "        text-align: right;\n",
       "    }\n",
       "</style>\n",
       "<table border=\"1\" class=\"dataframe\">\n",
       "  <thead>\n",
       "    <tr style=\"text-align: right;\">\n",
       "      <th></th>\n",
       "      <th>clean_text</th>\n",
       "      <th>polarity</th>\n",
       "      <th>score</th>\n",
       "    </tr>\n",
       "  </thead>\n",
       "  <tbody>\n",
       "    <tr>\n",
       "      <th>0</th>\n",
       "      <td>🚨Africa is \"in the midst of a full-blown third...</td>\n",
       "      <td>0.166667</td>\n",
       "      <td>positive</td>\n",
       "    </tr>\n",
       "    <tr>\n",
       "      <th>1</th>\n",
       "      <td>Dr Moeti is head of WHO in Africa, and one of ...</td>\n",
       "      <td>0.133333</td>\n",
       "      <td>positive</td>\n",
       "    </tr>\n",
       "    <tr>\n",
       "      <th>2</th>\n",
       "      <td>Thank you @research2note for creating this ama...</td>\n",
       "      <td>0.316667</td>\n",
       "      <td>positive</td>\n",
       "    </tr>\n",
       "    <tr>\n",
       "      <th>3</th>\n",
       "      <td>Former Pfizer VP and Virologist, Dr. Michael Y...</td>\n",
       "      <td>0.086111</td>\n",
       "      <td>positive</td>\n",
       "    </tr>\n",
       "    <tr>\n",
       "      <th>4</th>\n",
       "      <td>I think it’s important that we don’t sell COVA...</td>\n",
       "      <td>0.280000</td>\n",
       "      <td>positive</td>\n",
       "    </tr>\n",
       "    <tr>\n",
       "      <th>...</th>\n",
       "      <td>...</td>\n",
       "      <td>...</td>\n",
       "      <td>...</td>\n",
       "    </tr>\n",
       "    <tr>\n",
       "      <th>95</th>\n",
       "      <td>@IsraelMFA Israel is a brutal nazi-like entity...</td>\n",
       "      <td>-0.437500</td>\n",
       "      <td>negative</td>\n",
       "    </tr>\n",
       "    <tr>\n",
       "      <th>96</th>\n",
       "      <td>All UK adults are now eligible for their #Covi...</td>\n",
       "      <td>0.275000</td>\n",
       "      <td>positive</td>\n",
       "    </tr>\n",
       "    <tr>\n",
       "      <th>97</th>\n",
       "      <td>BioCubaFarma says phase 3 clinical trial resul...</td>\n",
       "      <td>-0.162500</td>\n",
       "      <td>negative</td>\n",
       "    </tr>\n",
       "    <tr>\n",
       "      <th>98</th>\n",
       "      <td>Some good news for Friday. Yesterday we had ou...</td>\n",
       "      <td>0.155556</td>\n",
       "      <td>positive</td>\n",
       "    </tr>\n",
       "    <tr>\n",
       "      <th>99</th>\n",
       "      <td>@IsraelMFA Israel is a brutal nazi-like entity...</td>\n",
       "      <td>-0.437500</td>\n",
       "      <td>negative</td>\n",
       "    </tr>\n",
       "  </tbody>\n",
       "</table>\n",
       "<p>100 rows × 3 columns</p>\n",
       "</div>"
      ],
      "text/plain": [
       "                                           clean_text  polarity     score\n",
       "0   🚨Africa is \"in the midst of a full-blown third...  0.166667  positive\n",
       "1   Dr Moeti is head of WHO in Africa, and one of ...  0.133333  positive\n",
       "2   Thank you @research2note for creating this ama...  0.316667  positive\n",
       "3   Former Pfizer VP and Virologist, Dr. Michael Y...  0.086111  positive\n",
       "4   I think it’s important that we don’t sell COVA...  0.280000  positive\n",
       "..                                                ...       ...       ...\n",
       "95  @IsraelMFA Israel is a brutal nazi-like entity... -0.437500  negative\n",
       "96  All UK adults are now eligible for their #Covi...  0.275000  positive\n",
       "97  BioCubaFarma says phase 3 clinical trial resul... -0.162500  negative\n",
       "98  Some good news for Friday. Yesterday we had ou...  0.155556  positive\n",
       "99  @IsraelMFA Israel is a brutal nazi-like entity... -0.437500  negative\n",
       "\n",
       "[100 rows x 3 columns]"
      ]
     },
<<<<<<< HEAD
     "execution_count": 37,
=======
     "execution_count": 14,
>>>>>>> fd9580949c389c8047d5e84cadbb0368fc128eb4
     "metadata": {},
     "output_type": "execute_result"
    }
   ],
   "source": [
    "# Deleting neutral scores\n",
    "indices = tweets_filtered.loc[tweets_filtered['score']=='neutral'].index\n",
    "tweets_filtered.drop(indices, inplace=True)\n",
    "tweets_filtered=tweets_filtered.reset_index(drop=True)\n",
    "tweets_filtered[:100]"
   ]
  },
  {
   "cell_type": "code",
<<<<<<< HEAD
   "execution_count": 38,
=======
   "execution_count": 15,
>>>>>>> fd9580949c389c8047d5e84cadbb0368fc128eb4
   "metadata": {},
   "outputs": [],
   "source": [
    "def score_to_logic(p):\n",
    "    if p == \"positive\":\n",
    "        return 1\n",
    "    else:\n",
    "        return 0"
   ]
  },
  {
   "cell_type": "code",
<<<<<<< HEAD
   "execution_count": 39,
=======
   "execution_count": 16,
>>>>>>> fd9580949c389c8047d5e84cadbb0368fc128eb4
   "metadata": {},
   "outputs": [
    {
     "data": {
      "text/html": [
       "<div>\n",
       "<style scoped>\n",
       "    .dataframe tbody tr th:only-of-type {\n",
       "        vertical-align: middle;\n",
       "    }\n",
       "\n",
       "    .dataframe tbody tr th {\n",
       "        vertical-align: top;\n",
       "    }\n",
       "\n",
       "    .dataframe thead th {\n",
       "        text-align: right;\n",
       "    }\n",
       "</style>\n",
       "<table border=\"1\" class=\"dataframe\">\n",
       "  <thead>\n",
       "    <tr style=\"text-align: right;\">\n",
       "      <th></th>\n",
       "      <th>clean_text</th>\n",
       "      <th>polarity</th>\n",
       "      <th>score</th>\n",
       "      <th>scoremap</th>\n",
       "    </tr>\n",
       "  </thead>\n",
       "  <tbody>\n",
       "    <tr>\n",
       "      <th>0</th>\n",
       "      <td>🚨Africa is \"in the midst of a full-blown third...</td>\n",
       "      <td>0.166667</td>\n",
       "      <td>positive</td>\n",
       "      <td>1</td>\n",
       "    </tr>\n",
       "    <tr>\n",
       "      <th>1</th>\n",
       "      <td>Dr Moeti is head of WHO in Africa, and one of ...</td>\n",
       "      <td>0.133333</td>\n",
       "      <td>positive</td>\n",
       "      <td>1</td>\n",
       "    </tr>\n",
       "    <tr>\n",
       "      <th>2</th>\n",
       "      <td>Thank you @research2note for creating this ama...</td>\n",
       "      <td>0.316667</td>\n",
       "      <td>positive</td>\n",
       "      <td>1</td>\n",
       "    </tr>\n",
       "    <tr>\n",
       "      <th>3</th>\n",
       "      <td>Former Pfizer VP and Virologist, Dr. Michael Y...</td>\n",
       "      <td>0.086111</td>\n",
       "      <td>positive</td>\n",
       "      <td>1</td>\n",
       "    </tr>\n",
       "    <tr>\n",
       "      <th>4</th>\n",
       "      <td>I think it’s important that we don’t sell COVA...</td>\n",
       "      <td>0.280000</td>\n",
       "      <td>positive</td>\n",
       "      <td>1</td>\n",
       "    </tr>\n",
       "    <tr>\n",
       "      <th>...</th>\n",
       "      <td>...</td>\n",
       "      <td>...</td>\n",
       "      <td>...</td>\n",
       "      <td>...</td>\n",
       "    </tr>\n",
       "    <tr>\n",
       "      <th>95</th>\n",
       "      <td>@IsraelMFA Israel is a brutal nazi-like entity...</td>\n",
       "      <td>-0.437500</td>\n",
       "      <td>negative</td>\n",
       "      <td>0</td>\n",
       "    </tr>\n",
       "    <tr>\n",
       "      <th>96</th>\n",
       "      <td>All UK adults are now eligible for their #Covi...</td>\n",
       "      <td>0.275000</td>\n",
       "      <td>positive</td>\n",
       "      <td>1</td>\n",
       "    </tr>\n",
       "    <tr>\n",
       "      <th>97</th>\n",
       "      <td>BioCubaFarma says phase 3 clinical trial resul...</td>\n",
       "      <td>-0.162500</td>\n",
       "      <td>negative</td>\n",
       "      <td>0</td>\n",
       "    </tr>\n",
       "    <tr>\n",
       "      <th>98</th>\n",
       "      <td>Some good news for Friday. Yesterday we had ou...</td>\n",
       "      <td>0.155556</td>\n",
       "      <td>positive</td>\n",
       "      <td>1</td>\n",
       "    </tr>\n",
       "    <tr>\n",
       "      <th>99</th>\n",
       "      <td>@IsraelMFA Israel is a brutal nazi-like entity...</td>\n",
       "      <td>-0.437500</td>\n",
       "      <td>negative</td>\n",
       "      <td>0</td>\n",
       "    </tr>\n",
       "  </tbody>\n",
       "</table>\n",
       "<p>100 rows × 4 columns</p>\n",
       "</div>"
      ],
      "text/plain": [
       "                                           clean_text  polarity     score  \\\n",
       "0   🚨Africa is \"in the midst of a full-blown third...  0.166667  positive   \n",
       "1   Dr Moeti is head of WHO in Africa, and one of ...  0.133333  positive   \n",
       "2   Thank you @research2note for creating this ama...  0.316667  positive   \n",
       "3   Former Pfizer VP and Virologist, Dr. Michael Y...  0.086111  positive   \n",
       "4   I think it’s important that we don’t sell COVA...  0.280000  positive   \n",
       "..                                                ...       ...       ...   \n",
       "95  @IsraelMFA Israel is a brutal nazi-like entity... -0.437500  negative   \n",
       "96  All UK adults are now eligible for their #Covi...  0.275000  positive   \n",
       "97  BioCubaFarma says phase 3 clinical trial resul... -0.162500  negative   \n",
       "98  Some good news for Friday. Yesterday we had ou...  0.155556  positive   \n",
       "99  @IsraelMFA Israel is a brutal nazi-like entity... -0.437500  negative   \n",
       "\n",
       "    scoremap  \n",
       "0          1  \n",
       "1          1  \n",
       "2          1  \n",
       "3          1  \n",
       "4          1  \n",
       "..       ...  \n",
       "95         0  \n",
       "96         1  \n",
       "97         0  \n",
       "98         1  \n",
       "99         0  \n",
       "\n",
       "[100 rows x 4 columns]"
      ]
     },
<<<<<<< HEAD
     "execution_count": 39,
=======
     "execution_count": 16,
>>>>>>> fd9580949c389c8047d5e84cadbb0368fc128eb4
     "metadata": {},
     "output_type": "execute_result"
    }
   ],
   "source": [
    "tweets_filtered['scoremap'] = tweets_filtered.score.apply(score_to_logic)\n",
    "tweets_filtered[:100]"
   ]
  },
  {
   "cell_type": "code",
<<<<<<< HEAD
   "execution_count": 40,
=======
   "execution_count": 17,
>>>>>>> fd9580949c389c8047d5e84cadbb0368fc128eb4
   "metadata": {},
   "outputs": [
    {
     "data": {
      "text/plain": [
       "0    🚨Africa is \"in the midst of a full-blown third...\n",
       "1    Dr Moeti is head of WHO in Africa, and one of ...\n",
       "2    Thank you @research2note for creating this ama...\n",
       "3    Former Pfizer VP and Virologist, Dr. Michael Y...\n",
       "4    I think it’s important that we don’t sell COVA...\n",
       "Name: clean_text, dtype: object"
      ]
     },
<<<<<<< HEAD
     "execution_count": 40,
=======
     "execution_count": 17,
>>>>>>> fd9580949c389c8047d5e84cadbb0368fc128eb4
     "metadata": {},
     "output_type": "execute_result"
    }
   ],
   "source": [
    "# Assigning Target variable and splitting the data\n",
    "from sklearn.model_selection import train_test_split\n",
    "X,y = tweets_filtered['clean_text'], tweets_filtered['scoremap']\n",
    "X_train, X_test, y_train, y_test = train_test_split(X, y, test_size = 0.20, random_state=1)\n",
    "X.head()\n",
    "# y_test.head()"
   ]
  },
  {
   "cell_type": "code",
   "execution_count": 42,
   "metadata": {},
   "outputs": [],
   "source": [
    "# Vectorizing X_train, X_test\n",
    "from sklearn.feature_extraction.text import CountVectorizer\n",
    "count_v = CountVectorizer(ngram_range=(3, 3))\n",
    "X_train_cv = count_v.fit_transform(X_train)\n",
    "X_test_cv = count_v.transform(X_test)"
   ]
  },
  {
   "cell_type": "code",
   "execution_count": 43,
   "metadata": {},
   "outputs": [],
   "source": [
    "# SGDC Classifier\n",
    "from sklearn.linear_model import SGDClassifier\n",
    "clf = SGDClassifier()\n",
    "clf.fit(X_train_cv, y_train)\n",
    "predictions = clf.predict(X_test_cv)\n"
   ]
  },
  {
   "cell_type": "code",
   "execution_count": 203,
   "metadata": {},
   "outputs": [
    {
     "name": "stdout",
     "output_type": "stream",
     "text": [
      "Accuracy : 0.9828080229226361\n",
      "Results: \n",
      "              precision    recall  f1-score   support\n",
      "\n",
      "           0       0.99      0.94      0.97       179\n",
      "           1       0.98      1.00      0.99       519\n",
      "\n",
      "    accuracy                           0.98       698\n",
      "   macro avg       0.98      0.97      0.98       698\n",
      "weighted avg       0.98      0.98      0.98       698\n",
      "\n"
     ]
    }
   ],
   "source": [
    "# Performance Analysis of the  metrics\n",
    "\n",
    "from sklearn.metrics import accuracy_score, precision_score, recall_score, f1_score, roc_curve, auc, confusion_matrix,classification_report\n",
    "results = confusion_matrix(y_test, predictions) \n",
    "\n",
    "print ('Accuracy :',accuracy_score(y_test, predictions)) \n",
    "print ('Results: ')\n",
    "print (classification_report(y_test, predictions))\n",
    "\n",
    "# End of Project"
   ]
  },
  {
   "cell_type": "code",
   "execution_count": null,
   "metadata": {},
   "outputs": [],
   "source": []
  }
 ],
 "metadata": {
  "colab": {
   "authorship_tag": "ABX9TyO6PgFRMlUXDp0jxgb9maVi",
   "collapsed_sections": [],
   "mount_file_id": "15ve2DLGFsqNZcDbxKD5DqFSSGLNhKkR7",
   "name": "Challenge_ Day2.ipynb",
   "provenance": []
  },
  "kernelspec": {
   "display_name": "Python 3",
   "language": "python",
   "name": "python3"
  },
  "language_info": {
   "codemirror_mode": {
    "name": "ipython",
    "version": 3
   },
   "file_extension": ".py",
   "mimetype": "text/x-python",
   "name": "python",
   "nbconvert_exporter": "python",
   "pygments_lexer": "ipython3",
   "version": "3.8.8"
  }
 },
 "nbformat": 4,
 "nbformat_minor": 1
}
