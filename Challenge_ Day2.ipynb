{
 "cells": [
  {
   "cell_type": "markdown",
   "metadata": {
    "id": "zDwep1K8Erxl"
   },
   "source": [
    "**Project:** Data Minining Project for  X company"
   ]
  },
  {
   "cell_type": "markdown",
   "metadata": {
    "id": "d7-ii3uyI8KY"
   },
   "source": [
    "The CRISP-DM Framework\n",
    "\n",
    "\n",
    "The CRISP-DM methodology provides a structured approach to planning a data mining project. It is a robust and well-proven methodology.\n",
    "* Business understanding (BU): Determine Business Objectives, Assess Situation, Determine Data Mining Goals, Produce Project Plan\n",
    "\n",
    "* Data understanding (DU): Collect Initial Data, Describe Data, Explore Data, Verify Data Quality\n",
    "\n",
    "* Data preparation (DP): Select Data, Clean Data, Construct Data, Integrate Data\n",
    "\n",
    "* Modeling (M): Select modeling technique, Generate Test Design, Build Model, Assess Model\n",
    "*  Evaluation (E): Evaluate Results, Review Process, Determine Next Steps\n",
    "*  Deployment (D): Plan Deployment, Plan Monitoring and Maintenance, Produce Final Report, Review Project\n",
    "\n",
    "\n",
    "References:\n",
    "\n",
    "[What is the CRISP-DM methodology?](https://https://www.sv-europe.com/crisp-dm-methodology/)\n",
    "\n",
    "[Introduction to CRISP DM Framework for Data Science and Machine Learning](https://https://www.linkedin.com/pulse/chapter-1-introduction-crisp-dm-framework-data-science-anshul-roy/)"
   ]
  },
  {
   "cell_type": "markdown",
   "metadata": {
    "id": "5lo7Ml7tMQOf"
   },
   "source": [
    "**Data Set**\n",
    "### The data is for company X which is trying to control attrition. \n",
    "### There are two sets of data: \"Existing employees\" and \"Employees who have left\". The following attributes are available for every employee.\n",
    "\n",
    "\n",
    "*   Satisfaction Level\n",
    "\n",
    "*   Last evaluation\n",
    "\n",
    "*   Number of projects\n",
    "\n",
    "*   Average monthly hours\n",
    "\n",
    "*   Time spent at the company\n",
    "*   Whether they have had a work accident\n",
    "\n",
    "\n",
    "*  Whether they have had a promotion in the last 5 years\n",
    "\n",
    "\n",
    "*   Departments (column sales)\n",
    "\n",
    "\n",
    "*   Salary\n",
    "\n",
    "\n",
    "*  Whether the employee has left\n",
    "\n",
    "\n",
    "\n",
    "\n",
    "\n",
    "\n",
    "\n",
    "\n",
    "\n",
    "\n",
    "\n",
    "\n",
    "\n",
    "\n",
    "\n",
    "\n"
   ]
  },
  {
   "cell_type": "markdown",
   "metadata": {
    "id": "sjSj2A2sSph_"
   },
   "source": [
    "**Your Role**\n",
    " \n",
    "\n",
    "*   As data science team member X company asked you to answer this two questions.\n",
    "*  What type of employees is leaving? \n",
    "\n",
    "*   Determine which employees are prone to leave next.\n",
    "\n",
    "\n",
    "\n",
    "\n"
   ]
  },
  {
   "cell_type": "markdown",
   "metadata": {
    "id": "ajdEVA7LiBUp"
   },
   "source": [
    "Business Understanding\n",
    "\n",
    "---\n",
    "\n",
    "This step mostly focuses on understanding the Business in all the different aspects. It follows the below different steps.\n",
    "\n",
    "\n",
    "\n",
    "\n",
    "* Identify the goal and frame the business problem.\n",
    "* Prepare Analytical Goal i.e. what type of performance metric and loss function to use\n",
    "* Gather information on resource, constraints, assumptions, risks etc\n",
    "* Gather information on resource, constraints, assumptions, risks etc\n",
    "*   Prepare Work Flow Chart"
   ]
  },
  {
   "cell_type": "markdown",
   "metadata": {
    "id": "J4MwiCYzj2_u"
   },
   "source": [
    "### Write the main objectives of this project in your words?\n",
    "minimum of 100 characters"
   ]
  },
  {
   "cell_type": "code",
   "execution_count": 2,
   "metadata": {
    "executionInfo": {
     "elapsed": 644,
     "status": "ok",
     "timestamp": 1624077621474,
     "user": {
      "displayName": "Mahlet Taye",
      "photoUrl": "",
      "userId": "08172124621047273189"
     },
     "user_tz": -180
    },
    "id": "STyLda45j1Mf"
   },
   "outputs": [],
   "source": [
    "main_objectives ='''The main objective of this project is to determine what kind of employees are leaving the company, \n",
    "and which employees will likely leave next, by analysing the causing factors, which includes, Satisfaction Level,\n",
    "Last evaluation, Number of projects, Average monthly hours, Time spent at the company, Whether they have had a work accident,Whether they have had a promotion in the last 5 years, Departments, Salary, and Whether the given employee has left.\n",
    "'''"
   ]
  },
  {
   "cell_type": "code",
   "execution_count": 23,
   "metadata": {
    "executionInfo": {
     "elapsed": 8,
     "status": "ok",
     "timestamp": 1624077621946,
     "user": {
      "displayName": "Mahlet Taye",
      "photoUrl": "",
      "userId": "08172124621047273189"
     },
     "user_tz": -180
    },
    "id": "CuOlxLxKMOLI"
   },
   "outputs": [
    {
     "name": "stdout",
     "output_type": "stream",
     "text": [
      "450 You're good to go\n"
     ]
    }
   ],
   "source": [
    "assert len(main_objectives) > 100\n",
    "print(len(main_objectives), \"You're good to go\")\n",
    "assert len(main_objectives) > 500 \n",
    "print(\"Too much explanations, explain shortly\")"
   ]
  },
  {
   "cell_type": "markdown",
   "metadata": {
    "id": "NyXeNxlCkbaw"
   },
   "source": [
    "### Outline the different data analysis steps you will follow to carry out the project"
   ]
  },
  {
   "cell_type": "code",
   "execution_count": 19,
   "metadata": {
    "id": "rC-tl8sUksQq"
   },
   "outputs": [],
   "source": [
    "dm_outline = '''The following are the Data Analysis steps to be followed in this project:\n",
    "**1. Problem definition** \n",
    "- Defining and pointing out clearly the problem to be addressed/to solved.\n",
    "\n",
    "**2. understanding and acquiring the data**\n",
    "- This involves collecting and exploring the associated/related data to be used in the project\n",
    "\n",
    "** 3. Data Preparation **\n",
    "- This step involves cleaning, handling missing/unknown values, standardization or scaling, feature selection \n",
    "  depending on the nature of the data and project,etc.\n",
    "\n",
    "** 4. Modeling **\n",
    "- This step involves choosing appropriate model depending on the problem at hand and given data, which may require Regression,\n",
    "  Classification, or Clustering models. \n",
    "\n",
    "** 5. Model Evaluation **\n",
    "- The chosen and developed model in step 4 above, is tested to see whether its performance is good or bad, depending on the following \n",
    "  criteras; the result and simplicity of the algorithm, business requirement, and deployment cost.\n",
    "** 6. Deployment **\n",
    "- The best developed model is presented and tested on real-time and evealuted. After has been tested and evaluated, its deployed.\n",
    "'''"
   ]
  },
  {
   "cell_type": "code",
   "execution_count": 20,
   "metadata": {
    "id": "-K1mWuDoksTk"
   },
   "outputs": [
    {
     "name": "stdout",
     "output_type": "stream",
     "text": [
      "960 You're good to go\n",
      "Too much explanations, explain shortly\n"
     ]
    }
   ],
   "source": [
    "assert len(dm_outline) > 100 \n",
    "print(len(dm_outline), \"You're good to go\")\n",
    "assert len(dm_outline) > 1500 \n",
    "print(\"Too much explanations, explain shortly\")"
   ]
  },
  {
   "cell_type": "markdown",
   "metadata": {
    "id": "pmUDFG1wkzUy"
   },
   "source": [
    "### What metrics will you use to measure the performance of your data analysis model? \n",
    "Write the equations of the metrics here"
   ]
  },
  {
   "cell_type": "markdown",
   "metadata": {
    "id": "KCNulojKk_BP"
   },
   "source": [
    "* Precision = $\\frac{True Positive}{(True Positive + False Positive)}$,\n",
    "* Accuracy = $\\frac{correct predictions}{all predictions}$,\n",
    "* Recall = $\\frac{truepositives}{false negatives+true positives}$,\n",
    "\n"
   ]
  },
  {
   "cell_type": "markdown",
   "metadata": {
    "id": "vLS2YHoRk_EK"
   },
   "source": [
    "Why do you choose these metrics? minimum of 100 characters"
   ]
  },
  {
   "cell_type": "code",
   "execution_count": 21,
   "metadata": {
    "id": "LSynT14KlPSJ"
   },
   "outputs": [],
   "source": [
    "why_metrics = '''I choose to use these metrics to measure the performance of this project (Data analysis),\n",
    "because, the problem uses Classification model, to group/classify the employees which are leaving and likely to leave. \n",
    "Hence, these are some of metrics to measure performance of classification model.\n",
    "'''"
   ]
  },
  {
   "cell_type": "code",
   "execution_count": 22,
   "metadata": {
    "id": "yr-Mk0E8lPVJ"
   },
   "outputs": [
    {
     "name": "stdout",
     "output_type": "stream",
     "text": [
      "207\n"
     ]
    }
   ],
   "source": [
    "assert len(why_metrics) > 100 \n",
    "print(len(why_metrics), \"You're good to go\")\n",
    "assert len(why_metrics) < 100 \n",
    "print(len(why_metrics), 'Add explanations')"
   ]
  },
  {
   "cell_type": "markdown",
   "metadata": {
    "id": "aAo19Ip6lUtm"
   },
   "source": [
    "### How would you know if your data analysis work is a success or not?\n",
    "minimum of 100 characters"
   ]
  },
  {
   "cell_type": "code",
   "execution_count": null,
   "metadata": {
    "id": "HESsiXW5llX-"
   },
   "outputs": [],
   "source": [
    "how_success = '''The project is measured and evaluated by the metrics measured above, and by applying real time data to the \n",
    "model and evaluate how it reacts. Usually, if the validation score is large enough, therefore, we can conclude that\n",
    "the analysis was successfully done\n",
    "'''"
   ]
  },
  {
   "cell_type": "code",
   "execution_count": null,
   "metadata": {
    "id": "FdUoiMIOlmXq"
   },
   "outputs": [],
   "source": [
    "assert len(how_success) > 100 \n",
    "print(len(how_success), \"You're good to go\")\n",
    "assert len(how_success) < 100 \n",
    "print(len(how_success), \"Add Explanations\")"
   ]
  },
  {
   "cell_type": "markdown",
   "metadata": {
    "id": "DQE6dqo6l1TZ"
   },
   "source": [
    "## What kind of challenges do you expect in your analysis?\n",
    "List at least 3 challenges"
   ]
  },
  {
   "cell_type": "code",
   "execution_count": 26,
   "metadata": {
    "id": "WrAhBQhQl8Lh"
   },
   "outputs": [],
   "source": [
    "challenge_text = '''The following are the expected Challenges;\n",
    "1. Less amount of training data, because, usually the company have only hundreds or thousands of employees\n",
    "2. Non-representative Training Data, which can make classification difficulty,\n",
    "3. Underfitting the Training data, due to less training data\n",
    "'''"
   ]
  },
  {
   "cell_type": "code",
   "execution_count": 28,
   "metadata": {
    "id": "EedHa-Pll8X7"
   },
   "outputs": [
    {
     "name": "stdout",
     "output_type": "stream",
     "text": [
      "290 You're good to go\n"
     ]
    }
   ],
   "source": [
    "assert len(challenge_text) > 100 \n",
    "print(len(challenge_text), \"You're good to go\")\n",
    "assert len(how_success) < 100 \n",
    "print(len(challenge_text), \"Add some Explanations\")"
   ]
  },
  {
   "cell_type": "markdown",
   "metadata": {},
   "source": [
    "<h2>Using the processed twitter data from yesterday's challenge</h2>.\n",
    "\n",
    "\n",
    "- Form a new data frame (named `cleanTweet`), containing columns $\\textbf{clean-text}$ and $\\textbf{polarity}$.\n",
    "\n",
    "- Write a function `text_category` that takes a value `p` and returns, depending on the value of p, a string `'positive'`, `'negative'` or `'neutral'`.\n",
    "\n",
    "- Apply this function (`text_category`) on the $\\textbf{polarity}$ column of `cleanTweet` in 1 above to form a new column called $\\textbf{score}$ in `cleanTweet`.\n",
    "\n",
    "- Visualize The $\\textbf{score}$ column using piechart and barchart\n",
    "\n",
    "<h5>Now we want to build a classification model on the clean tweet following the steps below:</h5>\n",
    "\n",
    "* Remove rows from `cleanTweet` where $\\textbf{polarity}$ $= 0$ (i.e where $\\textbf{score}$ = Neutral) and reset the frame index.\n",
    "* Construct a column $\\textbf{scoremap}$ Use the mapping {'positive':1, 'negative':0} on the $\\textbf{score}$ column\n",
    "* Create feature and target variables `(X,y)` from $\\textbf{clean-text}$ and $\\textbf{scoremap}$ columns respectively.\n",
    "* Use `train_test_split` function to construct `(X_train, y_train)` and `(X_test, y_test)` from `(X,y)`\n",
    "\n",
    "* Build an `SGDClassifier` model from the vectorize train text data. Use `CountVectorizer()` with a $\\textit{trigram}$ parameter.\n",
    "\n",
    "* Evaluate your model on the test data."
   ]
  },
  {
   "cell_type": "code",
   "execution_count": 1,
   "metadata": {},
   "outputs": [],
   "source": [
    "import warnings\n",
    "warnings.filterwarnings('ignore')\n",
    "import matplotlib.pyplot as plt\n",
    "import pandas as pd"
   ]
  },
  {
   "cell_type": "code",
   "execution_count": 3,
   "metadata": {},
   "outputs": [
    {
     "data": {
      "text/html": [
       "<div>\n",
       "<style scoped>\n",
       "    .dataframe tbody tr th:only-of-type {\n",
       "        vertical-align: middle;\n",
       "    }\n",
       "\n",
       "    .dataframe tbody tr th {\n",
       "        vertical-align: top;\n",
       "    }\n",
       "\n",
       "    .dataframe thead th {\n",
       "        text-align: right;\n",
       "    }\n",
       "</style>\n",
       "<table border=\"1\" class=\"dataframe\">\n",
       "  <thead>\n",
       "    <tr style=\"text-align: right;\">\n",
       "      <th></th>\n",
       "      <th>created_at</th>\n",
       "      <th>source</th>\n",
       "      <th>original_text</th>\n",
       "      <th>lang</th>\n",
       "      <th>sentiment</th>\n",
       "      <th>favorite_count</th>\n",
       "      <th>retweet_count</th>\n",
       "      <th>polarity</th>\n",
       "      <th>subjectivity</th>\n",
       "      <th>original_author</th>\n",
       "      <th>followers_count</th>\n",
       "      <th>friends_count</th>\n",
       "      <th>possibly_sensitive</th>\n",
       "      <th>hashtags</th>\n",
       "      <th>user_mentions</th>\n",
       "      <th>place</th>\n",
       "      <th>clean_text</th>\n",
       "    </tr>\n",
       "  </thead>\n",
       "  <tbody>\n",
       "    <tr>\n",
       "      <th>0</th>\n",
       "      <td>Fri Jun 18 17:55:49 +0000 2021</td>\n",
       "      <td>&lt;a href=\"http://twitter.com/download/iphone\" r...</td>\n",
       "      <td>🚨Africa is \"in the midst of a full-blown third...</td>\n",
       "      <td>en</td>\n",
       "      <td>Sentiment(polarity=0.16666666666666666, subjec...</td>\n",
       "      <td>548</td>\n",
       "      <td>612</td>\n",
       "      <td>0.166667</td>\n",
       "      <td>0.188889</td>\n",
       "      <td>ketuesriche</td>\n",
       "      <td>551</td>\n",
       "      <td>351</td>\n",
       "      <td>False</td>\n",
       "      <td>[]</td>\n",
       "      <td>{'screen_name': 'WHOAFRO', 'name': 'WHO Africa...</td>\n",
       "      <td>Mass</td>\n",
       "      <td>🚨Africa is \"in the midst of a full-blown third...</td>\n",
       "    </tr>\n",
       "    <tr>\n",
       "      <th>1</th>\n",
       "      <td>Fri Jun 18 17:55:59 +0000 2021</td>\n",
       "      <td>&lt;a href=\"https://mobile.twitter.com\" rel=\"nofo...</td>\n",
       "      <td>Dr Moeti is head of WHO in Africa, and one of ...</td>\n",
       "      <td>en</td>\n",
       "      <td>Sentiment(polarity=0.13333333333333333, subjec...</td>\n",
       "      <td>195</td>\n",
       "      <td>92</td>\n",
       "      <td>0.133333</td>\n",
       "      <td>0.455556</td>\n",
       "      <td>Grid1949</td>\n",
       "      <td>66</td>\n",
       "      <td>92</td>\n",
       "      <td>False</td>\n",
       "      <td>[]</td>\n",
       "      <td>NaN</td>\n",
       "      <td>Edinburgh, Scotland</td>\n",
       "      <td>Dr Moeti is head of WHO in Africa, and one of ...</td>\n",
       "    </tr>\n",
       "    <tr>\n",
       "      <th>2</th>\n",
       "      <td>Fri Jun 18 17:56:07 +0000 2021</td>\n",
       "      <td>&lt;a href=\"http://twitter.com/download/iphone\" r...</td>\n",
       "      <td>Thank you @research2note for creating this ama...</td>\n",
       "      <td>en</td>\n",
       "      <td>Sentiment(polarity=0.3166666666666667, subject...</td>\n",
       "      <td>2</td>\n",
       "      <td>1</td>\n",
       "      <td>0.316667</td>\n",
       "      <td>0.483333</td>\n",
       "      <td>LeeTomlinson8</td>\n",
       "      <td>1195</td>\n",
       "      <td>1176</td>\n",
       "      <td>False</td>\n",
       "      <td>['#red4research']</td>\n",
       "      <td>{'screen_name': 'Research2note', 'name': 'Rese...</td>\n",
       "      <td>NaN</td>\n",
       "      <td>Thank you @research2note for creating this ama...</td>\n",
       "    </tr>\n",
       "    <tr>\n",
       "      <th>3</th>\n",
       "      <td>Fri Jun 18 17:56:10 +0000 2021</td>\n",
       "      <td>&lt;a href=\"https://mobile.twitter.com\" rel=\"nofo...</td>\n",
       "      <td>Former Pfizer VP and Virologist, Dr. Michael Y...</td>\n",
       "      <td>en</td>\n",
       "      <td>Sentiment(polarity=0.08611111111111111, subjec...</td>\n",
       "      <td>1580</td>\n",
       "      <td>899</td>\n",
       "      <td>0.086111</td>\n",
       "      <td>0.197222</td>\n",
       "      <td>RIPNY08</td>\n",
       "      <td>2666</td>\n",
       "      <td>2704</td>\n",
       "      <td>False</td>\n",
       "      <td>['#Covid19']</td>\n",
       "      <td>NaN</td>\n",
       "      <td>NaN</td>\n",
       "      <td>Former Pfizer VP and Virologist, Dr. Michael Y...</td>\n",
       "    </tr>\n",
       "    <tr>\n",
       "      <th>4</th>\n",
       "      <td>Fri Jun 18 17:56:20 +0000 2021</td>\n",
       "      <td>&lt;a href=\"http://twitter.com/download/android\" ...</td>\n",
       "      <td>I think it’s important that we don’t sell COVA...</td>\n",
       "      <td>en</td>\n",
       "      <td>Sentiment(polarity=0.27999999999999997, subjec...</td>\n",
       "      <td>72</td>\n",
       "      <td>20</td>\n",
       "      <td>0.280000</td>\n",
       "      <td>0.620000</td>\n",
       "      <td>pash22</td>\n",
       "      <td>28250</td>\n",
       "      <td>30819</td>\n",
       "      <td>False</td>\n",
       "      <td>[]</td>\n",
       "      <td>{'screen_name': 'TexasChildrens', 'name': \"Tex...</td>\n",
       "      <td>United Kingdom</td>\n",
       "      <td>I think it’s important that we don’t sell COVA...</td>\n",
       "    </tr>\n",
       "  </tbody>\n",
       "</table>\n",
       "</div>"
      ],
      "text/plain": [
       "                       created_at  \\\n",
       "0  Fri Jun 18 17:55:49 +0000 2021   \n",
       "1  Fri Jun 18 17:55:59 +0000 2021   \n",
       "2  Fri Jun 18 17:56:07 +0000 2021   \n",
       "3  Fri Jun 18 17:56:10 +0000 2021   \n",
       "4  Fri Jun 18 17:56:20 +0000 2021   \n",
       "\n",
       "                                              source  \\\n",
       "0  <a href=\"http://twitter.com/download/iphone\" r...   \n",
       "1  <a href=\"https://mobile.twitter.com\" rel=\"nofo...   \n",
       "2  <a href=\"http://twitter.com/download/iphone\" r...   \n",
       "3  <a href=\"https://mobile.twitter.com\" rel=\"nofo...   \n",
       "4  <a href=\"http://twitter.com/download/android\" ...   \n",
       "\n",
       "                                       original_text lang  \\\n",
       "0  🚨Africa is \"in the midst of a full-blown third...   en   \n",
       "1  Dr Moeti is head of WHO in Africa, and one of ...   en   \n",
       "2  Thank you @research2note for creating this ama...   en   \n",
       "3  Former Pfizer VP and Virologist, Dr. Michael Y...   en   \n",
       "4  I think it’s important that we don’t sell COVA...   en   \n",
       "\n",
       "                                           sentiment  favorite_count  \\\n",
       "0  Sentiment(polarity=0.16666666666666666, subjec...             548   \n",
       "1  Sentiment(polarity=0.13333333333333333, subjec...             195   \n",
       "2  Sentiment(polarity=0.3166666666666667, subject...               2   \n",
       "3  Sentiment(polarity=0.08611111111111111, subjec...            1580   \n",
       "4  Sentiment(polarity=0.27999999999999997, subjec...              72   \n",
       "\n",
       "   retweet_count  polarity  subjectivity original_author  followers_count  \\\n",
       "0            612  0.166667      0.188889     ketuesriche              551   \n",
       "1             92  0.133333      0.455556        Grid1949               66   \n",
       "2              1  0.316667      0.483333   LeeTomlinson8             1195   \n",
       "3            899  0.086111      0.197222         RIPNY08             2666   \n",
       "4             20  0.280000      0.620000          pash22            28250   \n",
       "\n",
       "   friends_count possibly_sensitive           hashtags  \\\n",
       "0            351              False                 []   \n",
       "1             92              False                 []   \n",
       "2           1176              False  ['#red4research']   \n",
       "3           2704              False       ['#Covid19']   \n",
       "4          30819              False                 []   \n",
       "\n",
       "                                       user_mentions                place  \\\n",
       "0  {'screen_name': 'WHOAFRO', 'name': 'WHO Africa...                 Mass   \n",
       "1                                                NaN  Edinburgh, Scotland   \n",
       "2  {'screen_name': 'Research2note', 'name': 'Rese...                  NaN   \n",
       "3                                                NaN                  NaN   \n",
       "4  {'screen_name': 'TexasChildrens', 'name': \"Tex...       United Kingdom   \n",
       "\n",
       "                                          clean_text  \n",
       "0  🚨Africa is \"in the midst of a full-blown third...  \n",
       "1  Dr Moeti is head of WHO in Africa, and one of ...  \n",
       "2  Thank you @research2note for creating this ama...  \n",
       "3  Former Pfizer VP and Virologist, Dr. Michael Y...  \n",
       "4  I think it’s important that we don’t sell COVA...  "
      ]
     },
     "execution_count": 3,
     "metadata": {},
     "output_type": "execute_result"
    }
   ],
   "source": [
    "#To read csv file and create dataframe\n",
    "cleanTweet = pd.read_csv('processed_tweet_data.csv')\n",
    "cleanTweet['clean_text'] = cleanTweet['original_text']\n",
    "cleanTweet.head()"
   ]
  },
  {
   "cell_type": "code",
   "execution_count": 4,
   "metadata": {},
   "outputs": [
    {
     "name": "stdout",
     "output_type": "stream",
     "text": [
      "<class 'pandas.core.frame.DataFrame'>\n",
      "RangeIndex: 5365 entries, 0 to 5364\n",
      "Data columns (total 17 columns):\n",
      " #   Column              Non-Null Count  Dtype  \n",
      "---  ------              --------------  -----  \n",
      " 0   created_at          5365 non-null   object \n",
      " 1   source              5365 non-null   object \n",
      " 2   original_text       5365 non-null   object \n",
      " 3   lang                5365 non-null   object \n",
      " 4   sentiment           5365 non-null   object \n",
      " 5   favorite_count      5365 non-null   int64  \n",
      " 6   retweet_count       5365 non-null   int64  \n",
      " 7   polarity            5365 non-null   float64\n",
      " 8   subjectivity        5365 non-null   float64\n",
      " 9   original_author     5365 non-null   object \n",
      " 10  followers_count     5365 non-null   int64  \n",
      " 11  friends_count       5365 non-null   int64  \n",
      " 12  possibly_sensitive  3618 non-null   object \n",
      " 13  hashtags            5365 non-null   object \n",
      " 14  user_mentions       1349 non-null   object \n",
      " 15  place               3354 non-null   object \n",
      " 16  clean_text          5365 non-null   object \n",
      "dtypes: float64(2), int64(4), object(11)\n",
      "memory usage: 712.7+ KB\n"
     ]
    }
   ],
   "source": [
    "#To get information abou the data\n",
    "cleanTweet.info()"
   ]
  },
  {
   "cell_type": "code",
   "execution_count": 5,
   "metadata": {},
   "outputs": [
    {
     "name": "stdout",
     "output_type": "stream",
     "text": [
      "The number of missing value(s): 7774\n",
      "Columons having columns value:Index(['possibly_sensitive', 'user_mentions', 'place'], dtype='object')\n"
     ]
    }
   ],
   "source": [
    "print(\"The number of missing value(s): {}\".format(cleanTweet.isnull().sum().sum()))\n",
    "print(\"Columons having columns value:{}\".format(cleanTweet.columns[cleanTweet.isnull().any()]))"
   ]
  },
  {
   "cell_type": "code",
   "execution_count": 6,
   "metadata": {},
   "outputs": [],
   "source": [
    "tweets_filtered = pd.DataFrame(columns=['clean_text','polarity'])\n",
    "\n",
    "tweets_filtered['clean_text'] =  cleanTweet['clean_text'].to_list()\n",
    "tweets_filtered['polarity'] = cleanTweet['polarity'].to_list()"
   ]
  },
  {
   "cell_type": "code",
   "execution_count": 7,
   "metadata": {},
   "outputs": [
    {
     "data": {
      "text/html": [
       "<div>\n",
       "<style scoped>\n",
       "    .dataframe tbody tr th:only-of-type {\n",
       "        vertical-align: middle;\n",
       "    }\n",
       "\n",
       "    .dataframe tbody tr th {\n",
       "        vertical-align: top;\n",
       "    }\n",
       "\n",
       "    .dataframe thead th {\n",
       "        text-align: right;\n",
       "    }\n",
       "</style>\n",
       "<table border=\"1\" class=\"dataframe\">\n",
       "  <thead>\n",
       "    <tr style=\"text-align: right;\">\n",
       "      <th></th>\n",
       "      <th>clean_text</th>\n",
       "      <th>polarity</th>\n",
       "    </tr>\n",
       "  </thead>\n",
       "  <tbody>\n",
       "    <tr>\n",
       "      <th>0</th>\n",
       "      <td>🚨Africa is \"in the midst of a full-blown third...</td>\n",
       "      <td>0.166667</td>\n",
       "    </tr>\n",
       "    <tr>\n",
       "      <th>1</th>\n",
       "      <td>Dr Moeti is head of WHO in Africa, and one of ...</td>\n",
       "      <td>0.133333</td>\n",
       "    </tr>\n",
       "    <tr>\n",
       "      <th>2</th>\n",
       "      <td>Thank you @research2note for creating this ama...</td>\n",
       "      <td>0.316667</td>\n",
       "    </tr>\n",
       "    <tr>\n",
       "      <th>3</th>\n",
       "      <td>Former Pfizer VP and Virologist, Dr. Michael Y...</td>\n",
       "      <td>0.086111</td>\n",
       "    </tr>\n",
       "    <tr>\n",
       "      <th>4</th>\n",
       "      <td>I think it’s important that we don’t sell COVA...</td>\n",
       "      <td>0.280000</td>\n",
       "    </tr>\n",
       "  </tbody>\n",
       "</table>\n",
       "</div>"
      ],
      "text/plain": [
       "                                          clean_text  polarity\n",
       "0  🚨Africa is \"in the midst of a full-blown third...  0.166667\n",
       "1  Dr Moeti is head of WHO in Africa, and one of ...  0.133333\n",
       "2  Thank you @research2note for creating this ama...  0.316667\n",
       "3  Former Pfizer VP and Virologist, Dr. Michael Y...  0.086111\n",
       "4  I think it’s important that we don’t sell COVA...  0.280000"
      ]
     },
     "execution_count": 7,
     "metadata": {},
     "output_type": "execute_result"
    }
   ],
   "source": [
    "tweets_filtered.head()"
   ]
  },
  {
   "cell_type": "code",
   "execution_count": 8,
   "metadata": {},
   "outputs": [
    {
     "data": {
      "text/html": [
       "<div>\n",
       "<style scoped>\n",
       "    .dataframe tbody tr th:only-of-type {\n",
       "        vertical-align: middle;\n",
       "    }\n",
       "\n",
       "    .dataframe tbody tr th {\n",
       "        vertical-align: top;\n",
       "    }\n",
       "\n",
       "    .dataframe thead th {\n",
       "        text-align: right;\n",
       "    }\n",
       "</style>\n",
       "<table border=\"1\" class=\"dataframe\">\n",
       "  <thead>\n",
       "    <tr style=\"text-align: right;\">\n",
       "      <th></th>\n",
       "      <th>clean_text</th>\n",
       "      <th>polarity</th>\n",
       "    </tr>\n",
       "  </thead>\n",
       "  <tbody>\n",
       "    <tr>\n",
       "      <th>0</th>\n",
       "      <td>🚨Africa is \"in the midst of a full-blown third...</td>\n",
       "      <td>0.166667</td>\n",
       "    </tr>\n",
       "    <tr>\n",
       "      <th>1</th>\n",
       "      <td>Dr Moeti is head of WHO in Africa, and one of ...</td>\n",
       "      <td>0.133333</td>\n",
       "    </tr>\n",
       "    <tr>\n",
       "      <th>2</th>\n",
       "      <td>Thank you @research2note for creating this ama...</td>\n",
       "      <td>0.316667</td>\n",
       "    </tr>\n",
       "    <tr>\n",
       "      <th>3</th>\n",
       "      <td>Former Pfizer VP and Virologist, Dr. Michael Y...</td>\n",
       "      <td>0.086111</td>\n",
       "    </tr>\n",
       "    <tr>\n",
       "      <th>4</th>\n",
       "      <td>I think it’s important that we don’t sell COVA...</td>\n",
       "      <td>0.280000</td>\n",
       "    </tr>\n",
       "    <tr>\n",
       "      <th>...</th>\n",
       "      <td>...</td>\n",
       "      <td>...</td>\n",
       "    </tr>\n",
       "    <tr>\n",
       "      <th>95</th>\n",
       "      <td>Covid19 vaccines reach the remotest places of ...</td>\n",
       "      <td>-0.050000</td>\n",
       "    </tr>\n",
       "    <tr>\n",
       "      <th>96</th>\n",
       "      <td>#Healthcare systems nationwide are taking acti...</td>\n",
       "      <td>0.186111</td>\n",
       "    </tr>\n",
       "    <tr>\n",
       "      <th>97</th>\n",
       "      <td>Please do your research first if you read or s...</td>\n",
       "      <td>0.316667</td>\n",
       "    </tr>\n",
       "    <tr>\n",
       "      <th>98</th>\n",
       "      <td>Excited to be racing at @roadamerica this week...</td>\n",
       "      <td>0.375000</td>\n",
       "    </tr>\n",
       "    <tr>\n",
       "      <th>99</th>\n",
       "      <td>\"In Africa, #COVID19 cases have increased by 5...</td>\n",
       "      <td>-0.145238</td>\n",
       "    </tr>\n",
       "  </tbody>\n",
       "</table>\n",
       "<p>100 rows × 2 columns</p>\n",
       "</div>"
      ],
      "text/plain": [
       "                                           clean_text  polarity\n",
       "0   🚨Africa is \"in the midst of a full-blown third...  0.166667\n",
       "1   Dr Moeti is head of WHO in Africa, and one of ...  0.133333\n",
       "2   Thank you @research2note for creating this ama...  0.316667\n",
       "3   Former Pfizer VP and Virologist, Dr. Michael Y...  0.086111\n",
       "4   I think it’s important that we don’t sell COVA...  0.280000\n",
       "..                                                ...       ...\n",
       "95  Covid19 vaccines reach the remotest places of ... -0.050000\n",
       "96  #Healthcare systems nationwide are taking acti...  0.186111\n",
       "97  Please do your research first if you read or s...  0.316667\n",
       "98  Excited to be racing at @roadamerica this week...  0.375000\n",
       "99  \"In Africa, #COVID19 cases have increased by 5... -0.145238\n",
       "\n",
       "[100 rows x 2 columns]"
      ]
     },
     "execution_count": 8,
     "metadata": {},
     "output_type": "execute_result"
    }
   ],
   "source": [
    "tweets_filtered.dropna()\n",
    "tweets_filtered[:100]"
   ]
  },
  {
   "cell_type": "code",
   "execution_count": 9,
   "metadata": {},
   "outputs": [],
   "source": [
    "def text_category(p):\n",
    "    if p == 0:\n",
    "        return \"neutral\"\n",
    "    elif p > 0:\n",
    "        \n",
    "        return \"positive\"\n",
    "    else:\n",
    "        return \"negative\""
   ]
  },
  {
   "cell_type": "code",
   "execution_count": 10,
   "metadata": {},
   "outputs": [
    {
     "data": {
      "text/html": [
       "<div>\n",
       "<style scoped>\n",
       "    .dataframe tbody tr th:only-of-type {\n",
       "        vertical-align: middle;\n",
       "    }\n",
       "\n",
       "    .dataframe tbody tr th {\n",
       "        vertical-align: top;\n",
       "    }\n",
       "\n",
       "    .dataframe thead th {\n",
       "        text-align: right;\n",
       "    }\n",
       "</style>\n",
       "<table border=\"1\" class=\"dataframe\">\n",
       "  <thead>\n",
       "    <tr style=\"text-align: right;\">\n",
       "      <th></th>\n",
       "      <th>clean_text</th>\n",
       "      <th>polarity</th>\n",
       "      <th>score</th>\n",
       "    </tr>\n",
       "  </thead>\n",
       "  <tbody>\n",
       "    <tr>\n",
       "      <th>0</th>\n",
       "      <td>🚨Africa is \"in the midst of a full-blown third...</td>\n",
       "      <td>0.166667</td>\n",
       "      <td>positive</td>\n",
       "    </tr>\n",
       "    <tr>\n",
       "      <th>1</th>\n",
       "      <td>Dr Moeti is head of WHO in Africa, and one of ...</td>\n",
       "      <td>0.133333</td>\n",
       "      <td>positive</td>\n",
       "    </tr>\n",
       "    <tr>\n",
       "      <th>2</th>\n",
       "      <td>Thank you @research2note for creating this ama...</td>\n",
       "      <td>0.316667</td>\n",
       "      <td>positive</td>\n",
       "    </tr>\n",
       "    <tr>\n",
       "      <th>3</th>\n",
       "      <td>Former Pfizer VP and Virologist, Dr. Michael Y...</td>\n",
       "      <td>0.086111</td>\n",
       "      <td>positive</td>\n",
       "    </tr>\n",
       "    <tr>\n",
       "      <th>4</th>\n",
       "      <td>I think it’s important that we don’t sell COVA...</td>\n",
       "      <td>0.280000</td>\n",
       "      <td>positive</td>\n",
       "    </tr>\n",
       "    <tr>\n",
       "      <th>...</th>\n",
       "      <td>...</td>\n",
       "      <td>...</td>\n",
       "      <td>...</td>\n",
       "    </tr>\n",
       "    <tr>\n",
       "      <th>95</th>\n",
       "      <td>Covid19 vaccines reach the remotest places of ...</td>\n",
       "      <td>-0.050000</td>\n",
       "      <td>negative</td>\n",
       "    </tr>\n",
       "    <tr>\n",
       "      <th>96</th>\n",
       "      <td>#Healthcare systems nationwide are taking acti...</td>\n",
       "      <td>0.186111</td>\n",
       "      <td>positive</td>\n",
       "    </tr>\n",
       "    <tr>\n",
       "      <th>97</th>\n",
       "      <td>Please do your research first if you read or s...</td>\n",
       "      <td>0.316667</td>\n",
       "      <td>positive</td>\n",
       "    </tr>\n",
       "    <tr>\n",
       "      <th>98</th>\n",
       "      <td>Excited to be racing at @roadamerica this week...</td>\n",
       "      <td>0.375000</td>\n",
       "      <td>positive</td>\n",
       "    </tr>\n",
       "    <tr>\n",
       "      <th>99</th>\n",
       "      <td>\"In Africa, #COVID19 cases have increased by 5...</td>\n",
       "      <td>-0.145238</td>\n",
       "      <td>negative</td>\n",
       "    </tr>\n",
       "  </tbody>\n",
       "</table>\n",
       "<p>100 rows × 3 columns</p>\n",
       "</div>"
      ],
      "text/plain": [
       "                                           clean_text  polarity     score\n",
       "0   🚨Africa is \"in the midst of a full-blown third...  0.166667  positive\n",
       "1   Dr Moeti is head of WHO in Africa, and one of ...  0.133333  positive\n",
       "2   Thank you @research2note for creating this ama...  0.316667  positive\n",
       "3   Former Pfizer VP and Virologist, Dr. Michael Y...  0.086111  positive\n",
       "4   I think it’s important that we don’t sell COVA...  0.280000  positive\n",
       "..                                                ...       ...       ...\n",
       "95  Covid19 vaccines reach the remotest places of ... -0.050000  negative\n",
       "96  #Healthcare systems nationwide are taking acti...  0.186111  positive\n",
       "97  Please do your research first if you read or s...  0.316667  positive\n",
       "98  Excited to be racing at @roadamerica this week...  0.375000  positive\n",
       "99  \"In Africa, #COVID19 cases have increased by 5... -0.145238  negative\n",
       "\n",
       "[100 rows x 3 columns]"
      ]
     },
     "execution_count": 10,
     "metadata": {},
     "output_type": "execute_result"
    }
   ],
   "source": [
    "tweets_filtered['polarity']=pd.to_numeric(tweets_filtered['polarity'],errors='coerce')\n",
    "tweets_filtered['score'] = tweets_filtered.polarity.apply(text_category)\n",
    "    \n",
    "tweets_filtered[:100]"
   ]
  },
  {
   "cell_type": "code",
   "execution_count": 11,
   "metadata": {},
   "outputs": [
    {
     "data": {
      "image/png": "[encoded data removed]",
      "text/plain": [
       "<Figure size 792x432 with 1 Axes>"
      ]
     },
     "metadata": {},
     "output_type": "display_data"
    },
    {
     "data": {
      "image/png": "[encoded data removed]",
      "text/plain": [
       "<Figure size 720x288 with 1 Axes>"
      ]
     },
     "metadata": {
      "needs_background": "light"
     },
     "output_type": "display_data"
    }
   ],
   "source": [
    "a,b,c = 0,0,0\n",
    "for element in tweets_filtered.score:\n",
    "    if element == 'positive':\n",
    "        a +=1\n",
    "    elif element == 'negative':\n",
    "        b +=1\n",
    "    else:\n",
    "        c +=1\n",
    "        \n",
    "df = pd.DataFrame({'score': [a, b , c]},\n",
    "                  index=['positive', 'negative', 'neutral'])\n",
    "plot = df.plot.pie(y='score', figsize=(11, 6),subplots=True)\n",
    "\n",
    "# tweets_filtered.hist(column='polarity')\n",
    "#Bar chart\n",
    "colors = ['darkblue', 'green','orange']\n",
    "\n",
    "plt.figure(figsize=(10,4))\n",
    "tweets_filtered['score'].value_counts().plot(kind='bar', rot = 50, color= colors)\n",
    "plt.title('Polarity scores')\n",
    "plt.xlabel('scores')\n",
    "plt.ylabel('count');"
   ]
  },
  {
   "cell_type": "code",
   "execution_count": 12,
   "metadata": {},
   "outputs": [
    {
     "data": {
      "text/html": [
       "<div>\n",
       "<style scoped>\n",
       "    .dataframe tbody tr th:only-of-type {\n",
       "        vertical-align: middle;\n",
       "    }\n",
       "\n",
       "    .dataframe tbody tr th {\n",
       "        vertical-align: top;\n",
       "    }\n",
       "\n",
       "    .dataframe thead th {\n",
       "        text-align: right;\n",
       "    }\n",
       "</style>\n",
       "<table border=\"1\" class=\"dataframe\">\n",
       "  <thead>\n",
       "    <tr style=\"text-align: right;\">\n",
       "      <th></th>\n",
       "      <th>clean_text</th>\n",
       "      <th>polarity</th>\n",
       "      <th>score</th>\n",
       "    </tr>\n",
       "  </thead>\n",
       "  <tbody>\n",
       "    <tr>\n",
       "      <th>0</th>\n",
       "      <td>🚨Africa is \"in the midst of a full-blown third...</td>\n",
       "      <td>0.166667</td>\n",
       "      <td>positive</td>\n",
       "    </tr>\n",
       "    <tr>\n",
       "      <th>1</th>\n",
       "      <td>Dr Moeti is head of WHO in Africa, and one of ...</td>\n",
       "      <td>0.133333</td>\n",
       "      <td>positive</td>\n",
       "    </tr>\n",
       "    <tr>\n",
       "      <th>2</th>\n",
       "      <td>Thank you @research2note for creating this ama...</td>\n",
       "      <td>0.316667</td>\n",
       "      <td>positive</td>\n",
       "    </tr>\n",
       "    <tr>\n",
       "      <th>3</th>\n",
       "      <td>Former Pfizer VP and Virologist, Dr. Michael Y...</td>\n",
       "      <td>0.086111</td>\n",
       "      <td>positive</td>\n",
       "    </tr>\n",
       "    <tr>\n",
       "      <th>4</th>\n",
       "      <td>I think it’s important that we don’t sell COVA...</td>\n",
       "      <td>0.280000</td>\n",
       "      <td>positive</td>\n",
       "    </tr>\n",
       "    <tr>\n",
       "      <th>...</th>\n",
       "      <td>...</td>\n",
       "      <td>...</td>\n",
       "      <td>...</td>\n",
       "    </tr>\n",
       "    <tr>\n",
       "      <th>95</th>\n",
       "      <td>@IsraelMFA Israel is a brutal nazi-like entity...</td>\n",
       "      <td>-0.437500</td>\n",
       "      <td>negative</td>\n",
       "    </tr>\n",
       "    <tr>\n",
       "      <th>96</th>\n",
       "      <td>All UK adults are now eligible for their #Covi...</td>\n",
       "      <td>0.275000</td>\n",
       "      <td>positive</td>\n",
       "    </tr>\n",
       "    <tr>\n",
       "      <th>97</th>\n",
       "      <td>BioCubaFarma says phase 3 clinical trial resul...</td>\n",
       "      <td>-0.162500</td>\n",
       "      <td>negative</td>\n",
       "    </tr>\n",
       "    <tr>\n",
       "      <th>98</th>\n",
       "      <td>Some good news for Friday. Yesterday we had ou...</td>\n",
       "      <td>0.155556</td>\n",
       "      <td>positive</td>\n",
       "    </tr>\n",
       "    <tr>\n",
       "      <th>99</th>\n",
       "      <td>@IsraelMFA Israel is a brutal nazi-like entity...</td>\n",
       "      <td>-0.437500</td>\n",
       "      <td>negative</td>\n",
       "    </tr>\n",
       "  </tbody>\n",
       "</table>\n",
       "<p>100 rows × 3 columns</p>\n",
       "</div>"
      ],
      "text/plain": [
       "                                           clean_text  polarity     score\n",
       "0   🚨Africa is \"in the midst of a full-blown third...  0.166667  positive\n",
       "1   Dr Moeti is head of WHO in Africa, and one of ...  0.133333  positive\n",
       "2   Thank you @research2note for creating this ama...  0.316667  positive\n",
       "3   Former Pfizer VP and Virologist, Dr. Michael Y...  0.086111  positive\n",
       "4   I think it’s important that we don’t sell COVA...  0.280000  positive\n",
       "..                                                ...       ...       ...\n",
       "95  @IsraelMFA Israel is a brutal nazi-like entity... -0.437500  negative\n",
       "96  All UK adults are now eligible for their #Covi...  0.275000  positive\n",
       "97  BioCubaFarma says phase 3 clinical trial resul... -0.162500  negative\n",
       "98  Some good news for Friday. Yesterday we had ou...  0.155556  positive\n",
       "99  @IsraelMFA Israel is a brutal nazi-like entity... -0.437500  negative\n",
       "\n",
       "[100 rows x 3 columns]"
      ]
     },
     "execution_count": 12,
     "metadata": {},
     "output_type": "execute_result"
    }
   ],
   "source": [
    "# Deleting neutral scores\n",
    "indices = tweets_filtered.loc[tweets_filtered['score']=='neutral'].index\n",
    "tweets_filtered.drop(indices, inplace=True)\n",
    "tweets_filtered=tweets_filtered.reset_index(drop=True)\n",
    "tweets_filtered[:100]"
   ]
  },
  {
   "cell_type": "code",
   "execution_count": 13,
   "metadata": {},
   "outputs": [],
   "source": [
    "def score_to_logic(p):\n",
    "    if p == \"positive\":\n",
    "        return 1\n",
    "    else:\n",
    "        return 0"
   ]
  },
  {
   "cell_type": "code",
   "execution_count": 14,
   "metadata": {},
   "outputs": [
    {
     "data": {
      "text/html": [
       "<div>\n",
       "<style scoped>\n",
       "    .dataframe tbody tr th:only-of-type {\n",
       "        vertical-align: middle;\n",
       "    }\n",
       "\n",
       "    .dataframe tbody tr th {\n",
       "        vertical-align: top;\n",
       "    }\n",
       "\n",
       "    .dataframe thead th {\n",
       "        text-align: right;\n",
       "    }\n",
       "</style>\n",
       "<table border=\"1\" class=\"dataframe\">\n",
       "  <thead>\n",
       "    <tr style=\"text-align: right;\">\n",
       "      <th></th>\n",
       "      <th>clean_text</th>\n",
       "      <th>polarity</th>\n",
       "      <th>score</th>\n",
       "      <th>scoremap</th>\n",
       "    </tr>\n",
       "  </thead>\n",
       "  <tbody>\n",
       "    <tr>\n",
       "      <th>0</th>\n",
       "      <td>🚨Africa is \"in the midst of a full-blown third...</td>\n",
       "      <td>0.166667</td>\n",
       "      <td>positive</td>\n",
       "      <td>1</td>\n",
       "    </tr>\n",
       "    <tr>\n",
       "      <th>1</th>\n",
       "      <td>Dr Moeti is head of WHO in Africa, and one of ...</td>\n",
       "      <td>0.133333</td>\n",
       "      <td>positive</td>\n",
       "      <td>1</td>\n",
       "    </tr>\n",
       "    <tr>\n",
       "      <th>2</th>\n",
       "      <td>Thank you @research2note for creating this ama...</td>\n",
       "      <td>0.316667</td>\n",
       "      <td>positive</td>\n",
       "      <td>1</td>\n",
       "    </tr>\n",
       "    <tr>\n",
       "      <th>3</th>\n",
       "      <td>Former Pfizer VP and Virologist, Dr. Michael Y...</td>\n",
       "      <td>0.086111</td>\n",
       "      <td>positive</td>\n",
       "      <td>1</td>\n",
       "    </tr>\n",
       "    <tr>\n",
       "      <th>4</th>\n",
       "      <td>I think it’s important that we don’t sell COVA...</td>\n",
       "      <td>0.280000</td>\n",
       "      <td>positive</td>\n",
       "      <td>1</td>\n",
       "    </tr>\n",
       "    <tr>\n",
       "      <th>...</th>\n",
       "      <td>...</td>\n",
       "      <td>...</td>\n",
       "      <td>...</td>\n",
       "      <td>...</td>\n",
       "    </tr>\n",
       "    <tr>\n",
       "      <th>95</th>\n",
       "      <td>@IsraelMFA Israel is a brutal nazi-like entity...</td>\n",
       "      <td>-0.437500</td>\n",
       "      <td>negative</td>\n",
       "      <td>0</td>\n",
       "    </tr>\n",
       "    <tr>\n",
       "      <th>96</th>\n",
       "      <td>All UK adults are now eligible for their #Covi...</td>\n",
       "      <td>0.275000</td>\n",
       "      <td>positive</td>\n",
       "      <td>1</td>\n",
       "    </tr>\n",
       "    <tr>\n",
       "      <th>97</th>\n",
       "      <td>BioCubaFarma says phase 3 clinical trial resul...</td>\n",
       "      <td>-0.162500</td>\n",
       "      <td>negative</td>\n",
       "      <td>0</td>\n",
       "    </tr>\n",
       "    <tr>\n",
       "      <th>98</th>\n",
       "      <td>Some good news for Friday. Yesterday we had ou...</td>\n",
       "      <td>0.155556</td>\n",
       "      <td>positive</td>\n",
       "      <td>1</td>\n",
       "    </tr>\n",
       "    <tr>\n",
       "      <th>99</th>\n",
       "      <td>@IsraelMFA Israel is a brutal nazi-like entity...</td>\n",
       "      <td>-0.437500</td>\n",
       "      <td>negative</td>\n",
       "      <td>0</td>\n",
       "    </tr>\n",
       "  </tbody>\n",
       "</table>\n",
       "<p>100 rows × 4 columns</p>\n",
       "</div>"
      ],
      "text/plain": [
       "                                           clean_text  polarity     score  \\\n",
       "0   🚨Africa is \"in the midst of a full-blown third...  0.166667  positive   \n",
       "1   Dr Moeti is head of WHO in Africa, and one of ...  0.133333  positive   \n",
       "2   Thank you @research2note for creating this ama...  0.316667  positive   \n",
       "3   Former Pfizer VP and Virologist, Dr. Michael Y...  0.086111  positive   \n",
       "4   I think it’s important that we don’t sell COVA...  0.280000  positive   \n",
       "..                                                ...       ...       ...   \n",
       "95  @IsraelMFA Israel is a brutal nazi-like entity... -0.437500  negative   \n",
       "96  All UK adults are now eligible for their #Covi...  0.275000  positive   \n",
       "97  BioCubaFarma says phase 3 clinical trial resul... -0.162500  negative   \n",
       "98  Some good news for Friday. Yesterday we had ou...  0.155556  positive   \n",
       "99  @IsraelMFA Israel is a brutal nazi-like entity... -0.437500  negative   \n",
       "\n",
       "    scoremap  \n",
       "0          1  \n",
       "1          1  \n",
       "2          1  \n",
       "3          1  \n",
       "4          1  \n",
       "..       ...  \n",
       "95         0  \n",
       "96         1  \n",
       "97         0  \n",
       "98         1  \n",
       "99         0  \n",
       "\n",
       "[100 rows x 4 columns]"
      ]
     },
     "execution_count": 14,
     "metadata": {},
     "output_type": "execute_result"
    }
   ],
   "source": [
    "tweets_filtered['scoremap'] = tweets_filtered.score.apply(score_to_logic)\n",
    "tweets_filtered[:100]"
   ]
  },
  {
   "cell_type": "code",
   "execution_count": 15,
   "metadata": {},
   "outputs": [
    {
     "data": {
      "text/plain": [
       "0    🚨Africa is \"in the midst of a full-blown third...\n",
       "1    Dr Moeti is head of WHO in Africa, and one of ...\n",
       "2    Thank you @research2note for creating this ama...\n",
       "3    Former Pfizer VP and Virologist, Dr. Michael Y...\n",
       "4    I think it’s important that we don’t sell COVA...\n",
       "Name: clean_text, dtype: object"
      ]
     },
     "execution_count": 15,
     "metadata": {},
     "output_type": "execute_result"
    }
   ],
   "source": [
    "# Assigning Target variable and splitting the data\n",
    "from sklearn.model_selection import train_test_split\n",
    "X,y = tweets_filtered['clean_text'], tweets_filtered['scoremap']\n",
    "X_train, X_test, y_train, y_test = train_test_split(X, y, test_size = 0.20, random_state=1)\n",
    "X.head()\n",
    "# y_test.head()"
   ]
  },
  {
   "cell_type": "code",
   "execution_count": 16,
   "metadata": {},
   "outputs": [],
   "source": [
    "# Vectorizing X_train, X_test\n",
    "from sklearn.feature_extraction.text import CountVectorizer\n",
    "count_v = CountVectorizer(ngram_range=(3, 3))\n",
    "X_train_cv = count_v.fit_transform(X_train)\n",
    "X_test_cv = count_v.transform(X_test)"
   ]
  },
  {
   "cell_type": "code",
   "execution_count": 17,
   "metadata": {},
   "outputs": [],
   "source": [
    "# SGDC Classifier\n",
    "from sklearn.linear_model import SGDClassifier\n",
    "clf = SGDClassifier()\n",
    "clf.fit(X_train_cv, y_train)\n",
    "predictions = clf.predict(X_test_cv)\n"
   ]
  },
  {
   "cell_type": "code",
   "execution_count": 203,
   "metadata": {},
   "outputs": [
    {
     "name": "stdout",
     "output_type": "stream",
     "text": [
      "Accuracy : 0.9828080229226361\n",
      "Results: \n",
      "              precision    recall  f1-score   support\n",
      "\n",
      "           0       0.99      0.94      0.97       179\n",
      "           1       0.98      1.00      0.99       519\n",
      "\n",
      "    accuracy                           0.98       698\n",
      "   macro avg       0.98      0.97      0.98       698\n",
      "weighted avg       0.98      0.98      0.98       698\n",
      "\n"
     ]
    }
   ],
   "source": [
    "# Performance Analysis of the  metrics\n",
    "\n",
    "from sklearn.metrics import accuracy_score, precision_score, recall_score, f1_score, roc_curve, auc, confusion_matrix,classification_report\n",
    "results = confusion_matrix(y_test, predictions) \n",
    "\n",
    "print ('Accuracy :',accuracy_score(y_test, predictions)) \n",
    "print ('Results: ')\n",
    "print (classification_report(y_test, predictions))\n",
    "\n",
    "# End of Project"
   ]
  },
  {
   "cell_type": "code",
   "execution_count": null,
   "metadata": {},
   "outputs": [],
   "source": []
  }
 ],
 "metadata": {
  "colab": {
   "authorship_tag": "ABX9TyO6PgFRMlUXDp0jxgb9maVi",
   "collapsed_sections": [],
   "mount_file_id": "15ve2DLGFsqNZcDbxKD5DqFSSGLNhKkR7",
   "name": "Challenge_ Day2.ipynb",
   "provenance": []
  },
  "kernelspec": {
   "display_name": "Python 3",
   "language": "python",
   "name": "python3"
  },
  "language_info": {
   "codemirror_mode": {
    "name": "ipython",
    "version": 3
   },
   "file_extension": ".py",
   "mimetype": "text/x-python",
   "name": "python",
   "nbconvert_exporter": "python",
   "pygments_lexer": "ipython3",
   "version": "3.8.8"
  }
 },
 "nbformat": 4,
 "nbformat_minor": 1
}
