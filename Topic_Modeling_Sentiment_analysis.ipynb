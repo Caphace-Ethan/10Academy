{
 "cells": [
  {
   "cell_type": "markdown",
   "id": "cb7a0e80",
   "metadata": {},
   "source": [
    "# Project: Topic Modeling and Sentiment Analysis on Twitter Data\n",
    "\n",
    "## **Objective **\n",
    "### Social Media Tweet Analysis on Twitter Dataset\n",
    "*   Topic Modeling on Twitter Dataset\n",
    "*   Sentiment analysis on Twitter Dataset"
   ]
  },
  {
   "cell_type": "markdown",
   "id": "71834e5b",
   "metadata": {},
   "source": [
    "### **Topic modeling**\n",
    "Topic modeling is a type of statistical model for discovering the abstract \"topics\" that occur in a collection of texts.\n",
    "\n",
    "\n",
    "*   The task here is to discover abstract topics from tweets.\n",
    "\n",
    "\n",
    "### **Sentiment analysis**\n",
    " It is used in social media monitoring, allowing businesses to gain insights about how customers feel about certain topics, and detect urgent issues in real time before they spiral out of control.\n",
    "\n",
    "\n",
    "*   The task here is to classify a tweet as a positive or negative tweet sentiment wise."
   ]
  },
  {
   "cell_type": "markdown",
   "id": "c58c66e3",
   "metadata": {},
   "source": [
    "## Data Understanding\n",
    "### Loading necessary packages"
   ]
  },
  {
   "cell_type": "code",
   "execution_count": 16,
   "id": "20870ac5",
   "metadata": {},
   "outputs": [],
   "source": [
    "import json\n",
    "import warnings\n",
    "warnings.filterwarnings('ignore')\n",
    "import matplotlib.pyplot as plt\n",
    "import seaborn as sns\n",
    "from wordcloud import STOPWORDS,WordCloud\n",
    "from gensim import corpora\n",
    "import pandas as pd\n",
    "import string\n",
    "import re\n",
    "from textblob import TextBlob"
   ]
  },
  {
   "cell_type": "code",
   "execution_count": 104,
   "id": "8b569c8e",
   "metadata": {},
   "outputs": [],
   "source": [
    "def read_json(json_file: str)->list:\n",
    "    \"\"\"\n",
    "    json file reader to open and read json files into a list\n",
    "    Args:\n",
    "    -----\n",
    "    json_file: str - path of a json file\n",
    "    \n",
    "    Returns\n",
    "    -------\n",
    "    length of the json file and a list of json\n",
    "    \"\"\"\n",
    "    \n",
    "    tweets_data = []\n",
    "    for tweets in open(json_file,'r'):\n",
    "        tweets_data.append(json.loads(tweets))\n",
    "    \n",
    "    return len(tweets_data), tweets_data\n"
   ]
  },
  {
   "cell_type": "code",
   "execution_count": 128,
   "id": "25cadf3a",
   "metadata": {},
   "outputs": [
    {
     "name": "stdout",
     "output_type": "stream",
     "text": [
      "File Successfully Saved.!!!\n"
     ]
    },
    {
     "data": {
      "text/html": [
       "<div>\n",
       "<style scoped>\n",
       "    .dataframe tbody tr th:only-of-type {\n",
       "        vertical-align: middle;\n",
       "    }\n",
       "\n",
       "    .dataframe tbody tr th {\n",
       "        vertical-align: top;\n",
       "    }\n",
       "\n",
       "    .dataframe thead th {\n",
       "        text-align: right;\n",
       "    }\n",
       "</style>\n",
       "<table border=\"1\" class=\"dataframe\">\n",
       "  <thead>\n",
       "    <tr style=\"text-align: right;\">\n",
       "      <th></th>\n",
       "      <th>created_at</th>\n",
       "      <th>tweet_id</th>\n",
       "      <th>cleaned_text</th>\n",
       "      <th>lang</th>\n",
       "      <th>possibly_sensitive</th>\n",
       "    </tr>\n",
       "  </thead>\n",
       "  <tbody>\n",
       "    <tr>\n",
       "      <th>0</th>\n",
       "      <td>Thu Jun 17 16:18:28 +0000 2021</td>\n",
       "      <td>1405947374003015684</td>\n",
       "      <td>🚨Africa is \"in the midst of a full-blown third...</td>\n",
       "      <td>en</td>\n",
       "      <td>False</td>\n",
       "    </tr>\n",
       "    <tr>\n",
       "      <th>1</th>\n",
       "      <td>Fri Jun 18 16:40:24 +0000 2021</td>\n",
       "      <td>1405947412364075010</td>\n",
       "      <td>Dr Moeti is head of WHO in Africa, and one of ...</td>\n",
       "      <td>en</td>\n",
       "      <td>False</td>\n",
       "    </tr>\n",
       "    <tr>\n",
       "      <th>2</th>\n",
       "      <td>Fri Jun 18 17:45:27 +0000 2021</td>\n",
       "      <td>1405947447797587969</td>\n",
       "      <td>Thank you @research2note for creating this ama...</td>\n",
       "      <td>en</td>\n",
       "      <td>None</td>\n",
       "    </tr>\n",
       "    <tr>\n",
       "      <th>3</th>\n",
       "      <td>Wed Jun 16 00:21:22 +0000 2021</td>\n",
       "      <td>1405947462028873729</td>\n",
       "      <td>Former Pfizer VP and Virologist, Dr. Michael Y...</td>\n",
       "      <td>en</td>\n",
       "      <td>False</td>\n",
       "    </tr>\n",
       "    <tr>\n",
       "      <th>4</th>\n",
       "      <td>Fri Jun 18 13:34:47 +0000 2021</td>\n",
       "      <td>1405947503225229317</td>\n",
       "      <td>I think it’s important that we don’t sell COVA...</td>\n",
       "      <td>en</td>\n",
       "      <td>None</td>\n",
       "    </tr>\n",
       "  </tbody>\n",
       "</table>\n",
       "</div>"
      ],
      "text/plain": [
       "                       created_at             tweet_id  \\\n",
       "0  Thu Jun 17 16:18:28 +0000 2021  1405947374003015684   \n",
       "1  Fri Jun 18 16:40:24 +0000 2021  1405947412364075010   \n",
       "2  Fri Jun 18 17:45:27 +0000 2021  1405947447797587969   \n",
       "3  Wed Jun 16 00:21:22 +0000 2021  1405947462028873729   \n",
       "4  Fri Jun 18 13:34:47 +0000 2021  1405947503225229317   \n",
       "\n",
       "                                        cleaned_text lang possibly_sensitive  \n",
       "0  🚨Africa is \"in the midst of a full-blown third...   en              False  \n",
       "1  Dr Moeti is head of WHO in Africa, and one of ...   en              False  \n",
       "2  Thank you @research2note for creating this ama...   en               None  \n",
       "3  Former Pfizer VP and Virologist, Dr. Michael Y...   en              False  \n",
       "4  I think it’s important that we don’t sell COVA...   en               None  "
      ]
     },
     "execution_count": 128,
     "metadata": {},
     "output_type": "execute_result"
    }
   ],
   "source": [
    "class TweetDfExtractor:\n",
    "    \"\"\"\n",
    "    this function will parse tweets json into a pandas dataframe\n",
    "    \n",
    "    Return\n",
    "    #------\n",
    "    dataframe\n",
    "    \"\"\"\n",
    "    def __init__(self, tweets_list):\n",
    "        \n",
    "        self.tweets_list = tweets_list\n",
    "\n",
    "        \n",
    "    def find_full_text(self)->list:\n",
    "        text = []\n",
    "        for element in self.tweets_list:\n",
    "            if 'retweeted_status' in element:\n",
    "                if 'extended_tweet' in element['retweeted_status']:\n",
    "                    text.append(element['retweeted_status']['extended_tweet']['full_text'])\n",
    "                else:\n",
    "                    text.append(element['retweeted_status']['text'])\n",
    "            else:\n",
    "                try:\n",
    "\n",
    "                    if 'extended_tweet' in element['quoted_status']:\n",
    "                        text.append(element['quoted_status']['extended_tweet']['full_text'])\n",
    "                    else:\n",
    "                        text.append(element['quoted_status']['text'])\n",
    "                except:\n",
    "                    text.append(element['text'])\n",
    "\n",
    "\n",
    "        return text\n",
    "    \n",
    "\n",
    "    def find_created_time(self)->list:\n",
    "        created_at = [] # Initialize empty list\n",
    "        for element in self.tweets_list:\n",
    "            if 'retweeted_status' in element:\n",
    "                created_at.append(element['retweeted_status']['created_at'])\n",
    "                    \n",
    "            else:\n",
    "                created_at.append(element['created_at'])\n",
    "\n",
    "        return created_at\n",
    "\n",
    "    \n",
    "\n",
    "    def is_sensitive(self)->list:\n",
    "        is_sensitive = []\n",
    "        for element in self.tweets_list:\n",
    "            if 'retweeted_status' in element:\n",
    "                try:\n",
    "                    is_sensitive.append(element['retweeted_status']['possibly_sensitive'])\n",
    "                except:\n",
    "                    is_sensit = None\n",
    "                    is_sensitive.append(is_sensit)\n",
    "            else:\n",
    "                is_sensit = None\n",
    "                is_sensitive.append(is_sensit)\n",
    "\n",
    "        return is_sensitive\n",
    "\n",
    "    \n",
    "\n",
    "    def find_lang(self)->list:\n",
    "        lang = []\n",
    "        for element in self.tweets_list:\n",
    "            if 'lang' in element:\n",
    "                lang.append(element['lang'])\n",
    "                    \n",
    "            else:\n",
    "                lang = None\n",
    "                \n",
    "        return lang\n",
    "    \n",
    "    def find_tweet_id(self)->list:\n",
    "        tweet_id = []\n",
    "        for element in self.tweets_list:\n",
    "            if 'lang' in element:\n",
    "                tweet_id.append(element['id'])\n",
    "                    \n",
    "            else:\n",
    "                tweet_id = None\n",
    "                \n",
    "        return tweet_id\n",
    "\n",
    "    \n",
    "        \n",
    "        \n",
    "    def get_tweet_df(self, save=False)->pd.DataFrame:\n",
    "        \"\"\"required column to be generated you should be creative and add more features\"\"\"\n",
    "        \n",
    "        columns = ['created_at', 'tweet_id','cleaned_text', 'lang','possibly_sensitive']\n",
    "        \n",
    "        created_at = self.find_created_time()\n",
    "#         print(len(created_at))\n",
    "        text = self.find_full_text()\n",
    "#         print(len(text))\n",
    "        lang = self.find_lang()\n",
    "#         print(len(lang))\n",
    "        tweet_id = self.find_tweet_id()\n",
    "#         print(tweet_id[:50])\n",
    "        sensitivity = self.is_sensitive()\n",
    "#         print(len(sensitivity))\n",
    "        data = zip(created_at, tweet_id, text, lang, sensitivity)\n",
    "\n",
    "        df = pd.DataFrame(data=data, columns=columns)\n",
    "        if True:\n",
    "            df.to_csv('processed_tweet_data.csv', index=False)\n",
    "            print('File Successfully Saved.!!!')\n",
    "        \n",
    "        return df\n",
    "\n",
    "                \n",
    "\n",
    "# required column to be generated you should be creative and add more features\n",
    "columns = ['created_at', 'original_text','cleaned_text', 'sentiment','polarity','subjectivity', 'lang','possibly_sensitive']\n",
    "tweet_len, tweet_list = read_json(\"data/covid19.json\")\n",
    "tweet_list[:1]\n",
    "tweet = TweetDfExtractor(tweet_list)\n",
    "tweet_df = tweet.get_tweet_df() \n",
    "tweet_df.head()\n",
    "# use all defined functions to generate a dataframe with the specified columns above"
   ]
  },
  {
   "cell_type": "code",
   "execution_count": 129,
   "id": "93e7a202",
   "metadata": {},
   "outputs": [
    {
     "name": "stdout",
     "output_type": "stream",
     "text": [
      "<class 'pandas.core.frame.DataFrame'>\n",
      "RangeIndex: 6532 entries, 0 to 6531\n",
      "Data columns (total 5 columns):\n",
      " #   Column              Non-Null Count  Dtype \n",
      "---  ------              --------------  ----- \n",
      " 0   created_at          6532 non-null   object\n",
      " 1   tweet_id            6532 non-null   int64 \n",
      " 2   cleaned_text        6532 non-null   object\n",
      " 3   lang                6532 non-null   object\n",
      " 4   possibly_sensitive  3618 non-null   object\n",
      "dtypes: int64(1), object(4)\n",
      "memory usage: 255.3+ KB\n"
     ]
    }
   ],
   "source": [
    "#To get information abou the data\n",
    "tweet_df.info()"
   ]
  },
  {
   "cell_type": "code",
   "execution_count": 130,
   "id": "5483f53c",
   "metadata": {},
   "outputs": [
    {
     "name": "stdout",
     "output_type": "stream",
     "text": [
      "<class 'pandas.core.frame.DataFrame'>\n",
      "RangeIndex: 6532 entries, 0 to 6531\n",
      "Data columns (total 5 columns):\n",
      " #   Column              Non-Null Count  Dtype \n",
      "---  ------              --------------  ----- \n",
      " 0   created_at          6532 non-null   object\n",
      " 1   tweet_id            6532 non-null   int64 \n",
      " 2   cleaned_text        6532 non-null   object\n",
      " 3   lang                6532 non-null   object\n",
      " 4   possibly_sensitive  3618 non-null   object\n",
      "dtypes: int64(1), object(4)\n",
      "memory usage: 255.3+ KB\n"
     ]
    }
   ],
   "source": [
    "# Dropping Non-english texts\n",
    "indices = tweet_df.loc[tweet_df['lang']!='en'].index\n",
    "tweet_df.drop(indices, inplace=True)\n",
    "tweet_df=tweet_df.reset_index(drop=True)\n",
    "tweet_df.info()"
   ]
  },
  {
   "cell_type": "code",
   "execution_count": null,
   "id": "17b057b0",
   "metadata": {},
   "outputs": [],
   "source": [
    "# Removing Duplicates\n"
   ]
  },
  {
   "cell_type": "code",
   "execution_count": 131,
   "id": "145f8cc9",
   "metadata": {},
   "outputs": [
    {
     "name": "stdout",
     "output_type": "stream",
     "text": [
      "The number of missing value(s): 2914\n",
      "Columns having columns value:Index(['possibly_sensitive'], dtype='object')\n"
     ]
    }
   ],
   "source": [
    "# Determining None values in data\n",
    "\n",
    "print(\"The number of missing value(s): {}\".format(tweet_df.isnull().sum().sum()))\n",
    "print(\"Columns having columns value:{}\".format(tweet_df.columns[tweet_df.isnull().any()]))"
   ]
  },
  {
   "cell_type": "code",
   "execution_count": 137,
   "id": "cae390c0",
   "metadata": {},
   "outputs": [],
   "source": [
    "class CleanedTextProcessing:\n",
    "  def __init__(self,df):\n",
    "    self.df=df\n",
    "    \n",
    "  def preprocess_cleaned_text(self):\n",
    "    \n",
    "    #text Preprocessing\n",
    "    tweet_df['cleaned_text']=tweet_df['cleaned_text'].astype(str)\n",
    "    tweet_df['cleaned_text'] = tweet_df['cleaned_text'].apply(lambda x: x.lower())\n",
    "    tweet_df['cleaned_text']= tweet_df['cleaned_text'].apply(lambda x: x.translate(str.maketrans(' ', ' ', string.punctuation)))\n",
    "    \n",
    "    #Converting tweets to list of words For feature engineering\n",
    "    sentence_list = [tweet for tweet in tweet_df['cleaned_text']]\n",
    "    word_list = [sent.split() for sent in sentence_list]\n",
    "\n",
    "    #Create dictionary which contains Id and word \n",
    "    word_to_id = corpora.Dictionary(word_list)\n",
    "    corpus_1= [word_to_id.doc2bow(tweet) for tweet in word_list]\n",
    "\n",
    "\n",
    "\n",
    "    \n",
    "    return word_list, word_to_id, corpus_1\n"
   ]
  },
  {
   "cell_type": "code",
   "execution_count": 138,
   "id": "c6106b3d",
   "metadata": {},
   "outputs": [],
   "source": [
    "PrepareData_obj=CleanedTextProcessing(tweet_df)\n",
    "word_list ,id2word,corpus=PrepareData_obj.preprocess_cleaned_text()"
   ]
  },
  {
   "cell_type": "code",
   "execution_count": 144,
   "id": "2f20d856",
   "metadata": {},
   "outputs": [
    {
     "name": "stdout",
     "output_type": "stream",
     "text": [
      "[['🚨africa', 'is', 'in', 'the', 'midst', 'of', 'a', 'fullblown', 'third', 'wave', 'of', 'coronavirus', 'the', 'head', 'of', 'whoafro', 'has', 'warned', 'cases', 'have', 'risen', 'across', 'the', 'continent', 'by', 'more', 'than', '20', 'and', 'deaths', 'have', 'also', 'risen', 'by', '15', 'in', 'the', 'last', 'week', 'jriggers', 'reports', '🧵', 'httpstcocrdhqphfwm'], ['dr', 'moeti', 'is', 'head', 'of', 'who', 'in', 'africa', 'and', 'one', 'of', 'the', 'best', 'public', 'health', 'experts', 'and', 'leaders', 'i', 'know', 'hers', 'is', 'a', 'desperate', 'request', 'for', 'vaccines', 'to', 'africa', 'we', 'plead', 'with', 'germany', 'and', 'the', 'uk', 'to', 'lift', 'patent', 'restrictions', 'and', 'urgently', 'transfer', 'technology', 'to', 'enable', 'production', 'in', 'africa', 'httpstcosogiroihoc']]\n",
      "Dictionary(10341 unique tokens: ['15', '20', 'a', 'across', 'also']...)\n"
     ]
    }
   ],
   "source": [
    "# Results of Cleaned_text processing\n",
    "# print(corpus)\n",
    "print(word_list[:2])\n",
    "print(id2word)"
   ]
  },
  {
   "cell_type": "markdown",
   "id": "6ae73d5e",
   "metadata": {},
   "source": [
    "## Topic Modeling Using Natural Language Processing\n",
    "\n",
    "### Model Used: Latent Dirichlet Allocation\n",
    "\n",
    "According to distributional hypothesis, (i.e. similar topics make use of similar words) and the statistical mixture hypothesis (i.e. documents talk about several topics) for which a statistical distribution can be determined. \n",
    "\n",
    "--> The purpose of LDA is mapping each teweets in our corpus to a set of topics which covers a good deal of the words in the tweet"
   ]
  },
  {
   "cell_type": "code",
   "execution_count": 147,
   "id": "39ff758b",
   "metadata": {},
   "outputs": [],
   "source": [
    "# Importing Necessary packages\n",
    "import gensim\n",
    "from gensim.models import CoherenceModel\n",
    "from gensim import corpora\n",
    "from pprint import pprint\n",
    "import re"
   ]
  },
  {
   "cell_type": "code",
   "execution_count": 148,
   "id": "c2b12837",
   "metadata": {},
   "outputs": [],
   "source": [
    "# Build LDA model\n",
    "lda_model = gensim.models.ldamodel.LdaModel(corpus,\n",
    "                                           id2word=id2word,\n",
    "                                           num_topics=5, \n",
    "                                           random_state=100,\n",
    "                                           update_every=1,\n",
    "                                           chunksize=100,\n",
    "                                           passes=10,\n",
    "                                           alpha='auto',\n",
    "                                           per_word_topics=True)"
   ]
  },
  {
   "cell_type": "code",
   "execution_count": 149,
   "id": "632a5dd9",
   "metadata": {},
   "outputs": [
    {
     "name": "stdout",
     "output_type": "stream",
     "text": [
      "[(0,\n",
      "  [('vaccines', 0.032263555),\n",
      "   ('age', 0.024298357),\n",
      "   ('capacity', 0.023284802),\n",
      "   ('dose1', 0.022089638),\n",
      "   ('min', 0.022089638),\n",
      "   ('pin', 0.022089638),\n",
      "   ('limit', 0.022089638),\n",
      "   ('covaxin', 0.018762687),\n",
      "   ('to', 0.017852047),\n",
      "   ('the', 0.015124568)]),\n",
      " (1,\n",
      "  [('the', 0.05904565),\n",
      "   ('of', 0.04670784),\n",
      "   ('india', 0.034666907),\n",
      "   ('in', 0.03077423),\n",
      "   ('africa', 0.023735823),\n",
      "   ('to', 0.021278383),\n",
      "   ('covid19', 0.019526204),\n",
      "   ('is', 0.017535241),\n",
      "   ('a', 0.016430384),\n",
      "   ('and', 0.015595473)]),\n",
      " (2,\n",
      "  [('the', 0.043014195),\n",
      "   ('to', 0.039461844),\n",
      "   ('covid19', 0.030880341),\n",
      "   ('vaccines', 0.023449393),\n",
      "   ('of', 0.022783972),\n",
      "   ('in', 0.018389795),\n",
      "   ('are', 0.018339787),\n",
      "   ('amp', 0.014665315),\n",
      "   ('and', 0.01390819),\n",
      "   ('with', 0.012017919)]),\n",
      " (3,\n",
      "  [('and', 0.037099864),\n",
      "   ('to', 0.032912906),\n",
      "   ('the', 0.023691649),\n",
      "   ('africa', 0.019669373),\n",
      "   ('in', 0.01809949),\n",
      "   ('vaccines', 0.017910507),\n",
      "   ('covid19', 0.017458482),\n",
      "   ('of', 0.016442796),\n",
      "   ('is', 0.014867638),\n",
      "   ('why', 0.014137238)]),\n",
      " (4,\n",
      "  [('you', 0.057914387),\n",
      "   ('to', 0.04941147),\n",
      "   ('vaccines', 0.048051994),\n",
      "   ('just', 0.0392367),\n",
      "   ('by', 0.03918694),\n",
      "   ('israel', 0.038929094),\n",
      "   ('your', 0.035807207),\n",
      "   ('expired', 0.033038188),\n",
      "   ('another', 0.031987388),\n",
      "   ('off', 0.0319633)])]\n"
     ]
    }
   ],
   "source": [
    "# Showing Topics\n",
    "pprint(lda_model.show_topics(formatted=False))"
   ]
  },
  {
   "cell_type": "markdown",
   "id": "455f852d",
   "metadata": {},
   "source": [
    "* Each line is a topic with individual topic terms and weights. Topic1 (Indexed 0 above)  can be termed as Indian Vaccine known as \"covaxin\" describing the dosage, age and capacity, Topic2 (indexed 1 above) can be termed as Covid19 Vaccines and Topic4 (indexed 3 above) can be termed as Covid19 Vaccination in Africa."
   ]
  },
  {
   "cell_type": "markdown",
   "id": "b76894e1",
   "metadata": {},
   "source": [
    "# **Model Analysis**\n",
    "\n",
    "Perplexity is also a measure of model quality and in natural language processing is often used as “perplexity per number of words”. It describes how well a model predicts a sample, i.e. how much it is “perplexed” by a sample from the observed data. The lower the score, the better the model for the given data.\n",
    "\n",
    "A coherence matrix is used to test the model for accuracy. Topic coherence is a measure that compares different topic models based on their human-interpretability. The coherence score ‘C_V’ provides a numerical value to the interpretability of the topics"
   ]
  },
  {
   "cell_type": "code",
   "execution_count": 151,
   "id": "7e35b25b",
   "metadata": {},
   "outputs": [
    {
     "name": "stdout",
     "output_type": "stream",
     "text": [
      "\n",
      "Perplexity:  -6.532030837516905\n",
      "\n",
      " Ldamodel Coherence Score/Accuracy on Tweets Topic Modeling:  0.5050434234621697\n"
     ]
    }
   ],
   "source": [
    "# Compute Perplexity\n",
    "\n",
    "#It's a measure of how good the model is. The lower the better. Perplexity is a negative value\n",
    "print('\\nPerplexity: ', lda_model.log_perplexity(corpus))  \n",
    "doc_lda = lda_model[corpus]\n",
    "\n",
    "\n",
    "# Compute Coherence Score\n",
    "coherence_model_lda = CoherenceModel(model=lda_model, texts=word_list, dictionary=id2word, coherence='c_v')\n",
    "coherence_lda = coherence_model_lda.get_coherence()\n",
    "print('\\n Ldamodel Coherence Score/Accuracy on Tweets Topic Modeling: ', coherence_lda)"
   ]
  },
  {
   "cell_type": "markdown",
   "id": "4f554f91",
   "metadata": {},
   "source": [
    "* > Basic Ldamodel Coherence Score 0.505, This means that the model has performed reasonably well in Tweet topic modeling."
   ]
  },
  {
   "cell_type": "markdown",
   "id": "2937233c",
   "metadata": {},
   "source": [
    "### Analyising How Topics relates to each Other using pyLDAvis Package\n",
    "Anlayizing results Exploring the Intertopic Distance Plot, helps to learn about how topics relate to each other, including potential higher-level structure between groups of topics"
   ]
  },
  {
   "cell_type": "code",
   "execution_count": 153,
   "id": "a41b609b",
   "metadata": {
    "scrolled": true
   },
   "outputs": [
    {
     "data": {
      "text/html": [
       "\n",
       "<link rel=\"stylesheet\" type=\"text/css\" href=\"https://cdn.jsdelivr.net/gh/bmabey/pyLDAvis@3.3.1/pyLDAvis/js/ldavis.v1.0.0.css\">\n",
       "\n",
       "\n",
       "<div id=\"ldavis_el110321140107178685600464823506\"></div>\n",
       "<script type=\"text/javascript\">\n",
       "\n",
       "var ldavis_el110321140107178685600464823506_data = {\"mdsDat\": {\"x\": [0.1431792836921627, 0.1486547985295958, 0.14062074207297448, -0.09917799011958998, -0.33327683417514326], \"y\": [-0.01796353002281133, 0.14149932465422488, 0.028666871596731557, -0.31277099228349337, 0.1605683260553483], \"topics\": [1, 2, 3, 4, 5], \"cluster\": [1, 1, 1, 1, 1], \"Freq\": [40.25980897140604, 20.954465169600702, 13.606762340052416, 13.570604729887448, 11.608358789053394]}, \"tinfo\": {\"Term\": [\"you\", \"india\", \"by\", \"of\", \"just\", \"israel\", \"your\", \"vaccines\", \"expired\", \"africa\", \"another\", \"off\", \"tried\", \"war\", \"load\", \"crime\", \"liars\", \"httpstcoti0vk8dqlw\", \"and\", \"the\", \"age\", \"capacity\", \"pin\", \"min\", \"dose1\", \"limit\", \"to\", \"in\", \"covaxin\", \"cases\", \"on\", \"need\", \"vaccination\", \"about\", \"get\", \"government\", \"all\", \"oxygen\", \"out\", \"support\", \"administered\", \"now\", \"over\", \"being\", \"them\", \"take\", \"june\", \"workers\", \"against\", \"had\", \"ontario\", \"2021\", \"provide\", \"via\", \"stand\", \"here\", \"each\", \"yet\", \"days\", \"us\", \"go\", \"world\", \"or\", \"been\", \"other\", \"amp\", \"no\", \"with\", \"are\", \"vaccine\", \"covid19\", \"we\", \"the\", \"to\", \"for\", \"so\", \"of\", \"vaccines\", \"in\", \"this\", \"at\", \"and\", \"a\", \"from\", \"is\", \"doses\", \"that\", \"have\", \"india\", \"cases\", \"wave\", \"third\", \"coronavirus\", \"australia\", \"million\", \"midst\", \"south\", \"was\", \"blown\", \"into\", \"week\", \"also\", \"20\", \"total\", \"friday\", \"seen\", \"bringing\", \"overwhelm\", \"sending\", \"increased\", \"action\", \"elsewhere\", \"surging\", \"trajectory\", \"urgent\", \"quickly\", \"rebound\", \"sobering\", \"deaths\", \"africa\", \"pandemic\", \"of\", \"has\", \"the\", \"in\", \"more\", \"help\", \"have\", \"is\", \"a\", \"by\", \"covid19\", \"and\", \"to\", \"health\", \"than\", \"doses\", \"vaccines\", \"full\", \"just\", \"why\", \"public\", \"\\ud83d\\udd30\", \"wolfofwallst\", \"urgently\", \"know\", \"indian\", \"uk\", \"technology\", \"nft\", \"germany\", \"production\", \"leaders\", \"best\", \"experts\", \"restrictions\", \"transfer\", \"lift\", \"desperate\", \"request\", \"patent\", \"hers\", \"moeti\", \"enable\", \"plead\", \"roberts\", \"safe\", \"every\", \"buy\", \"day\", \"retweet\", \"whoindia\", \"taiwan\", \"rich\", \"and\", \"i\", \"one\", \"dont\", \"africa\", \"to\", \"from\", \"who\", \"as\", \"is\", \"in\", \"the\", \"covid19\", \"vaccines\", \"of\", \"for\", \"a\", \"with\", \"we\", \"are\", \"age\", \"capacity\", \"dose1\", \"limit\", \"min\", \"pin\", \"covaxin\", \"pmcg\", \"0\", \"hospital\", \"risk\", \"1845\", \"covishield\", \"4518\", \"delta\", \"question\", \"dose2\", \"designers\", \"graphic\", \"fireworks\", \"release\", \"zweli\", \"fully\", \"variant\", \"it\\u2019s\", \"america\", \"puts\", \"find\", \"benefit\", \"dose2\\u2026\", \"children\", \"vaccines\", \"what\", \"vaccinated\", \"to\", \"the\", \"are\", \"that\", \"a\", \"your\", \"covid19\", \"people\", \"expired\", \"off\", \"tried\", \"war\", \"crime\", \"httpstcoti0vk8dqlw\", \"liars\", \"load\", \"please\", \"httpstcombbxzcwqqz\", \"palestinians\", \"g7\", \"when\", \"cost\", \"tripswaiver\", \"china\", \"future\", \"zimbabwe\", \"cheap\", \"propaganda\", \"expire\", \"date\", \"unrestrictedbioweapon\", \"deal\", \"vaccinateourworld\", \"vownow\", \"post\", \"colonial\", \"\\ud83d\\udc47\\ud83c\\udffb\", \"occupation\", \"another\", \"israel\", \"your\", \"you\", \"sent\", \"just\", \"by\", \"vaccines\", \"do\", \"to\", \"countries\", \"an\", \"not\", \"that\", \"will\"], \"Freq\": [1780.0, 1452.0, 1404.0, 4237.0, 1217.0, 987.0, 1045.0, 4707.0, 767.0, 1529.0, 790.0, 742.0, 735.0, 734.0, 734.0, 734.0, 734.0, 734.0, 2868.0, 6989.0, 659.0, 632.0, 600.0, 600.0, 600.0, 600.0, 6593.0, 3377.0, 509.0, 618.0, 850.5742998717287, 723.3038949554152, 607.0744049085392, 461.970725627889, 406.18662055031314, 383.2010166848193, 372.51605000971836, 353.37976840502654, 320.7939067017534, 448.09294337427593, 306.56212501207966, 298.36233106651605, 341.9200953629717, 280.7138327152533, 278.5229412234533, 279.9749909958021, 268.0053241653044, 266.73207296477915, 260.61130429074865, 260.3997890655606, 234.10828542736522, 234.31854520251008, 229.0130320580227, 225.9354930267605, 221.31554929616004, 197.11725564117992, 189.72627133240027, 193.0928824206235, 175.02212187945884, 177.99232930105794, 321.7128586572524, 664.1468640632794, 299.90173767619893, 573.3277953190595, 340.07589546369735, 1180.2551064538811, 375.95875636100754, 967.1943660484611, 1475.9742279898999, 814.0921208523052, 2485.229993049749, 769.395475986067, 3461.7547139147628, 3175.8637799825747, 942.821471147175, 501.554166062973, 1833.6394282722263, 1887.1920552192921, 1479.998863543301, 497.8473280130436, 497.8995697252888, 1119.3221571543725, 888.0250867065688, 556.9991122482824, 807.3741514569806, 467.3635393955294, 453.9078132131545, 457.76792859671593, 1452.1265341225705, 618.0686719569121, 490.53047158495974, 462.4657632905139, 375.507849749907, 356.4074119038701, 304.36285981407065, 297.00604654916947, 333.77302596076737, 226.3166686129979, 191.9339182259322, 189.35412597215782, 181.98305410755822, 165.79146812803415, 164.04792031512062, 166.86895793287542, 157.40983020081657, 156.4964800901777, 164.74191035433944, 150.46901304503646, 146.91268226239757, 146.55137012626477, 145.09253592552292, 143.7497796000275, 141.3047613470958, 137.96543045726753, 137.50665854905125, 137.0852203752026, 137.0669338673815, 137.0669338673815, 273.8874923957885, 994.2455640729678, 180.81862780633435, 1956.4967809835873, 443.9945373583903, 2473.3027114097326, 1289.0701814075423, 439.99077717878635, 365.9211163280713, 498.54212713313626, 734.515749358003, 688.2354946455873, 494.8393775014742, 817.9131481629814, 653.2627971342018, 891.3083830996452, 285.6252848000298, 239.97629009040344, 276.51692642279465, 342.5206671229242, 199.81387190658, 206.65614672901364, 384.53171197496636, 238.46644844469296, 261.45593028973286, 219.02173494698442, 217.71215186613867, 185.41305853652986, 185.7391433810699, 175.80066755269004, 166.14165321236342, 168.72074431295084, 148.9113528255745, 147.162299329075, 143.28748169531815, 142.30637732328194, 140.04071778466727, 137.4756098912413, 137.7389856246795, 135.56962529263066, 134.646581628591, 134.42400291532232, 134.25417787762208, 133.6925823863787, 133.67959978914996, 133.67417876318518, 133.67417876318518, 159.30337093840924, 111.98996091054715, 114.74984576024953, 98.07022915005763, 89.41304067353914, 187.5909810497754, 187.5909810497754, 149.45888911396534, 293.35952937693486, 1009.1132426185897, 293.4674939220838, 337.5271357697657, 275.5880383419615, 535.0053082223804, 895.228329150589, 337.8710669357646, 228.6158616330644, 286.455498164235, 404.39853087291345, 492.30464665475597, 644.4108836658605, 474.8692592295987, 487.1642981090914, 447.2426976372223, 292.51818108082233, 280.3311320783756, 217.48512740494093, 206.52245764767397, 202.39193984527955, 659.1570349032127, 631.6616914685102, 599.2397040321262, 599.2397040321262, 599.2397040321262, 599.2397040321262, 508.98739177794164, 385.32332682645347, 357.3201652953529, 352.7244115229513, 327.53276846057986, 289.6109089235506, 275.45430468339845, 237.49644311714695, 190.26222290774635, 181.9372652578861, 174.01901684761864, 164.792972619344, 164.35072874529433, 164.33765432415572, 164.33765432415572, 164.33765432415572, 156.8429539973243, 156.30378255477558, 129.9443599873441, 127.11073500944342, 116.91549088992406, 113.44489527289974, 114.05600761243817, 105.0049711430565, 141.32163283612093, 875.2340391538582, 171.43194892458106, 192.12690064022138, 484.28388570266003, 410.2938037387817, 280.1170095978625, 217.6787787437615, 277.046604958298, 213.86817238338773, 260.10746072486796, 188.70064436444972, 766.6547389269845, 741.71185039217, 734.2165702196761, 733.7458730218301, 733.647929968541, 733.647929968541, 733.647929968541, 733.647929968541, 232.39381779434893, 125.50866315253103, 121.6154700071705, 99.58071430429075, 99.8861920311756, 101.64551465675146, 77.45100873278216, 197.45477306616223, 73.45230852957573, 78.5160637972561, 52.99302691865957, 52.42146912290975, 51.20357794350623, 50.340141420492536, 63.14132766083057, 48.89001909261552, 51.32239764937202, 51.32239764937202, 71.38969093271568, 47.14163185648456, 46.95503866979027, 46.911091803315536, 742.2708087174725, 903.3538497580743, 830.9101364018168, 1343.9096564631757, 124.5982703698011, 910.4918495781906, 909.3371934768815, 1115.0517514618095, 108.17940985008225, 1146.5984914263838, 175.78454835431396, 132.41631742245255, 98.55408438296512, 103.25307093375649, 87.07993250492414], \"Total\": [1780.0, 1452.0, 1404.0, 4237.0, 1217.0, 987.0, 1045.0, 4707.0, 767.0, 1529.0, 790.0, 742.0, 735.0, 734.0, 734.0, 734.0, 734.0, 734.0, 2868.0, 6989.0, 659.0, 632.0, 600.0, 600.0, 600.0, 600.0, 6593.0, 3377.0, 509.0, 618.0, 851.3907798567308, 724.0948630465974, 607.8651494335309, 462.7798973838511, 406.9840997146541, 383.9939457098783, 373.3436353074317, 354.17200381071046, 321.5940136644598, 449.21353212749267, 307.3574149130278, 299.160896863579, 342.85422394305, 281.50585492089635, 279.31851030707645, 280.7753727514223, 268.7995417812995, 267.5225384462925, 261.42969754872183, 261.22227145032537, 234.89936686711235, 235.11507171232572, 229.81741827910588, 226.75932718521935, 222.1280119727271, 197.91795401344004, 190.5182029939153, 193.95192604423175, 175.81078219315359, 178.7967053628275, 323.24918618291576, 672.2962466887988, 302.063478336749, 587.3805686743046, 351.2971274086851, 1413.3193054879923, 398.8319933031345, 1185.2481211118054, 1958.8657970435177, 1007.5548626216329, 4038.300293742323, 976.4866285611085, 6989.942132639697, 6593.282869361852, 1423.4063161618071, 615.1413823062092, 4237.76605112357, 4707.162811066975, 3377.2241587103567, 665.465547372469, 688.8234235678088, 2868.877405970057, 2133.81799730714, 895.4576525899058, 2024.8498067851053, 744.4827375797108, 775.266248108902, 995.4570907863123, 1452.9761424096926, 618.8917710077748, 491.3543918471632, 463.2879934081495, 376.33554432203795, 357.31246137499176, 305.18654784564256, 297.8275075366728, 334.7585884253316, 227.1459307814089, 192.7544773893391, 190.20751203531074, 182.80467866187777, 166.62201760320747, 164.87343763745517, 167.71049288906212, 158.23500279215293, 157.31721609746555, 165.6220192723417, 151.29479336407775, 147.73561056616396, 147.37937411632376, 145.91538225808162, 144.57003507321176, 142.12546630767523, 138.78559230017436, 138.32673615360227, 137.90527356313038, 137.88698627078423, 137.88698627078423, 276.24971809701117, 1529.853671206219, 196.109491132122, 4237.76605112357, 626.436773427805, 6989.942132639697, 3377.2241587103567, 714.7882762640152, 568.7083880806888, 995.4570907863123, 2024.8498067851053, 2133.81799730714, 1404.8316421300435, 4038.300293742323, 2868.877405970057, 6593.282869361852, 645.0019363899793, 418.3088304064907, 744.4827375797108, 4707.162811066975, 304.1151577500365, 1217.1128418923363, 385.32755386025974, 239.26373426404933, 262.3752820937648, 219.86795656638168, 218.5660225367737, 186.20140280735671, 186.53652565921877, 176.59158807113508, 166.9294238741699, 169.57004334931534, 149.6995694020435, 147.9529558970553, 144.07380549654954, 143.09236885423763, 140.82838033228347, 138.26120288653962, 138.52621879758405, 136.3550567110372, 135.43200003291116, 135.20941416579032, 135.03957805449826, 134.4779644391245, 134.46498130498784, 134.4595598446566, 134.4595598446566, 160.27930787014762, 112.78168278757447, 115.56662087847133, 98.91955647962557, 90.2230183071731, 190.3190604558311, 190.3190604558311, 151.95125067869296, 309.5812326242058, 2868.877405970057, 459.28921597731204, 594.4278146955043, 472.44310784696256, 1529.853671206219, 6593.282869361852, 895.4576525899058, 403.6367481952823, 747.2610197181135, 2024.8498067851053, 3377.2241587103567, 6989.942132639697, 4038.300293742323, 4707.162811066975, 4237.76605112357, 1423.4063161618071, 2133.81799730714, 1185.2481211118054, 976.4866285611085, 1958.8657970435177, 659.9699727601646, 632.4706754553695, 600.0461057974586, 600.0461057974586, 600.0461057974586, 600.0461057974586, 509.7947859943414, 386.1297166457175, 358.1266102502269, 353.5647526535531, 328.3489040705438, 290.4172997045411, 276.26214169681367, 238.30283354265353, 191.07445118973612, 182.76091474812415, 174.82543712263822, 165.6075390274248, 165.1646949478561, 165.1516353774778, 165.1516353774778, 165.1516353774778, 157.65448951669424, 157.11418665595608, 130.76873634433312, 127.94176160853786, 117.72231649201332, 114.25808638404067, 114.91361768126553, 105.81137393548188, 142.60660219417701, 4707.162811066975, 279.22776693428114, 464.7938996313012, 6593.282869361852, 6989.942132639697, 1958.8657970435177, 775.266248108902, 2133.81799730714, 1045.4161126475612, 4038.300293742323, 720.0665008664696, 767.4858197681248, 742.5428957016935, 735.0475298385555, 734.5767964917994, 734.4788512518437, 734.4788512518437, 734.4788512518437, 734.4788512518437, 233.32995112296086, 126.33958452732811, 122.45235147935688, 100.42072054495897, 100.73618658459974, 102.65044155692236, 78.29946648764697, 199.78582053750586, 74.32222924979605, 79.49049349883349, 53.83181941505186, 53.25343751758245, 52.042668053788184, 51.186649382742964, 64.20510956872542, 49.7227586443762, 52.19680558053121, 52.19680558053121, 72.61398692927321, 47.97295890574536, 47.789786879683135, 47.74826368584955, 790.1530832201305, 987.8889375560121, 1045.4161126475612, 1780.4513130207479, 136.92498695105996, 1217.1128418923363, 1404.8316421300435, 4707.162811066975, 162.53773673741125, 6593.282869361852, 358.7476025159918, 450.4577325539915, 333.67118160580833, 775.266248108902, 633.8427413270589], \"Category\": [\"Default\", \"Default\", \"Default\", \"Default\", \"Default\", \"Default\", \"Default\", \"Default\", \"Default\", \"Default\", \"Default\", \"Default\", \"Default\", \"Default\", \"Default\", \"Default\", \"Default\", \"Default\", \"Default\", \"Default\", \"Default\", \"Default\", \"Default\", \"Default\", \"Default\", \"Default\", \"Default\", \"Default\", \"Default\", \"Default\", \"Topic1\", \"Topic1\", \"Topic1\", \"Topic1\", \"Topic1\", \"Topic1\", \"Topic1\", \"Topic1\", \"Topic1\", \"Topic1\", \"Topic1\", \"Topic1\", \"Topic1\", \"Topic1\", \"Topic1\", \"Topic1\", \"Topic1\", \"Topic1\", \"Topic1\", \"Topic1\", \"Topic1\", \"Topic1\", \"Topic1\", \"Topic1\", \"Topic1\", \"Topic1\", \"Topic1\", \"Topic1\", \"Topic1\", \"Topic1\", \"Topic1\", \"Topic1\", \"Topic1\", \"Topic1\", \"Topic1\", \"Topic1\", \"Topic1\", \"Topic1\", \"Topic1\", \"Topic1\", \"Topic1\", \"Topic1\", \"Topic1\", \"Topic1\", \"Topic1\", \"Topic1\", \"Topic1\", \"Topic1\", \"Topic1\", \"Topic1\", \"Topic1\", \"Topic1\", \"Topic1\", \"Topic1\", \"Topic1\", \"Topic1\", \"Topic1\", \"Topic1\", \"Topic2\", \"Topic2\", \"Topic2\", \"Topic2\", \"Topic2\", \"Topic2\", \"Topic2\", \"Topic2\", \"Topic2\", \"Topic2\", \"Topic2\", \"Topic2\", \"Topic2\", \"Topic2\", \"Topic2\", \"Topic2\", \"Topic2\", \"Topic2\", \"Topic2\", \"Topic2\", \"Topic2\", \"Topic2\", \"Topic2\", \"Topic2\", \"Topic2\", \"Topic2\", \"Topic2\", \"Topic2\", \"Topic2\", \"Topic2\", \"Topic2\", \"Topic2\", \"Topic2\", \"Topic2\", \"Topic2\", \"Topic2\", \"Topic2\", \"Topic2\", \"Topic2\", \"Topic2\", \"Topic2\", \"Topic2\", \"Topic2\", \"Topic2\", \"Topic2\", \"Topic2\", \"Topic2\", \"Topic2\", \"Topic2\", \"Topic2\", \"Topic2\", \"Topic2\", \"Topic3\", \"Topic3\", \"Topic3\", \"Topic3\", \"Topic3\", \"Topic3\", \"Topic3\", \"Topic3\", \"Topic3\", \"Topic3\", \"Topic3\", \"Topic3\", \"Topic3\", \"Topic3\", \"Topic3\", \"Topic3\", \"Topic3\", \"Topic3\", \"Topic3\", \"Topic3\", \"Topic3\", \"Topic3\", \"Topic3\", \"Topic3\", \"Topic3\", \"Topic3\", \"Topic3\", \"Topic3\", \"Topic3\", \"Topic3\", \"Topic3\", \"Topic3\", \"Topic3\", \"Topic3\", \"Topic3\", \"Topic3\", \"Topic3\", \"Topic3\", \"Topic3\", \"Topic3\", \"Topic3\", \"Topic3\", \"Topic3\", \"Topic3\", \"Topic3\", \"Topic3\", \"Topic3\", \"Topic3\", \"Topic3\", \"Topic3\", \"Topic3\", \"Topic3\", \"Topic3\", \"Topic3\", \"Topic4\", \"Topic4\", \"Topic4\", \"Topic4\", \"Topic4\", \"Topic4\", \"Topic4\", \"Topic4\", \"Topic4\", \"Topic4\", \"Topic4\", \"Topic4\", \"Topic4\", \"Topic4\", \"Topic4\", \"Topic4\", \"Topic4\", \"Topic4\", \"Topic4\", \"Topic4\", \"Topic4\", \"Topic4\", \"Topic4\", \"Topic4\", \"Topic4\", \"Topic4\", \"Topic4\", \"Topic4\", \"Topic4\", \"Topic4\", \"Topic4\", \"Topic4\", \"Topic4\", \"Topic4\", \"Topic4\", \"Topic4\", \"Topic4\", \"Topic4\", \"Topic4\", \"Topic4\", \"Topic4\", \"Topic4\", \"Topic5\", \"Topic5\", \"Topic5\", \"Topic5\", \"Topic5\", \"Topic5\", \"Topic5\", \"Topic5\", \"Topic5\", \"Topic5\", \"Topic5\", \"Topic5\", \"Topic5\", \"Topic5\", \"Topic5\", \"Topic5\", \"Topic5\", \"Topic5\", \"Topic5\", \"Topic5\", \"Topic5\", \"Topic5\", \"Topic5\", \"Topic5\", \"Topic5\", \"Topic5\", \"Topic5\", \"Topic5\", \"Topic5\", \"Topic5\", \"Topic5\", \"Topic5\", \"Topic5\", \"Topic5\", \"Topic5\", \"Topic5\", \"Topic5\", \"Topic5\", \"Topic5\", \"Topic5\", \"Topic5\", \"Topic5\", \"Topic5\", \"Topic5\", \"Topic5\"], \"logprob\": [30.0, 29.0, 28.0, 27.0, 26.0, 25.0, 24.0, 23.0, 22.0, 21.0, 20.0, 19.0, 18.0, 17.0, 16.0, 15.0, 14.0, 13.0, 12.0, 11.0, 10.0, 9.0, 8.0, 7.0, 6.0, 5.0, 4.0, 3.0, 2.0, 1.0, -4.5498, -4.7119, -4.8871, -5.1603, -5.2889, -5.3472, -5.3755, -5.4282, -5.525, -5.1908, -5.5703, -5.5974, -5.4612, -5.6584, -5.6663, -5.6611, -5.7047, -5.7095, -5.7327, -5.7335, -5.84, -5.8391, -5.862, -5.8755, -5.8962, -6.012, -6.0502, -6.0326, -6.1308, -6.114, -5.5221, -4.7973, -5.5923, -4.9443, -5.4666, -4.2223, -5.3663, -4.4214, -3.9987, -4.5937, -3.4776, -4.6502, -3.1462, -3.2324, -4.4469, -5.078, -3.7817, -3.7529, -3.996, -5.0855, -5.0854, -4.2753, -4.5068, -4.9732, -4.602, -5.1486, -5.1779, -5.1694, -3.362, -4.2162, -4.4473, -4.5062, -4.7145, -4.7667, -4.9245, -4.949, -4.8323, -5.2208, -5.3856, -5.3991, -5.4388, -5.532, -5.5426, -5.5255, -5.5839, -5.5897, -5.5384, -5.629, -5.6529, -5.6554, -5.6654, -5.6747, -5.6918, -5.7158, -5.7191, -5.7222, -5.7223, -5.7223, -5.03, -3.7408, -5.4453, -3.0638, -4.5469, -2.8294, -3.4811, -4.556, -4.7403, -4.4311, -4.0435, -4.1086, -4.4385, -3.936, -4.1608, -3.8501, -4.9881, -5.1622, -5.0205, -4.8064, -5.3454, -5.3117, -4.2589, -4.7367, -4.6447, -4.8218, -4.8278, -4.9884, -4.9866, -5.0416, -5.0981, -5.0827, -5.2076, -5.2194, -5.2461, -5.253, -5.269, -5.2875, -5.2856, -5.3015, -5.3083, -5.31, -5.3112, -5.3154, -5.3155, -5.3156, -5.3156, -5.1402, -5.4926, -5.4682, -5.6253, -5.7177, -4.9767, -4.9767, -5.2039, -4.5296, -3.2941, -4.5292, -4.3893, -4.5921, -3.9287, -3.4139, -4.3883, -4.7789, -4.5534, -4.2086, -4.0119, -3.7426, -4.0479, -4.0224, -4.1079, -4.5324, -4.575, -4.8288, -4.8806, -4.9008, -3.7173, -3.76, -3.8126, -3.8126, -3.8126, -3.8126, -3.9759, -4.2542, -4.3297, -4.3426, -4.4167, -4.5398, -4.5899, -4.7382, -4.9599, -5.0046, -5.0491, -5.1036, -5.1063, -5.1064, -5.1064, -5.1064, -5.1531, -5.1565, -5.3412, -5.3632, -5.4469, -5.477, -5.4716, -5.5543, -5.2573, -3.4338, -5.0641, -4.9502, -4.0256, -4.1914, -4.5731, -4.8253, -4.5841, -4.8429, -4.6472, -4.9681, -3.4101, -3.4432, -3.4533, -3.454, -3.4541, -3.4541, -3.4541, -3.4541, -4.6037, -5.2198, -5.2513, -5.4512, -5.4481, -5.4306, -5.7025, -4.7666, -5.7555, -5.6888, -6.082, -6.0928, -6.1163, -6.1333, -5.9068, -6.1626, -6.114, -6.114, -5.784, -6.199, -6.2029, -6.2039, -3.4424, -3.246, -3.3296, -2.8488, -5.227, -3.2381, -3.2394, -3.0355, -5.3683, -3.0076, -4.8829, -5.1662, -5.4615, -5.4149, -5.5853], \"loglift\": [30.0, 29.0, 28.0, 27.0, 26.0, 25.0, 24.0, 23.0, 22.0, 21.0, 20.0, 19.0, 18.0, 17.0, 16.0, 15.0, 14.0, 13.0, 12.0, 11.0, 10.0, 9.0, 8.0, 7.0, 6.0, 5.0, 4.0, 3.0, 2.0, 1.0, 0.9089, 0.9087, 0.9085, 0.9081, 0.9079, 0.9077, 0.9076, 0.9076, 0.9073, 0.9073, 0.9072, 0.9071, 0.9071, 0.907, 0.907, 0.907, 0.9069, 0.9069, 0.9067, 0.9067, 0.9064, 0.9064, 0.9063, 0.9062, 0.9062, 0.9058, 0.9057, 0.9054, 0.9053, 0.9053, 0.9051, 0.8976, 0.9026, 0.8856, 0.8774, 0.7296, 0.8508, 0.7065, 0.6268, 0.6966, 0.4244, 0.6715, 0.2071, 0.1793, 0.4979, 0.7057, 0.0721, -0.0042, 0.0848, 0.6196, 0.5852, -0.0314, 0.0331, 0.435, -0.0096, 0.4442, 0.3745, 0.133, 1.5622, 1.5615, 1.5611, 1.561, 1.5606, 1.5603, 1.5601, 1.5601, 1.5599, 1.5592, 1.5586, 1.5583, 1.5583, 1.5578, 1.5578, 1.5578, 1.5576, 1.5576, 1.5575, 1.5573, 1.5572, 1.5572, 1.5572, 1.5571, 1.557, 1.5569, 1.5569, 1.5569, 1.5569, 1.5569, 1.5542, 1.1319, 1.4816, 0.7899, 1.2186, 0.5239, 0.5997, 1.0776, 1.1219, 0.8713, 0.5488, 0.4313, 0.5194, -0.034, 0.0831, -0.4383, 0.7482, 1.0071, 0.5724, -1.0577, 1.1428, -0.2104, 1.9925, 1.9913, 1.9911, 1.9907, 1.9907, 1.9904, 1.9903, 1.9901, 1.9899, 1.9896, 1.9893, 1.9892, 1.9891, 1.9891, 1.989, 1.9889, 1.9889, 1.9888, 1.9888, 1.9888, 1.9888, 1.9887, 1.9887, 1.9887, 1.9887, 1.9885, 1.9876, 1.9875, 1.986, 1.9856, 1.9802, 1.9802, 1.9781, 1.9408, 0.9498, 1.5467, 1.4286, 1.4556, 0.944, -0.0021, 1.0199, 1.4261, 1.0358, 0.3838, 0.0689, -0.3893, -0.1459, -0.2736, -0.2541, 0.4123, -0.0351, 0.299, 0.4411, -0.2753, 1.996, 1.996, 1.9959, 1.9959, 1.9959, 1.9959, 1.9957, 1.9952, 1.995, 1.9949, 1.9948, 1.9945, 1.9943, 1.9939, 1.993, 1.9927, 1.9926, 1.9923, 1.9923, 1.9923, 1.9923, 1.9923, 1.9921, 1.9921, 1.9909, 1.9907, 1.9904, 1.9901, 1.9898, 1.9896, 1.9882, 0.3149, 1.5094, 1.1138, -0.6139, -0.8381, 0.0524, 0.7271, -0.0442, 0.4105, -0.7452, 0.6581, 2.1524, 2.1523, 2.1523, 2.1523, 2.1523, 2.1523, 2.1523, 2.1523, 2.1494, 2.1468, 2.1466, 2.145, 2.145, 2.1436, 2.1425, 2.1417, 2.1417, 2.1411, 2.1377, 2.1377, 2.1372, 2.1368, 2.1367, 2.1366, 2.1366, 2.1366, 2.1364, 2.136, 2.1358, 2.1358, 2.0909, 2.064, 1.9238, 1.8722, 2.0591, 1.8632, 1.7185, 0.7133, 1.7463, 0.4042, 1.4401, 0.9291, 0.9339, 0.1374, 0.1685]}, \"token.table\": {\"Topic\": [4, 4, 2, 1, 4, 1, 2, 3, 4, 1, 2, 1, 2, 3, 1, 4, 1, 2, 4, 1, 2, 3, 1, 5, 1, 2, 3, 4, 1, 5, 1, 3, 4, 1, 2, 3, 4, 1, 3, 4, 2, 1, 5, 1, 4, 3, 2, 2, 3, 2, 5, 4, 2, 5, 1, 4, 3, 5, 5, 2, 5, 2, 5, 4, 1, 2, 3, 4, 4, 5, 5, 3, 1, 5, 2, 5, 4, 4, 3, 3, 5, 1, 3, 4, 4, 4, 1, 2, 1, 2, 3, 3, 3, 5, 5, 4, 4, 1, 2, 3, 2, 1, 3, 1, 2, 4, 5, 5, 3, 1, 1, 5, 1, 4, 1, 1, 2, 1, 2, 3, 1, 2, 3, 4, 1, 2, 3, 1, 3, 4, 5, 5, 1, 3, 4, 1, 2, 3, 4, 2, 2, 3, 2, 1, 2, 3, 4, 2, 5, 4, 1, 1, 2, 5, 3, 3, 5, 3, 4, 5, 2, 2, 4, 3, 1, 2, 3, 1, 3, 1, 4, 2, 4, 5, 1, 5, 1, 2, 3, 5, 1, 1, 3, 1, 1, 5, 1, 4, 1, 1, 2, 1, 5, 2, 5, 3, 1, 2, 3, 4, 5, 4, 3, 5, 4, 3, 5, 3, 5, 1, 3, 4, 4, 2, 2, 4, 3, 3, 2, 3, 5, 1, 3, 4, 3, 3, 2, 2, 2, 5, 1, 3, 2, 2, 1, 1, 2, 1, 3, 1, 3, 1, 2, 1, 4, 5, 1, 2, 3, 4, 1, 2, 1, 2, 1, 2, 3, 4, 5, 2, 2, 3, 5, 5, 3, 5, 2, 3, 1, 1, 4, 5, 1, 1, 3, 4, 1, 2, 3, 4, 5, 4, 1, 5, 5, 2, 2, 1, 3, 2, 1, 4, 5, 1, 2, 3, 2, 3, 5, 3, 1, 2, 3, 5, 1, 3, 3, 1, 1, 5, 1, 1, 4, 5, 4, 5, 5, 4, 5, 3], \"Freq\": [0.9968541565525115, 0.9985631031451444, 0.9947023750461502, 0.9952573363153424, 0.994532865919866, 0.4161554552078239, 0.3224267490799356, 0.13122018857904358, 0.12981425798712523, 0.9983147552686278, 0.9937266226225376, 0.9988371358695578, 0.6497353431300896, 0.3497066484653903, 0.998356355254392, 0.9985302774365507, 0.9990795736824367, 0.9962668943027161, 0.9926391383337416, 0.8349139472007484, 0.07570829860210176, 0.0891518282604189, 0.7037286233331662, 0.2930352627128642, 0.3900480367935524, 0.22761516356227857, 0.35170551306943193, 0.03032545058180434, 0.05948214466044951, 0.939058539107522, 0.753497254496812, 0.10312089797314095, 0.14293985857663102, 0.4402745377031809, 0.010705763834727804, 0.382731057091519, 0.16593933943828096, 0.7229719300493215, 0.10742956390291121, 0.1684031001721311, 0.9963268524978356, 0.9755174593079219, 0.022132158762657915, 0.9982030394322047, 0.992049526420797, 0.9923659880468512, 0.9960858113411543, 0.9962443443506211, 0.9907039971432244, 0.35235538918348086, 0.6470526237733012, 0.9992558145798134, 0.9985590840764894, 0.984547811608625, 0.007012298060635179, 0.9887340265495603, 0.010010720453629688, 0.9860559646825242, 0.9797185971443418, 0.9991083905650144, 0.9936635288942067, 0.507320463533654, 0.49059561308748956, 0.99844096876591, 0.615357902890657, 0.20256046863764887, 0.11762374401330465, 0.0643835230388615, 0.9954313620785622, 0.9993480394281911, 0.9768172092322372, 0.9864444979771213, 0.9953883249762076, 0.9854642287740818, 0.9918562157727845, 0.007239826392502076, 0.9943767930089764, 0.9963314530788108, 0.9968102070942895, 0.33223053971300215, 0.6644610794260043, 0.41486476730122995, 0.5841973253833646, 0.9982566243037803, 0.9952785067423616, 0.9923318835650257, 0.6272811664085077, 0.3720704134799928, 0.9972800342131515, 0.9960570316461286, 0.9965821705411831, 0.9950970195877997, 0.9941178026025087, 0.9799651306748811, 0.9993669983788475, 0.9889890823148216, 0.9930268000383674, 0.6624953039008459, 0.13207753672678582, 0.20584424606887367, 0.9921951352712071, 0.6220282984784432, 0.3774606191844054, 0.34197571988661435, 0.657645615166566, 0.9958485830711156, 0.9822095049739149, 0.9958104209701363, 0.9953268442598877, 0.9975819701178888, 0.9961355318549545, 0.0030935886082452003, 0.9974115589035113, 0.992948281421621, 0.9953209523692631, 0.290532113886151, 0.7087706514585222, 0.4600901477714378, 0.5012772570697543, 0.03917798201547178, 0.31317735436668104, 0.44340952152906327, 0.2294566754765782, 0.013953446481683809, 0.35519082228015264, 0.6435635690818607, 0.0017583704073274881, 0.9953619467318376, 0.9964457787480799, 0.9984026896082979, 0.9973121288264593, 0.9993480394281911, 0.23950050681232146, 0.6379422590546381, 0.11975025340616073, 0.438229720755391, 0.38167439868493175, 0.14568177203490026, 0.03434773487001713, 0.9974258669600243, 0.9993281772623784, 0.9971237501217379, 0.9936516070138882, 0.3985480786257871, 0.36298988573724106, 0.1995209712079529, 0.03852137562925823, 0.08502980123232456, 0.914070363247489, 0.9941214057287445, 0.9970255091359119, 0.08216165055371738, 0.17007461664619497, 0.7476710200388281, 0.9935478315993157, 0.9925468374153881, 0.9993480394281911, 0.997396086954152, 0.9982566243037803, 0.9993480394281911, 0.9972215207939754, 0.9961120571859455, 0.9982566243037803, 0.9965419895910803, 0.3399608080732499, 0.6155668952766665, 0.044768501474666655, 0.9984879563404292, 0.996638301565206, 0.9427528541177466, 0.05516107125157028, 0.46153221641397896, 0.24275395798397595, 0.296699281980415, 0.9961194899609209, 0.9843289864784904, 0.43277518812388116, 0.46156394109613497, 0.10548010310325784, 0.9992688695766452, 0.9995410099968471, 0.4306662536159013, 0.5686140379772446, 0.9961712673852325, 0.9931687261627553, 0.006621124841085035, 0.9678416743910846, 0.03131252475971156, 0.9981529082034482, 0.997508492287988, 0.9914419172313357, 0.9966908626370794, 0.996305897976707, 0.9229537997121082, 0.07648788395404212, 0.9923016787413338, 0.31802618192130866, 0.15831871065078246, 0.23053426287745515, 0.2624757571315604, 0.030552733634361527, 0.9982566243037803, 0.9965821705411831, 0.994300126852296, 0.9970742561449782, 0.013771451510767623, 0.9777730572645013, 0.9935590614511389, 0.9764627867042648, 0.9964431839621783, 0.9947182373127442, 0.9938642348066408, 0.9958365564695667, 0.9934355406451084, 0.9935672952555337, 0.9930268000383674, 0.9910552517866296, 0.9908781143212345, 0.0052543344718333045, 0.9878148807046612, 0.0052543344718333045, 0.051682719473573724, 0.9464398003598189, 0.998937398400852, 0.9920182593302432, 0.99306906256181, 0.9916270060573061, 0.9950207633532302, 0.0876392269023116, 0.9129086135657459, 0.8160725557398951, 0.18369760716854214, 0.9935672952555337, 0.9977339239333637, 0.9949217932366603, 0.9972985405810343, 0.992081177730395, 0.013162116080433458, 0.9805776479922926, 0.9972384588298321, 0.9944322345779465, 0.42552293200941727, 0.5737387847317985, 0.5856052692961121, 0.2811937196179569, 0.1328575831222457, 0.49528307020370177, 0.35379405910275985, 0.0921323793215436, 0.05865570733203863, 0.9988596877925265, 0.9972198860612069, 0.7483482833428542, 0.2509521351772222, 0.4817023723884908, 0.13513753583065027, 0.1357442138815174, 0.07340804415492114, 0.17396493108614577, 0.9957635752133165, 0.9943395255432911, 0.9962013054124218, 0.9985748814926491, 0.9834038909083502, 0.9966499646013899, 0.9812303167641905, 0.9976379392539165, 0.9974102903543552, 0.9955440713451024, 0.5852056152539106, 0.41308631664981926, 0.977071286887763, 0.9985767411829135, 0.8078964532829429, 0.043670078555834754, 0.14788276601862224, 0.4008784220429955, 0.07286767289917724, 0.10345934898512921, 0.18588692066116644, 0.23687304747108637, 0.9929084274331261, 0.9966513960213018, 0.977071286887763, 0.999214790754957, 0.9949550899834887, 0.9992787449282159, 0.7875171840633924, 0.21198446957233058, 0.9955981506175444, 0.38319971245976925, 0.6124032787908462, 0.9926919351470439, 0.3344591408081755, 0.09909900468390385, 0.5673418018153495, 0.0052543344718333045, 0.9878148807046612, 0.0052543344718333045, 0.9991499339796018, 0.5758526148549239, 0.19878747800471347, 0.08677231182745429, 0.13725802052706404, 0.815862925893457, 0.18308402783751826, 0.9960523735248359, 0.9980467498203056, 0.9876598348872844, 0.01189951608297933, 0.9950919484861694, 0.1814146770753265, 0.06402870955599758, 0.7548647863443926, 0.2047031774343288, 0.7948987871398469, 0.9938295325988801, 0.9930268000383674, 0.9834737308690762, 0.9947583397232012], \"Term\": [\"0\", \"1845\", \"20\", \"2021\", \"4518\", \"a\", \"a\", \"a\", \"a\", \"about\", \"action\", \"administered\", \"africa\", \"africa\", \"against\", \"age\", \"all\", \"also\", \"america\", \"amp\", \"amp\", \"amp\", \"an\", \"an\", \"and\", \"and\", \"and\", \"and\", \"another\", \"another\", \"are\", \"are\", \"are\", \"as\", \"as\", \"as\", \"as\", \"at\", \"at\", \"at\", \"australia\", \"been\", \"been\", \"being\", \"benefit\", \"best\", \"blown\", \"bringing\", \"buy\", \"by\", \"by\", \"capacity\", \"cases\", \"cheap\", \"children\", \"children\", \"china\", \"china\", \"colonial\", \"coronavirus\", \"cost\", \"countries\", \"countries\", \"covaxin\", \"covid19\", \"covid19\", \"covid19\", \"covid19\", \"covishield\", \"crime\", \"date\", \"day\", \"days\", \"deal\", \"deaths\", \"deaths\", \"delta\", \"designers\", \"desperate\", \"do\", \"do\", \"dont\", \"dont\", \"dose1\", \"dose2\", \"dose2\\u2026\", \"doses\", \"doses\", \"each\", \"elsewhere\", \"enable\", \"every\", \"experts\", \"expire\", \"expired\", \"find\", \"fireworks\", \"for\", \"for\", \"for\", \"friday\", \"from\", \"from\", \"full\", \"full\", \"fully\", \"future\", \"g7\", \"germany\", \"get\", \"go\", \"go\", \"government\", \"graphic\", \"had\", \"has\", \"has\", \"have\", \"have\", \"have\", \"health\", \"health\", \"health\", \"health\", \"help\", \"help\", \"help\", \"here\", \"hers\", \"hospital\", \"httpstcombbxzcwqqz\", \"httpstcoti0vk8dqlw\", \"i\", \"i\", \"i\", \"in\", \"in\", \"in\", \"in\", \"increased\", \"india\", \"indian\", \"into\", \"is\", \"is\", \"is\", \"is\", \"israel\", \"israel\", \"it\\u2019s\", \"june\", \"just\", \"just\", \"just\", \"know\", \"leaders\", \"liars\", \"lift\", \"limit\", \"load\", \"midst\", \"million\", \"min\", \"moeti\", \"more\", \"more\", \"more\", \"need\", \"nft\", \"no\", \"no\", \"not\", \"not\", \"not\", \"now\", \"occupation\", \"of\", \"of\", \"of\", \"off\", \"on\", \"one\", \"one\", \"ontario\", \"or\", \"or\", \"other\", \"other\", \"out\", \"over\", \"overwhelm\", \"oxygen\", \"palestinians\", \"pandemic\", \"pandemic\", \"patent\", \"people\", \"people\", \"people\", \"people\", \"people\", \"pin\", \"plead\", \"please\", \"pmcg\", \"post\", \"post\", \"production\", \"propaganda\", \"provide\", \"public\", \"puts\", \"question\", \"quickly\", \"rebound\", \"release\", \"request\", \"restrictions\", \"retweet\", \"retweet\", \"retweet\", \"rich\", \"rich\", \"risk\", \"roberts\", \"safe\", \"seen\", \"sending\", \"sent\", \"sent\", \"so\", \"so\", \"sobering\", \"south\", \"stand\", \"support\", \"surging\", \"taiwan\", \"taiwan\", \"take\", \"technology\", \"than\", \"than\", \"that\", \"that\", \"that\", \"the\", \"the\", \"the\", \"the\", \"them\", \"third\", \"this\", \"this\", \"to\", \"to\", \"to\", \"to\", \"to\", \"total\", \"trajectory\", \"transfer\", \"tried\", \"tripswaiver\", \"uk\", \"unrestrictedbioweapon\", \"urgent\", \"urgently\", \"us\", \"vaccinated\", \"vaccinated\", \"vaccinateourworld\", \"vaccination\", \"vaccine\", \"vaccine\", \"vaccine\", \"vaccines\", \"vaccines\", \"vaccines\", \"vaccines\", \"vaccines\", \"variant\", \"via\", \"vownow\", \"war\", \"was\", \"wave\", \"we\", \"we\", \"week\", \"what\", \"what\", \"when\", \"who\", \"who\", \"who\", \"whoindia\", \"whoindia\", \"whoindia\", \"why\", \"will\", \"will\", \"will\", \"will\", \"with\", \"with\", \"wolfofwallst\", \"workers\", \"world\", \"world\", \"yet\", \"you\", \"you\", \"you\", \"your\", \"your\", \"zimbabwe\", \"zweli\", \"\\ud83d\\udc47\\ud83c\\udffb\", \"\\ud83d\\udd30\"]}, \"R\": 30, \"lambda.step\": 0.01, \"plot.opts\": {\"xlab\": \"PC1\", \"ylab\": \"PC2\"}, \"topic.order\": [3, 2, 4, 1, 5]};\n",
       "\n",
       "function LDAvis_load_lib(url, callback){\n",
       "  var s = document.createElement('script');\n",
       "  s.src = url;\n",
       "  s.async = true;\n",
       "  s.onreadystatechange = s.onload = callback;\n",
       "  s.onerror = function(){console.warn(\"failed to load library \" + url);};\n",
       "  document.getElementsByTagName(\"head\")[0].appendChild(s);\n",
       "}\n",
       "\n",
       "if(typeof(LDAvis) !== \"undefined\"){\n",
       "   // already loaded: just create the visualization\n",
       "   !function(LDAvis){\n",
       "       new LDAvis(\"#\" + \"ldavis_el110321140107178685600464823506\", ldavis_el110321140107178685600464823506_data);\n",
       "   }(LDAvis);\n",
       "}else if(typeof define === \"function\" && define.amd){\n",
       "   // require.js is available: use it to load d3/LDAvis\n",
       "   require.config({paths: {d3: \"https://d3js.org/d3.v5\"}});\n",
       "   require([\"d3\"], function(d3){\n",
       "      window.d3 = d3;\n",
       "      LDAvis_load_lib(\"https://cdn.jsdelivr.net/gh/bmabey/pyLDAvis@3.3.1/pyLDAvis/js/ldavis.v3.0.0.js\", function(){\n",
       "        new LDAvis(\"#\" + \"ldavis_el110321140107178685600464823506\", ldavis_el110321140107178685600464823506_data);\n",
       "      });\n",
       "    });\n",
       "}else{\n",
       "    // require.js not available: dynamically load d3 & LDAvis\n",
       "    LDAvis_load_lib(\"https://d3js.org/d3.v5.js\", function(){\n",
       "         LDAvis_load_lib(\"https://cdn.jsdelivr.net/gh/bmabey/pyLDAvis@3.3.1/pyLDAvis/js/ldavis.v3.0.0.js\", function(){\n",
       "                 new LDAvis(\"#\" + \"ldavis_el110321140107178685600464823506\", ldavis_el110321140107178685600464823506_data);\n",
       "            })\n",
       "         });\n",
       "}\n",
       "</script>"
      ],
      "text/plain": [
       "PreparedData(topic_coordinates=              x         y  topics  cluster       Freq\n",
       "topic                                                \n",
       "2      0.143179 -0.017964       1        1  40.259809\n",
       "1      0.148655  0.141499       2        1  20.954465\n",
       "3      0.140621  0.028667       3        1  13.606762\n",
       "0     -0.099178 -0.312771       4        1  13.570605\n",
       "4     -0.333277  0.160568       5        1  11.608359, topic_info=          Term         Freq        Total Category  logprob  loglift\n",
       "93         you  1780.000000  1780.000000  Default  30.0000  30.0000\n",
       "309      india  1452.000000  1452.000000  Default  29.0000  29.0000\n",
       "6           by  1404.000000  1404.000000  Default  28.0000  28.0000\n",
       "22          of  4237.000000  4237.000000  Default  27.0000  27.0000\n",
       "219       just  1217.000000  1217.000000  Default  26.0000  26.0000\n",
       "..         ...          ...          ...      ...      ...      ...\n",
       "651  countries   175.784548   358.747603   Topic5  -4.8829   1.4401\n",
       "184         an   132.416317   450.457733   Topic5  -5.1662   0.9291\n",
       "532        not    98.554084   333.671182   Topic5  -5.4615   0.9339\n",
       "116       that   103.253071   775.266248   Topic5  -5.4149   0.1374\n",
       "153       will    87.079933   633.842741   Topic5  -5.5853   0.1685\n",
       "\n",
       "[281 rows x 6 columns], token_table=      Topic      Freq      Term\n",
       "term                           \n",
       "858       4  0.996854         0\n",
       "831       4  0.998563      1845\n",
       "1         2  0.994702        20\n",
       "633       1  0.995257      2021\n",
       "1171      4  0.994533      4518\n",
       "...     ...       ...       ...\n",
       "175       5  0.794899      your\n",
       "1402      5  0.993830  zimbabwe\n",
       "3686      4  0.993027     zweli\n",
       "2947      5  0.983474        👇🏻\n",
       "9021      3  0.994758         🔰\n",
       "\n",
       "[320 rows x 3 columns], R=30, lambda_step=0.01, plot_opts={'xlab': 'PC1', 'ylab': 'PC2'}, topic_order=[3, 2, 4, 1, 5])"
      ]
     },
     "execution_count": 153,
     "metadata": {},
     "output_type": "execute_result"
    }
   ],
   "source": [
    "# Importing pyLDAvis package\n",
    "\n",
    "import pyLDAvis.gensim_models as gensimvis\n",
    "import pickle \n",
    "import pyLDAvis\n",
    "# Visualize the topics\n",
    "pyLDAvis.enable_notebook()\n",
    "\n",
    "LDAvis_prepared = gensimvis.prepare(lda_model, corpus, id2word)\n",
    "LDAvis_prepared"
   ]
  },
  {
   "cell_type": "markdown",
   "id": "c505b544",
   "metadata": {},
   "source": [
    "#### Conclusion on Topic Modelling\n",
    "This shows that Topic1 which can be described as \"Indian Vaccine known as 'covaxin' describing the dosage, age and capacity\" and Topic3 that can be described as \"Covid19 Vaccines\", are related."
   ]
  },
  {
   "cell_type": "code",
   "execution_count": null,
   "id": "c293c85d",
   "metadata": {},
   "outputs": [],
   "source": []
  }
 ],
 "metadata": {
  "kernelspec": {
   "display_name": "Python 3",
   "language": "python",
   "name": "python3"
  },
  "language_info": {
   "codemirror_mode": {
    "name": "ipython",
    "version": 3
   },
   "file_extension": ".py",
   "mimetype": "text/x-python",
   "name": "python",
   "nbconvert_exporter": "python",
   "pygments_lexer": "ipython3",
   "version": "3.8.8"
  }
 },
 "nbformat": 4,
 "nbformat_minor": 5
}
